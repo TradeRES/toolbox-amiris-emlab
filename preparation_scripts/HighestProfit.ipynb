{
 "cells": [
  {
   "cell_type": "code",
   "execution_count": 178,
   "metadata": {},
   "outputs": [],
   "source": [
    "\n",
    "\n",
    "import pandas as pd\n",
    "path = \"C:\\\\Users\\\\isanchezjimene\\\\Documents\\\\TraderesCode\\\\toolbox-amiris-emlab\\\\scripts\"\n",
    "csv_files = glob(path+\"AMIRIS_combined*\")\n",
    "data = pd.concat(map(process_file, csv_files))\n",
    "for file in csv_files:\n",
    "    \n",
    "# Conventional operator"
   ]
  },
  {
   "cell_type": "code",
   "execution_count": null,
   "metadata": {},
   "outputs": [],
   "source": [
    "# from the proposed power plants, extract the project value \n",
    "#Divide by capacity, in order not to favour large power plants (which have the single largest NPV"
   ]
  },
  {
   "cell_type": "code",
   "execution_count": 1,
   "metadata": {},
   "outputs": [],
   "source": [
    "#math.round(projectValue / (plant.getActualNominalCapacity() * 1e3)) / 1e3"
   ]
  },
  {
   "cell_type": "code",
   "execution_count": null,
   "metadata": {},
   "outputs": [],
   "source": []
  },
  {
   "cell_type": "code",
   "execution_count": null,
   "metadata": {},
   "outputs": [],
   "source": [
    "\n",
    "\n"
   ]
  },
  {
   "cell_type": "code",
   "execution_count": 180,
   "metadata": {},
   "outputs": [],
   "source": [
    "profits = []"
   ]
  },
  {
   "cell_type": "code",
   "execution_count": 181,
   "metadata": {},
   "outputs": [],
   "source": [
    "#conventional and renewable profits\n",
    "def process_file(filepath: str) -> pd.DataFrame:\n",
    "filtered = df[df['variable'].isin([\"CostsInEUR\",\"ReceivedMoneyInEUR\"])]\n",
    "agents = filtered.AgentId.unique()\n",
    "filtered.set_index(\"AgentId\", \"variable\")\n",
    "for agent in agents:\n",
    "    revenue = filtered.loc[(filtered['variable'] == 'ReceivedMoneyInEUR') & (filtered['AgentId'] == agent)].value.item()\n",
    "    costs   = filtered.loc[(filtered['variable'] == 'CostsInEUR') & (filtered['AgentId'] == agent)].value.item()\n",
    "    profits.append([agent,(revenue - costs)])\n",
    "# batteries\n",
    "profitbatteries  = df.loc[df['variable'] == 'Profit']\n",
    "agents = profitbatteries.AgentId.unique()\n",
    "for agent in agents:\n",
    "    profits.append([agent, profitbatteries.loc[(profitbatteries['AgentId'] == agent)].value.item()])\n",
    "#highest profits\n",
    "dfprofits = pd.DataFrame(profits, columns=[\"Agent\", \"profit\"])\n",
    "dfprofits = dfprofits.sort_values(by=['profit'], ascending=False)\n",
    "HighestProfitAgent = dfprofits.iloc[0].Agent\n",
    "BestInvestment = df.loc[(df['AgentId'] == HighestProfitAgent)]"
   ]
  },
  {
   "cell_type": "code",
   "execution_count": 182,
   "metadata": {},
   "outputs": [],
   "source": [
    "BestInvestment.to_csv('Bestinvestment.csv', index=True)"
   ]
  },
  {
   "cell_type": "code",
   "execution_count": 183,
   "metadata": {},
   "outputs": [
    {
     "data": {
      "text/html": [
       "<div>\n",
       "<style scoped>\n",
       "    .dataframe tbody tr th:only-of-type {\n",
       "        vertical-align: middle;\n",
       "    }\n",
       "\n",
       "    .dataframe tbody tr th {\n",
       "        vertical-align: top;\n",
       "    }\n",
       "\n",
       "    .dataframe thead th {\n",
       "        text-align: right;\n",
       "    }\n",
       "</style>\n",
       "<table border=\"1\" class=\"dataframe\">\n",
       "  <thead>\n",
       "    <tr style=\"text-align: right;\">\n",
       "      <th></th>\n",
       "      <th>Agent</th>\n",
       "      <th>profit</th>\n",
       "    </tr>\n",
       "  </thead>\n",
       "  <tbody>\n",
       "    <tr>\n",
       "      <th>6</th>\n",
       "      <td>50</td>\n",
       "      <td>1.053646e+09</td>\n",
       "    </tr>\n",
       "    <tr>\n",
       "      <th>5</th>\n",
       "      <td>20</td>\n",
       "      <td>6.468664e+08</td>\n",
       "    </tr>\n",
       "    <tr>\n",
       "      <th>7</th>\n",
       "      <td>51</td>\n",
       "      <td>3.132360e+08</td>\n",
       "    </tr>\n",
       "    <tr>\n",
       "      <th>4</th>\n",
       "      <td>10</td>\n",
       "      <td>1.026501e+08</td>\n",
       "    </tr>\n",
       "    <tr>\n",
       "      <th>8</th>\n",
       "      <td>52</td>\n",
       "      <td>8.848934e+07</td>\n",
       "    </tr>\n",
       "    <tr>\n",
       "      <th>1</th>\n",
       "      <td>503</td>\n",
       "      <td>8.183587e+07</td>\n",
       "    </tr>\n",
       "    <tr>\n",
       "      <th>9</th>\n",
       "      <td>53</td>\n",
       "      <td>4.130485e+07</td>\n",
       "    </tr>\n",
       "    <tr>\n",
       "      <th>0</th>\n",
       "      <td>501</td>\n",
       "      <td>1.827324e+07</td>\n",
       "    </tr>\n",
       "    <tr>\n",
       "      <th>10</th>\n",
       "      <td>7</td>\n",
       "      <td>1.638481e+07</td>\n",
       "    </tr>\n",
       "    <tr>\n",
       "      <th>2</th>\n",
       "      <td>504</td>\n",
       "      <td>8.265401e+04</td>\n",
       "    </tr>\n",
       "    <tr>\n",
       "      <th>3</th>\n",
       "      <td>505</td>\n",
       "      <td>0.000000e+00</td>\n",
       "    </tr>\n",
       "  </tbody>\n",
       "</table>\n",
       "</div>"
      ],
      "text/plain": [
       "    Agent        profit\n",
       "6      50  1.053646e+09\n",
       "5      20  6.468664e+08\n",
       "7      51  3.132360e+08\n",
       "4      10  1.026501e+08\n",
       "8      52  8.848934e+07\n",
       "1     503  8.183587e+07\n",
       "9      53  4.130485e+07\n",
       "0     501  1.827324e+07\n",
       "10      7  1.638481e+07\n",
       "2     504  8.265401e+04\n",
       "3     505  0.000000e+00"
      ]
     },
     "execution_count": 183,
     "metadata": {},
     "output_type": "execute_result"
    }
   ],
   "source": []
  },
  {
   "cell_type": "code",
   "execution_count": 198,
   "metadata": {},
   "outputs": [],
   "source": []
  }
 ],
 "metadata": {
  "kernelspec": {
   "display_name": "hello_spinetoolbox",
   "language": "python",
   "name": "hello"
  },
  "language_info": {
   "codemirror_mode": {
    "name": "ipython",
    "version": 3
   },
   "file_extension": ".py",
   "mimetype": "text/x-python",
   "name": "python",
   "nbconvert_exporter": "python",
   "pygments_lexer": "ipython3",
   "version": "3.7.9"
  }
 },
 "nbformat": 4,
 "nbformat_minor": 1
}
