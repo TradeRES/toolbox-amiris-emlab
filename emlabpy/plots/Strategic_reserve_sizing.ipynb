{
 "cells": [
  {
   "cell_type": "code",
   "execution_count": 1,
   "id": "guided-horror",
   "metadata": {},
   "outputs": [],
   "source": [
    "import os\n",
    "import matplotlib.pyplot as plt\n",
    "import matplotlib as mpl\n",
    "import numpy as np\n",
    "import pandas as pd\n",
    "import seaborn as sns\n",
    "sns.set_theme(style=\"whitegrid\")\n",
    "import statistics\n",
    "import math"
   ]
  },
  {
   "cell_type": "code",
   "execution_count": 2,
   "id": "overall-future",
   "metadata": {},
   "outputs": [],
   "source": [
    "scenarioname = \"NL-LowRES_(2010)\"\n"
   ]
  },
  {
   "cell_type": "code",
   "execution_count": 3,
   "id": "asian-wedding",
   "metadata": {},
   "outputs": [],
   "source": [
    "years = list(range(2050,2090))"
   ]
  },
  {
   "cell_type": "code",
   "execution_count": 4,
   "id": "retired-flexibility",
   "metadata": {},
   "outputs": [],
   "source": [
    "df = pd.DataFrame()"
   ]
  },
  {
   "cell_type": "code",
   "execution_count": 5,
   "id": "western-improvement",
   "metadata": {},
   "outputs": [],
   "source": [
    "for year in years:    \n",
    "    path_to_results = os.path.join(os.getcwd(), \"Scenarios\", scenarioname,  (str(year) + \".xlsx\"))\n",
    "    data = pd.read_excel(path_to_results, sheet_name='energy_exchange', index_col=0)\n",
    "    df.at[:, year] = data[\"ElectricityPriceInEURperMWH\"]"
   ]
  },
  {
   "cell_type": "code",
   "execution_count": 6,
   "id": "proprietary-certificate",
   "metadata": {},
   "outputs": [
    {
     "data": {
      "text/html": [
       "<div>\n",
       "<style scoped>\n",
       "    .dataframe tbody tr th:only-of-type {\n",
       "        vertical-align: middle;\n",
       "    }\n",
       "\n",
       "    .dataframe tbody tr th {\n",
       "        vertical-align: top;\n",
       "    }\n",
       "\n",
       "    .dataframe thead th {\n",
       "        text-align: right;\n",
       "    }\n",
       "</style>\n",
       "<table border=\"1\" class=\"dataframe\">\n",
       "  <thead>\n",
       "    <tr style=\"text-align: right;\">\n",
       "      <th></th>\n",
       "      <th>2050</th>\n",
       "      <th>2051</th>\n",
       "      <th>2052</th>\n",
       "      <th>2053</th>\n",
       "      <th>2054</th>\n",
       "      <th>2055</th>\n",
       "      <th>2056</th>\n",
       "      <th>2057</th>\n",
       "      <th>2058</th>\n",
       "      <th>2059</th>\n",
       "      <th>...</th>\n",
       "      <th>2080</th>\n",
       "      <th>2081</th>\n",
       "      <th>2082</th>\n",
       "      <th>2083</th>\n",
       "      <th>2084</th>\n",
       "      <th>2085</th>\n",
       "      <th>2086</th>\n",
       "      <th>2087</th>\n",
       "      <th>2088</th>\n",
       "      <th>2089</th>\n",
       "    </tr>\n",
       "  </thead>\n",
       "  <tbody>\n",
       "    <tr>\n",
       "      <th>0</th>\n",
       "      <td>33.0</td>\n",
       "      <td>33.0</td>\n",
       "      <td>48.580253</td>\n",
       "      <td>33.0</td>\n",
       "      <td>33.0</td>\n",
       "      <td>33.0</td>\n",
       "      <td>33.0</td>\n",
       "      <td>33.000000</td>\n",
       "      <td>33.0</td>\n",
       "      <td>48.580253</td>\n",
       "      <td>...</td>\n",
       "      <td>33.0</td>\n",
       "      <td>33.0</td>\n",
       "      <td>33.0</td>\n",
       "      <td>33.0</td>\n",
       "      <td>33.0</td>\n",
       "      <td>33.0</td>\n",
       "      <td>33.000000</td>\n",
       "      <td>33.0</td>\n",
       "      <td>33.0</td>\n",
       "      <td>33.0</td>\n",
       "    </tr>\n",
       "    <tr>\n",
       "      <th>1</th>\n",
       "      <td>33.0</td>\n",
       "      <td>33.0</td>\n",
       "      <td>48.580253</td>\n",
       "      <td>33.0</td>\n",
       "      <td>33.0</td>\n",
       "      <td>33.0</td>\n",
       "      <td>33.0</td>\n",
       "      <td>33.000000</td>\n",
       "      <td>33.0</td>\n",
       "      <td>48.580253</td>\n",
       "      <td>...</td>\n",
       "      <td>33.0</td>\n",
       "      <td>33.0</td>\n",
       "      <td>33.0</td>\n",
       "      <td>33.0</td>\n",
       "      <td>33.0</td>\n",
       "      <td>33.0</td>\n",
       "      <td>33.000000</td>\n",
       "      <td>33.0</td>\n",
       "      <td>33.0</td>\n",
       "      <td>33.0</td>\n",
       "    </tr>\n",
       "    <tr>\n",
       "      <th>2</th>\n",
       "      <td>33.0</td>\n",
       "      <td>33.0</td>\n",
       "      <td>48.580253</td>\n",
       "      <td>33.0</td>\n",
       "      <td>33.0</td>\n",
       "      <td>33.0</td>\n",
       "      <td>33.0</td>\n",
       "      <td>33.000000</td>\n",
       "      <td>33.0</td>\n",
       "      <td>48.580253</td>\n",
       "      <td>...</td>\n",
       "      <td>33.0</td>\n",
       "      <td>33.0</td>\n",
       "      <td>33.0</td>\n",
       "      <td>33.0</td>\n",
       "      <td>33.0</td>\n",
       "      <td>33.0</td>\n",
       "      <td>33.000000</td>\n",
       "      <td>33.0</td>\n",
       "      <td>33.0</td>\n",
       "      <td>33.0</td>\n",
       "    </tr>\n",
       "    <tr>\n",
       "      <th>3</th>\n",
       "      <td>33.0</td>\n",
       "      <td>33.0</td>\n",
       "      <td>48.580253</td>\n",
       "      <td>33.0</td>\n",
       "      <td>33.0</td>\n",
       "      <td>33.0</td>\n",
       "      <td>33.0</td>\n",
       "      <td>48.580253</td>\n",
       "      <td>33.0</td>\n",
       "      <td>48.580253</td>\n",
       "      <td>...</td>\n",
       "      <td>33.0</td>\n",
       "      <td>33.0</td>\n",
       "      <td>33.0</td>\n",
       "      <td>33.0</td>\n",
       "      <td>33.0</td>\n",
       "      <td>33.0</td>\n",
       "      <td>48.580253</td>\n",
       "      <td>33.0</td>\n",
       "      <td>33.0</td>\n",
       "      <td>33.0</td>\n",
       "    </tr>\n",
       "    <tr>\n",
       "      <th>4</th>\n",
       "      <td>33.0</td>\n",
       "      <td>33.0</td>\n",
       "      <td>114.250000</td>\n",
       "      <td>33.0</td>\n",
       "      <td>33.0</td>\n",
       "      <td>33.0</td>\n",
       "      <td>33.0</td>\n",
       "      <td>48.580253</td>\n",
       "      <td>33.0</td>\n",
       "      <td>48.580253</td>\n",
       "      <td>...</td>\n",
       "      <td>33.0</td>\n",
       "      <td>33.0</td>\n",
       "      <td>33.0</td>\n",
       "      <td>33.0</td>\n",
       "      <td>33.0</td>\n",
       "      <td>33.0</td>\n",
       "      <td>48.580253</td>\n",
       "      <td>33.0</td>\n",
       "      <td>33.0</td>\n",
       "      <td>33.0</td>\n",
       "    </tr>\n",
       "  </tbody>\n",
       "</table>\n",
       "<p>5 rows × 40 columns</p>\n",
       "</div>"
      ],
      "text/plain": [
       "   2050  2051        2052  2053  2054  2055  2056       2057  2058       2059  \\\n",
       "0  33.0  33.0   48.580253  33.0  33.0  33.0  33.0  33.000000  33.0  48.580253   \n",
       "1  33.0  33.0   48.580253  33.0  33.0  33.0  33.0  33.000000  33.0  48.580253   \n",
       "2  33.0  33.0   48.580253  33.0  33.0  33.0  33.0  33.000000  33.0  48.580253   \n",
       "3  33.0  33.0   48.580253  33.0  33.0  33.0  33.0  48.580253  33.0  48.580253   \n",
       "4  33.0  33.0  114.250000  33.0  33.0  33.0  33.0  48.580253  33.0  48.580253   \n",
       "\n",
       "   ...  2080  2081  2082  2083  2084  2085       2086  2087  2088  2089  \n",
       "0  ...  33.0  33.0  33.0  33.0  33.0  33.0  33.000000  33.0  33.0  33.0  \n",
       "1  ...  33.0  33.0  33.0  33.0  33.0  33.0  33.000000  33.0  33.0  33.0  \n",
       "2  ...  33.0  33.0  33.0  33.0  33.0  33.0  33.000000  33.0  33.0  33.0  \n",
       "3  ...  33.0  33.0  33.0  33.0  33.0  33.0  48.580253  33.0  33.0  33.0  \n",
       "4  ...  33.0  33.0  33.0  33.0  33.0  33.0  48.580253  33.0  33.0  33.0  \n",
       "\n",
       "[5 rows x 40 columns]"
      ]
     },
     "execution_count": 6,
     "metadata": {},
     "output_type": "execute_result"
    }
   ],
   "source": [
    "df.head()"
   ]
  },
  {
   "cell_type": "code",
   "execution_count": 7,
   "id": "further-floating",
   "metadata": {},
   "outputs": [],
   "source": [
    "yearly_electricity_prices = pd.concat([df[2050]] + [df[column] for column in df.columns[1:]], axis=0, ignore_index=True)\n"
   ]
  },
  {
   "cell_type": "code",
   "execution_count": 8,
   "id": "natural-insider",
   "metadata": {},
   "outputs": [],
   "source": [
    "a = yearly_electricity_prices.sort_values( ascending=False)"
   ]
  },
  {
   "cell_type": "code",
   "execution_count": 11,
   "id": "aerial-trading",
   "metadata": {},
   "outputs": [],
   "source": [
    "df = pd.DataFrame({'a': a})"
   ]
  },
  {
   "cell_type": "code",
   "execution_count": 14,
   "id": "downtown-reduction",
   "metadata": {},
   "outputs": [
    {
     "data": {
      "text/plain": [
       "a    33.0\n",
       "Name: 4000, dtype: float64"
      ]
     },
     "execution_count": 14,
     "metadata": {},
     "output_type": "execute_result"
    }
   ],
   "source": [
    "df.loc[4000]"
   ]
  },
  {
   "cell_type": "code",
   "execution_count": null,
   "id": "23f4cd79",
   "metadata": {},
   "outputs": [],
   "source": []
  }
 ],
 "metadata": {
  "kernelspec": {
   "display_name": "emlabpy",
   "language": "python",
   "name": "python3"
  },
  "language_info": {
   "codemirror_mode": {
    "name": "ipython",
    "version": 3
   },
   "file_extension": ".py",
   "mimetype": "text/x-python",
   "name": "python",
   "nbconvert_exporter": "python",
   "pygments_lexer": "ipython3",
   "version": "3.8.13"
  }
 },
 "nbformat": 4,
 "nbformat_minor": 5
}
