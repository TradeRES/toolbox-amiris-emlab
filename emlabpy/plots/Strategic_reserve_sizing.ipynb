{
 "cells": [
  {
   "cell_type": "code",
   "execution_count": 91,
   "id": "existing-robertson",
   "metadata": {},
   "outputs": [],
   "source": [
    "import os\n",
    "import matplotlib.pyplot as plt\n",
    "import matplotlib as mpl\n",
    "import numpy as np\n",
    "import pandas as pd\n",
    "import seaborn as sns\n",
    "sns.set_theme(style=\"whitegrid\")\n",
    "import statistics\n",
    "import math"
   ]
  },
  {
   "cell_type": "code",
   "execution_count": 92,
   "id": "tender-parcel",
   "metadata": {},
   "outputs": [
    {
     "data": {
      "text/plain": [
       "160"
      ]
     },
     "execution_count": 92,
     "metadata": {},
     "output_type": "execute_result"
    }
   ],
   "source": [
    "scenarioname = \"NL-iteration1\"\n",
    "#shortages per year\n",
    "LOLE = 4\n",
    "years = list(range(2050,2090))\n",
    "LOLE_hours = LOLE * len(years)\n",
    "LOLE_hours"
   ]
  },
  {
   "cell_type": "code",
   "execution_count": 93,
   "id": "roman-disclaimer",
   "metadata": {},
   "outputs": [],
   "source": [
    "prices = pd.DataFrame()\n",
    "residual_load = pd.DataFrame()\n",
    "load = pd.DataFrame()"
   ]
  },
  {
   "cell_type": "code",
   "execution_count": 94,
   "id": "unavailable-updating",
   "metadata": {},
   "outputs": [],
   "source": [
    "# for year in years:    \n",
    "#     RL = pd.read_excel(path_to_results, sheet_name='residual_load', index_col=0)\n",
    "#     load.at[:, year] = RL[\"residual_load\"]     \n",
    "\n",
    "path_to_plots =  os.path.join(os.getcwd(), \"Scenarios\", scenarioname)"
   ]
  },
  {
   "cell_type": "code",
   "execution_count": 95,
   "id": "trying-rough",
   "metadata": {},
   "outputs": [],
   "source": [
    "# data preparation\n",
    "for year in years:    \n",
    "    path_to_results = os.path.join(os.getcwd(), \"Scenarios\", scenarioname,  (str(year) + \".xlsx\"))\n",
    "    data = pd.read_excel(path_to_results, sheet_name='energy_exchange', index_col=0)\n",
    "    prices.at[:, year] = data[\"ElectricityPriceInEURperMWH\"]\n",
    "    \n",
    "    L = pd.read_excel(path_to_results, sheet_name='energy_exchange', index_col=0)\n",
    "    load.at[:, year] = L[\"TotalAwardedPowerInMW\"]     "
   ]
  },
  {
   "cell_type": "code",
   "execution_count": 96,
   "id": "upset-israeli",
   "metadata": {},
   "outputs": [],
   "source": [
    "for year in years:    \n",
    "    path_to_results = os.path.join(os.getcwd(), \"Scenarios\", scenarioname,  (str(year) + \".xlsx\"))\n",
    "    data = pd.read_excel(path_to_results, sheet_name='energy_exchange', index_col=0)\n",
    "    prices.at[:, year] = data[\"ElectricityPriceInEURperMWH\"]"
   ]
  },
  {
   "cell_type": "code",
   "execution_count": 97,
   "id": "visible-dayton",
   "metadata": {},
   "outputs": [],
   "source": [
    "yearly_electricity_prices = pd.concat([prices[2050]] + [prices[column] for column in prices.columns[1:]], axis=0, ignore_index=True)\n",
    "yearly_load = pd.concat([load[2050]] + [load[column] for column in load.columns[1:]],   axis=0, ignore_index=True)"
   ]
  },
  {
   "cell_type": "code",
   "execution_count": 98,
   "id": "identified-correspondence",
   "metadata": {},
   "outputs": [],
   "source": [
    "prices_load = pd.concat([yearly_electricity_prices, yearly_load], axis=1)"
   ]
  },
  {
   "cell_type": "code",
   "execution_count": 99,
   "id": "acting-driver",
   "metadata": {},
   "outputs": [],
   "source": [
    "prices_load.columns = ['price', 'load']\n",
    "prices_load[\"revenues\"] =  prices_load[\"price\"]*prices_load['load']\n",
    "prices_load.sort_values(by=\"price\", ascending=False, inplace=True)\n",
    "prices_load.reset_index(inplace=True)"
   ]
  },
  {
   "cell_type": "code",
   "execution_count": 100,
   "id": "decimal-innocent",
   "metadata": {},
   "outputs": [
    {
     "data": {
      "text/html": [
       "<div>\n",
       "<style scoped>\n",
       "    .dataframe tbody tr th:only-of-type {\n",
       "        vertical-align: middle;\n",
       "    }\n",
       "\n",
       "    .dataframe tbody tr th {\n",
       "        vertical-align: top;\n",
       "    }\n",
       "\n",
       "    .dataframe thead th {\n",
       "        text-align: right;\n",
       "    }\n",
       "</style>\n",
       "<table border=\"1\" class=\"dataframe\">\n",
       "  <thead>\n",
       "    <tr style=\"text-align: right;\">\n",
       "      <th></th>\n",
       "      <th>index</th>\n",
       "      <th>price</th>\n",
       "      <th>load</th>\n",
       "      <th>revenues</th>\n",
       "    </tr>\n",
       "  </thead>\n",
       "  <tbody>\n",
       "    <tr>\n",
       "      <th>0</th>\n",
       "      <td>307051</td>\n",
       "      <td>4000.0</td>\n",
       "      <td>19314.992591</td>\n",
       "      <td>7.725997e+07</td>\n",
       "    </tr>\n",
       "    <tr>\n",
       "      <th>1</th>\n",
       "      <td>333786</td>\n",
       "      <td>4000.0</td>\n",
       "      <td>19688.339562</td>\n",
       "      <td>7.875336e+07</td>\n",
       "    </tr>\n",
       "    <tr>\n",
       "      <th>2</th>\n",
       "      <td>262864</td>\n",
       "      <td>4000.0</td>\n",
       "      <td>21888.379899</td>\n",
       "      <td>8.755352e+07</td>\n",
       "    </tr>\n",
       "    <tr>\n",
       "      <th>3</th>\n",
       "      <td>68753</td>\n",
       "      <td>4000.0</td>\n",
       "      <td>20310.509641</td>\n",
       "      <td>8.124204e+07</td>\n",
       "    </tr>\n",
       "    <tr>\n",
       "      <th>4</th>\n",
       "      <td>643</td>\n",
       "      <td>4000.0</td>\n",
       "      <td>21257.473960</td>\n",
       "      <td>8.502990e+07</td>\n",
       "    </tr>\n",
       "  </tbody>\n",
       "</table>\n",
       "</div>"
      ],
      "text/plain": [
       "    index   price          load      revenues\n",
       "0  307051  4000.0  19314.992591  7.725997e+07\n",
       "1  333786  4000.0  19688.339562  7.875336e+07\n",
       "2  262864  4000.0  21888.379899  8.755352e+07\n",
       "3   68753  4000.0  20310.509641  8.124204e+07\n",
       "4     643  4000.0  21257.473960  8.502990e+07"
      ]
     },
     "execution_count": 100,
     "metadata": {},
     "output_type": "execute_result"
    }
   ],
   "source": [
    "prices_load.head()"
   ]
  },
  {
   "cell_type": "code",
   "execution_count": 101,
   "id": "dress-sugar",
   "metadata": {},
   "outputs": [
    {
     "data": {
      "image/png": "[encoded data removed]",
      "text/plain": [
       "<Figure size 432x288 with 1 Axes>"
      ]
     },
     "metadata": {},
     "output_type": "display_data"
    }
   ],
   "source": [
    "axs = plt.scatter(prices_load.index[0:LOLE_hours], prices_load[\"load\"][0:LOLE_hours])  \n",
    "plt.title(\"load during highest prices\")\n",
    "plt.ylabel(\"load\")\n",
    "plt.xlabel(\"hours\")\n",
    "fig1 = axs.get_figure()\n",
    "fig1.savefig(path_to_plots + '/' + 'served Load during highest prices .png', bbox_inches='tight', dpi=300)\n",
    "# shortages dont occur when highest load"
   ]
  },
  {
   "cell_type": "code",
   "execution_count": 102,
   "id": "gentle-feature",
   "metadata": {},
   "outputs": [
    {
     "name": "stdout",
     "output_type": "stream",
     "text": [
      "hours_with_shortages 271\n",
      "excess_shortage_hours 111\n"
     ]
    },
    {
     "data": {
      "text/plain": [
       "2.775"
      ]
     },
     "execution_count": 102,
     "metadata": {},
     "output_type": "execute_result"
    }
   ],
   "source": [
    "shortagesrows =  prices_load[prices_load[\"price\"]== 4000]# EUR\n",
    "hours_with_shortages = shortagesrows.shape[0]\n",
    "print(\"hours_with_shortages\", hours_with_shortages)\n",
    "excess_shortage_hours = hours_with_shortages - LOLE_hours\n",
    "print(\"excess_shortage_hours\", excess_shortage_hours)\n",
    "excess_shortage_hours/40"
   ]
  },
  {
   "cell_type": "code",
   "execution_count": 106,
   "id": "acoustic-karen",
   "metadata": {},
   "outputs": [
    {
     "name": "stdout",
     "output_type": "stream",
     "text": [
      "14051513169.65291\n",
      "23395672783.041256\n",
      "9344.159613388345\n"
     ]
    },
    {
     "data": {
      "text/plain": [
       "9344159613.388346"
      ]
     },
     "execution_count": 106,
     "metadata": {},
     "output_type": "execute_result"
    }
   ],
   "source": [
    "revenues_acceptable_LOLE =  sum(prices_load[\"revenues\"][0:LOLE_hours]) # EUR\n",
    "print(revenues_acceptable_LOLE)\n",
    "revenues_in_shortages =  sum(shortagesrows[\"revenues\"]) # EUR\n",
    "print(revenues_in_shortages)\n",
    "revenues_SR = revenues_in_shortages - revenues_acceptable_LOLE \n",
    "print(revenues_SR/1000000)\n",
    "revenues_SR "
   ]
  },
  {
   "cell_type": "code",
   "execution_count": 107,
   "id": "consecutive-baptist",
   "metadata": {},
   "outputs": [
    {
     "data": {
      "text/plain": [
       "2336039.9033470894"
      ]
     },
     "execution_count": 107,
     "metadata": {},
     "output_type": "execute_result"
    }
   ],
   "source": [
    "excess_shortage_energy =prices_load[LOLE_hours:hours_with_shortages][\"load\"].sum()\n",
    "excess_shortage_energy"
   ]
  },
  {
   "cell_type": "code",
   "execution_count": 108,
   "id": "intermediate-application",
   "metadata": {},
   "outputs": [],
   "source": [
    "elec_prices = yearly_electricity_prices.sort_values( ascending=False)\n",
    "Elec_prices = pd.DataFrame({'elec_prices': elec_prices})\n",
    "Elec_prices.reset_index(inplace=True)"
   ]
  },
  {
   "cell_type": "code",
   "execution_count": 109,
   "id": "instant-speech",
   "metadata": {},
   "outputs": [
    {
     "data": {
      "image/png": "[encoded data removed]",
      "text/plain": [
       "<Figure size 432x288 with 1 Axes>"
      ]
     },
     "metadata": {},
     "output_type": "display_data"
    }
   ],
   "source": [
    "axs = Elec_prices[\"elec_prices\"][0:1500].plot() \n",
    "plt.title(\"price duration curve\")\n",
    "plt.ylabel(\"Eur/MWH\")\n",
    "plt.xlabel(\"hours\")\n",
    "fig1 = axs.get_figure()\n",
    "fig1.savefig(path_to_plots + '/' + 'price duration curve.png', bbox_inches='tight', dpi=300)"
   ]
  },
  {
   "cell_type": "code",
   "execution_count": 110,
   "id": "conceptual-spectrum",
   "metadata": {},
   "outputs": [
    {
     "data": {
      "text/plain": [
       "2.775"
      ]
     },
     "execution_count": 110,
     "metadata": {},
     "output_type": "execute_result"
    }
   ],
   "source": [
    "hours_shortages = (Elec_prices[\"elec_prices\"] == 4000).sum()\n",
    "extra_hours_shortages = hours_shortages - LOLE_hours\n",
    "extra_hours_shortages/40\n"
   ]
  },
  {
   "cell_type": "code",
   "execution_count": 111,
   "id": "wooden-rachel",
   "metadata": {},
   "outputs": [
    {
     "data": {
      "text/plain": [
       "Text(0.5, 0, 'hours')"
      ]
     },
     "execution_count": 111,
     "metadata": {},
     "output_type": "execute_result"
    },
    {
     "data": {
      "image/png": "[encoded data removed]",
      "text/plain": [
       "<Figure size 432x288 with 1 Axes>"
      ]
     },
     "metadata": {},
     "output_type": "display_data"
    }
   ],
   "source": [
    "Elec_prices[\"elec_prices\"][0:LOLE_hours].plot() \n",
    "plt.title(\"price duration curve\")\n",
    "plt.ylabel(\"Eur/MWH\")\n",
    "plt.xlabel(\"hours\")"
   ]
  },
  {
   "cell_type": "code",
   "execution_count": 112,
   "id": "accompanied-butter",
   "metadata": {},
   "outputs": [],
   "source": [
    "YL = yearly_load.sort_values( ascending=False)\n",
    "yearlyload = pd.DataFrame({'yl': YL})\n",
    "yearlyload.reset_index(inplace=True)"
   ]
  },
  {
   "cell_type": "code",
   "execution_count": 113,
   "id": "technical-intake",
   "metadata": {},
   "outputs": [
    {
     "data": {
      "image/png": "[encoded data removed]",
      "text/plain": [
       "<Figure size 432x288 with 1 Axes>"
      ]
     },
     "metadata": {},
     "output_type": "display_data"
    }
   ],
   "source": [
    "axs = yearlyload[\"yl\"][0:1500].plot()\n",
    "plt.title(\"load duration curve\")\n",
    "plt.ylabel(\"MW\")\n",
    "plt.xlabel(\"hours\")\n",
    "fig1 = axs.get_figure()\n",
    "fig1.savefig(path_to_plots + '/' + 'load duration curve.png', bbox_inches='tight', dpi=300)"
   ]
  },
  {
   "cell_type": "code",
   "execution_count": 119,
   "id": "humanitarian-joint",
   "metadata": {},
   "outputs": [
    {
     "name": "stdout",
     "output_type": "stream",
     "text": [
      "peak 88635\n",
      "peak_served 80203\n",
      "peak_with_shortages 79136\n",
      "acceptable_shortageMW 8432\n",
      "extra_capacity_SR 1066\n"
     ]
    },
    {
     "data": {
      "image/png": "[encoded data removed]",
      "text/plain": [
       "<Figure size 432x288 with 1 Axes>"
      ]
     },
     "metadata": {},
     "output_type": "display_data"
    }
   ],
   "source": [
    "yearlyload[\"yl\"][0:300].plot()\n",
    "plt.title(\"load duration curve ZOOM\")\n",
    "plt.ylabel(\"MW\")\n",
    "plt.xlabel(\"hours\")\n",
    "# acceptable_shortage = load that can be shedded\n",
    "peak = yearlyload[\"yl\"].iloc[0]\n",
    "print(\"peak\" , int(peak))\n",
    "\n",
    "peak_served = yearlyload[\"yl\"].iloc[LOLE_hours]\n",
    "print(\"peak_served\" , int(peak_served))\n",
    "\n",
    "peak_with_shortages = yearlyload[\"yl\"].iloc[hours_with_shortages]\n",
    "print(\"peak_with_shortages\" , int(peak_with_shortages))\n",
    "\n",
    "acceptable_shortageMW = (peak - peak_served)\n",
    "print(\"acceptable_shortageMW\" , int(acceptable_shortageMW))\n",
    "\n",
    "extra_capacity_SR = (peak_served - peak_with_shortages)\n",
    "print(\"extra_capacity_SR\" , int(extra_capacity_SR))\n"
   ]
  },
  {
   "cell_type": "code",
   "execution_count": 115,
   "id": "divided-clark",
   "metadata": {},
   "outputs": [
    {
     "data": {
      "text/plain": [
       "17.686769557203004"
      ]
     },
     "execution_count": 115,
     "metadata": {},
     "output_type": "execute_result"
    }
   ],
   "source": [
    "# average_volume =( peak_served + peak_with_shortages )/2 \n",
    "# theoreticalSR_revenues = excess_shortage_hours*2000*average_volume # h *eur/MWh*V = Eur\n",
    "# theoreticalSR_revenues/1000000000"
   ]
  },
  {
   "cell_type": "code",
   "execution_count": 120,
   "id": "celtic-belarus",
   "metadata": {},
   "outputs": [
    {
     "name": "stdout",
     "output_type": "stream",
     "text": [
      "reserve_margin_per 1.3295479373412502\n"
     ]
    }
   ],
   "source": [
    "# volume where reserve should be active = volume when there are shortages \n",
    "reserve_margin = extra_capacity_SR/peak_served  \n",
    "reserve_margin_per = reserve_margin*100\n",
    "print(\"reserve_margin_per\" , float(reserve_margin_per))"
   ]
  },
  {
   "cell_type": "code",
   "execution_count": 126,
   "id": "contained-indiana",
   "metadata": {},
   "outputs": [
    {
     "data": {
      "text/plain": [
       "1066.3413717035146"
      ]
     },
     "execution_count": 126,
     "metadata": {},
     "output_type": "execute_result"
    }
   ],
   "source": [
    "extra_capacity_SR"
   ]
  },
  {
   "cell_type": "code",
   "execution_count": 121,
   "id": "substantial-communications",
   "metadata": {},
   "outputs": [
    {
     "data": {
      "text/plain": [
       "4381.410991519888"
      ]
     },
     "execution_count": 121,
     "metadata": {},
     "output_type": "execute_result"
    }
   ],
   "source": [
    "sr_price = 2000\n",
    "EnergySR = revenues_SR/sr_price\n",
    "activation_hours =  EnergySR/extra_capacity_SR #MWH/MW\n",
    "activation_hours"
   ]
  },
  {
   "cell_type": "code",
   "execution_count": 122,
   "id": "stretch-rapid",
   "metadata": {},
   "outputs": [
    {
     "name": "stdout",
     "output_type": "stream",
     "text": [
      "volumeSR 42090.80906931688\n",
      "reserve_margin_% 52.480143661437374\n"
     ]
    }
   ],
   "source": [
    "\n",
    "volumeSR = (revenues_SR/sr_price)/activation_hours\n",
    "print(\"volumeSR\", volumeSR)\n",
    "reserve_margin_per = volumeSR/peak_served*100\n",
    "print(\"reserve_margin_%\", reserve_margin_per)"
   ]
  },
  {
   "cell_type": "code",
   "execution_count": 104,
   "id": "protected-standing",
   "metadata": {},
   "outputs": [
    {
     "data": {
      "text/plain": [
       "80203.30382640583"
      ]
     },
     "execution_count": 104,
     "metadata": {},
     "output_type": "execute_result"
    }
   ],
   "source": [
    "peak_served"
   ]
  },
  {
   "cell_type": "code",
   "execution_count": null,
   "id": "renewable-gnome",
   "metadata": {},
   "outputs": [],
   "source": [
    "volumeSR = (revenues_SR/sr_price)/activation_hours\n",
    "print(\"volumeSR\", volumeSR)\n",
    "reserve_margin_per = volumeSR/peak_served*100"
   ]
  },
  {
   "cell_type": "code",
   "execution_count": null,
   "id": "decreased-intro",
   "metadata": {},
   "outputs": [],
   "source": []
  }
 ],
 "metadata": {
  "kernelspec": {
   "display_name": "Python 3",
   "language": "python",
   "name": "python3"
  },
  "language_info": {
   "codemirror_mode": {
    "name": "ipython",
    "version": 3
   },
   "file_extension": ".py",
   "mimetype": "text/x-python",
   "name": "python",
   "nbconvert_exporter": "python",
   "pygments_lexer": "ipython3",
   "version": "3.6.6"
  }
 },
 "nbformat": 4,
 "nbformat_minor": 5
}
