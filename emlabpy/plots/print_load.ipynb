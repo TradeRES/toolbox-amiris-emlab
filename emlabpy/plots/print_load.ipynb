{
 "cells": [
  {
   "cell_type": "code",
   "execution_count": 1,
   "id": "virtual-letter",
   "metadata": {},
   "outputs": [],
   "source": [
    "import numpy as np\n",
    "import matplotlib\n",
    "import matplotlib as mpl\n",
    "import matplotlib.pyplot as plt\n",
    "import pandas as pd\n",
    "import seaborn as sns\n",
    "load = pd.read_csv(r\"C:\\toolbox-amiris-emlab\\amiris_workflow\\amiris-config\\data\\load.csv\", sep=\";\", header=None)"
   ]
  },
  {
   "cell_type": "code",
   "execution_count": 3,
   "id": "australian-pattern",
   "metadata": {},
   "outputs": [
    {
     "data": {
      "text/plain": [
       "138472103.594698"
      ]
     },
     "execution_count": 3,
     "metadata": {},
     "output_type": "execute_result"
    }
   ],
   "source": [
    "load[1].sum()"
   ]
  },
  {
   "cell_type": "code",
   "execution_count": 2,
   "id": "comprehensive-butler",
   "metadata": {},
   "outputs": [
    {
     "name": "stdout",
     "output_type": "stream",
     "text": [
      "s      \n"
     ]
    }
   ],
   "source": []
  },
  {
   "cell_type": "code",
   "execution_count": 6,
   "id": "saving-trouble",
   "metadata": {},
   "outputs": [],
   "source": [
    "years = pd.read_excel(r\"C:\\toolbox-amiris-emlab\\data\\40weatheryears.xlsx\", index_col=0,\n",
    "                                 sheet_name=[\"Wind Onshore profiles\",\n",
    "                                             \"Wind Offshore profiles\",\n",
    "                                             \"Sun PV profiles\",\n",
    "                                             \"Load\"])"
   ]
  },
  {
   "cell_type": "code",
   "execution_count": 10,
   "id": "vocational-harris",
   "metadata": {},
   "outputs": [
    {
     "data": {
      "text/plain": [
       "1980    1.471304e+08\n",
       "1981    1.471266e+08\n",
       "1982    1.462692e+08\n",
       "1983    1.457786e+08\n",
       "1984    1.464636e+08\n",
       "1985    1.508410e+08\n",
       "1986    1.489568e+08\n",
       "1987    1.499164e+08\n",
       "1988    1.439462e+08\n",
       "1989    1.438095e+08\n",
       "1990    1.431929e+08\n",
       "1991    1.469422e+08\n",
       "1992    1.445372e+08\n",
       "1993    1.463034e+08\n",
       "1994    1.443372e+08\n",
       "1995    1.454702e+08\n",
       "1996    1.507098e+08\n",
       "1997    1.462697e+08\n",
       "1998    1.445099e+08\n",
       "1999    1.433057e+08\n",
       "2000    1.428723e+08\n",
       "2001    1.449903e+08\n",
       "2002    1.439481e+08\n",
       "2003    1.455303e+08\n",
       "2004    1.444651e+08\n",
       "2005    1.440790e+08\n",
       "2006    1.442319e+08\n",
       "2007    1.421347e+08\n",
       "2008    1.439576e+08\n",
       "2009    1.450583e+08\n",
       "2010    1.497800e+08\n",
       "2011    1.434378e+08\n",
       "2012    1.453774e+08\n",
       "2013    1.472081e+08\n",
       "2014    1.414993e+08\n",
       "2015    1.434310e+08\n",
       "2016    1.441265e+08\n",
       "2017    1.434621e+08\n",
       "2018    1.437061e+08\n",
       "2019    1.425783e+08\n",
       "dtype: float64"
      ]
     },
     "execution_count": 10,
     "metadata": {},
     "output_type": "execute_result"
    }
   ],
   "source": [
    "years[\"Load\"].sum(axis=0)*0.85"
   ]
  },
  {
   "cell_type": "code",
   "execution_count": null,
   "id": "damaged-background",
   "metadata": {},
   "outputs": [],
   "source": []
  }
 ],
 "metadata": {
  "kernelspec": {
   "display_name": "Python 3",
   "language": "python",
   "name": "python3"
  },
  "language_info": {
   "codemirror_mode": {
    "name": "ipython",
    "version": 3
   },
   "file_extension": ".py",
   "mimetype": "text/x-python",
   "name": "python",
   "nbconvert_exporter": "python",
   "pygments_lexer": "ipython3",
   "version": "3.6.6"
  }
 },
 "nbformat": 4,
 "nbformat_minor": 5
}
