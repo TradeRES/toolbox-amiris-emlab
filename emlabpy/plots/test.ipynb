{
 "cells": [
  {
   "cell_type": "code",
   "execution_count": 4,
   "id": "ethical-beads",
   "metadata": {
    "ExecuteTime": {
     "end_time": "2024-02-08T16:13:16.410581100Z",
     "start_time": "2024-02-08T16:13:16.390450200Z"
    }
   },
   "outputs": [],
   "source": [
    "import numpy as np\n",
    "import pandas as pd\n",
    "import matplotlib.pyplot as plt\n",
    "import seaborn as sns\n"
   ]
  },
  {
   "cell_type": "code",
   "execution_count": 112,
   "outputs": [],
   "source": [],
   "metadata": {
    "collapsed": false,
    "ExecuteTime": {
     "end_time": "2024-02-08T17:04:41.700941900Z",
     "start_time": "2024-02-08T17:04:41.685653600Z"
    }
   },
   "id": "4d2dbe1c0c1ff40a"
  },
  {
   "cell_type": "code",
   "execution_count": 104,
   "outputs": [],
   "source": [],
   "metadata": {
    "collapsed": false,
    "ExecuteTime": {
     "end_time": "2024-02-08T17:02:38.680316100Z",
     "start_time": "2024-02-08T17:02:38.652177700Z"
    }
   },
   "id": "3fb5ddb9a4ad7b23"
  },
  {
   "cell_type": "code",
   "execution_count": 105,
   "id": "265efde5",
   "metadata": {
    "ExecuteTime": {
     "end_time": "2024-02-08T17:02:39.268458400Z",
     "start_time": "2024-02-08T17:02:39.226420100Z"
    }
   },
   "outputs": [],
   "source": []
  },
  {
   "cell_type": "code",
   "execution_count": 57,
   "outputs": [],
   "source": [],
   "metadata": {
    "collapsed": false,
    "ExecuteTime": {
     "end_time": "2024-02-08T16:41:22.912994900Z",
     "start_time": "2024-02-08T16:41:22.897995400Z"
    }
   },
   "id": "a704ffad3b517562"
  },
  {
   "cell_type": "code",
   "execution_count": 116,
   "outputs": [
    {
     "name": "stdout",
     "output_type": "stream",
     "text": [
      "[{'amount': 0.0, 'price': 0.0}, {'amount': 1.0, 'price': 0.0}, {'amount': 2.0, 'price': 0.0}, {'amount': 3.0, 'price': 0.0}, {'amount': 4.0, 'price': 0.0}, {'amount': 5.0, 'price': 0.0}, {'amount': 6.0, 'price': 0.0}, {'amount': 7.0, 'price': 0.0}, {'amount': 8.0, 'price': 0.0}, {'amount': 9.0, 'price': 0.0}, {'amount': 10.0, 'price': 0.0}, {'amount': 11.0, 'price': 0.0}, {'amount': 12.0, 'price': 0.0}, {'amount': 13.0, 'price': 0.0}, {'amount': 14.0, 'price': 0.0}, {'amount': 15.0, 'price': 0.0}, {'amount': 16.0, 'price': 0.0}, {'amount': 17.0, 'price': 0.0}, {'amount': 18.0, 'price': 0.0}, {'amount': 19.0, 'price': 0.0}, {'amount': 20.0, 'price': 0.0}, {'amount': 21.0, 'price': 0.0}, {'amount': 22.0, 'price': 0.0}, {'amount': 23.0, 'price': 0.0}, {'amount': 24.0, 'price': 0.0}, {'amount': 25.0, 'price': 0.0}, {'amount': 26.0, 'price': 0.0}, {'amount': 27.0, 'price': 0.0}, {'amount': 28.0, 'price': 0.0}, {'amount': 29.0, 'price': 0.0}, {'amount': 30.0, 'price': 0.0}, {'amount': 31.0, 'price': 0.0}, {'amount': 32.0, 'price': 34514.2154919065}, {'amount': 33.0, 'price': 34636.7427364147}, {'amount': 34.0, 'price': 34759.8826171448}, {'amount': 35.0, 'price': 34883.6381972794}, {'amount': 36.0, 'price': 35258.6299961134}, {'amount': 37.0, 'price': 35384.8793131423}, {'amount': 38.0, 'price': 35511.7598767566}, {'amount': 39.0, 'price': 35639.2748431888}, {'amount': 40.0, 'price': 36286.4772948842}, {'amount': 41.0, 'price': 36417.8658484074}, {'amount': 42.0, 'price': 36549.9113446979}, {'amount': 43.0, 'price': 36682.6170684695}, {'amount': 44.0, 'price': 36815.9863208603}, {'amount': 45.0, 'price': 36950.0224195126}, {'amount': 46.0, 'price': 37084.7286986593}, {'amount': 47.0, 'price': 37219.5141777803}, {'amount': 48.0, 'price': 37354.6572544841}, {'amount': 49.0, 'price': 37457.7073073525}, {'amount': 50.0, 'price': 37485.9988916929}, {'amount': 51.0, 'price': 37508.7170386528}, {'amount': 52.0, 'price': 37517.5941479983}, {'amount': 53.0, 'price': 37529.7933045138}, {'amount': 54.0, 'price': 37551.2155251573}, {'amount': 55.0, 'price': 37583.1742965776}, {'amount': 56.0, 'price': 37590.8339413329}, {'amount': 57.0, 'price': 37615.8289739863}, {'amount': 58.0, 'price': 37671.3816044622}, {'amount': 59.0, 'price': 37716.0574538387}]\n"
     ]
    },
    {
     "ename": "AttributeError",
     "evalue": "'dict' object has no attribute 'price'",
     "output_type": "error",
     "traceback": [
      "\u001B[1;31m---------------------------------------------------------------------------\u001B[0m",
      "\u001B[1;31mAttributeError\u001B[0m                            Traceback (most recent call last)",
      "Cell \u001B[1;32mIn[116], line 5\u001B[0m\n\u001B[0;32m      3\u001B[0m bids \u001B[38;5;241m=\u001B[39m \u001B[38;5;28mlist\u001B[39m(df\u001B[38;5;241m.\u001B[39mT\u001B[38;5;241m.\u001B[39mto_dict()\u001B[38;5;241m.\u001B[39mvalues())\n\u001B[0;32m      4\u001B[0m \u001B[38;5;28mprint\u001B[39m(bids)\n\u001B[1;32m----> 5\u001B[0m clearing_price, total_supply_volume, isMarketUndersuscribed \u001B[38;5;241m=\u001B[39m \u001B[43mmarket\u001B[49m\u001B[38;5;241;43m.\u001B[39;49m\u001B[43mclear_market\u001B[49m\u001B[43m(\u001B[49m\u001B[43mbids\u001B[49m\u001B[43m)\u001B[49m\n",
      "Cell \u001B[1;32mIn[28], line 31\u001B[0m, in \u001B[0;36mCapacityMarket.clear_market\u001B[1;34m(self, sorted_ppdp)\u001B[0m\n\u001B[0;32m     28\u001B[0m isMarketUndersuscribed \u001B[38;5;241m=\u001B[39m \u001B[38;5;28;01mFalse\u001B[39;00m\n\u001B[0;32m     29\u001B[0m \u001B[38;5;28;01mfor\u001B[39;00m ppdp \u001B[38;5;129;01min\u001B[39;00m sorted_ppdp:\n\u001B[0;32m     30\u001B[0m     \u001B[38;5;66;03m# As long as the market is not cleared\u001B[39;00m\n\u001B[1;32m---> 31\u001B[0m     \u001B[38;5;28;01mif\u001B[39;00m \u001B[43mppdp\u001B[49m\u001B[38;5;241;43m.\u001B[39;49m\u001B[43mprice\u001B[49m \u001B[38;5;241m<\u001B[39m\u001B[38;5;241m=\u001B[39m \u001B[38;5;28mself\u001B[39m\u001B[38;5;241m.\u001B[39mget_price_at_volume(total_supply_volume \u001B[38;5;241m+\u001B[39m ppdp\u001B[38;5;241m.\u001B[39mamount):\n\u001B[0;32m     32\u001B[0m         total_supply_volume \u001B[38;5;241m+\u001B[39m\u001B[38;5;241m=\u001B[39m ppdp\u001B[38;5;241m.\u001B[39mamount\n\u001B[0;32m     33\u001B[0m         clearing_price \u001B[38;5;241m=\u001B[39m ppdp\u001B[38;5;241m.\u001B[39mprice\n",
      "\u001B[1;31mAttributeError\u001B[0m: 'dict' object has no attribute 'price'"
     ]
    }
   ],
   "source": [
    "# iteratre over columns in df\n",
    "\n",
    "# for value in df.columns:\n",
    "# \n",
    "#     print(value)\n",
    "\n",
    "  #  clearing_price, total_supply_volume, isMarketUndersuscribed = market.clear_market(value.tolist())"
   ],
   "metadata": {
    "collapsed": false,
    "ExecuteTime": {
     "end_time": "2024-02-08T17:05:46.600998500Z",
     "start_time": "2024-02-08T17:05:46.547841400Z"
    }
   },
   "id": "41e5ad4f4a71614f"
  },
  {
   "cell_type": "code",
   "execution_count": 98,
   "outputs": [
    {
     "ename": "NameError",
     "evalue": "name 'records' is not defined",
     "output_type": "error",
     "traceback": [
      "\u001B[1;31m---------------------------------------------------------------------------\u001B[0m",
      "\u001B[1;31mNameError\u001B[0m                                 Traceback (most recent call last)",
      "Cell \u001B[1;32mIn[98], line 1\u001B[0m\n\u001B[1;32m----> 1\u001B[0m \u001B[43mrecords\u001B[49m\n",
      "\u001B[1;31mNameError\u001B[0m: name 'records' is not defined"
     ]
    }
   ],
   "source": [
    "records"
   ],
   "metadata": {
    "collapsed": false,
    "ExecuteTime": {
     "end_time": "2024-02-08T17:00:28.465390900Z",
     "start_time": "2024-02-08T17:00:28.450426100Z"
    }
   },
   "id": "898a26da7f9bb16f"
  },
  {
   "cell_type": "code",
   "execution_count": 88,
   "outputs": [
    {
     "data": {
      "text/plain": "[0,\n 1,\n 2,\n 3,\n 4,\n 5,\n 6,\n 7,\n 8,\n 9,\n 10,\n 11,\n 12,\n 13,\n 14,\n 15,\n 16,\n 17,\n 18,\n 19,\n 20,\n 21,\n 22,\n 23,\n 24,\n 25,\n 26,\n 27,\n 28,\n 29,\n 30,\n 31,\n 32,\n 33,\n 34,\n 35,\n 36,\n 37,\n 38,\n 39,\n 40,\n 41,\n 42,\n 43,\n 44,\n 45,\n 46,\n 47,\n 48,\n 49,\n 50,\n 51,\n 52,\n 53,\n 54,\n 55,\n 56,\n 57,\n 58,\n 59]"
     },
     "execution_count": 88,
     "metadata": {},
     "output_type": "execute_result"
    }
   ],
   "source": [
    "list(range(len(df)))"
   ],
   "metadata": {
    "collapsed": false,
    "ExecuteTime": {
     "end_time": "2024-02-08T16:53:35.840657900Z",
     "start_time": "2024-02-08T16:53:35.824657600Z"
    }
   },
   "id": "2bc545d07b234f70"
  },
  {
   "cell_type": "code",
   "execution_count": 87,
   "outputs": [
    {
     "data": {
      "text/plain": "60"
     },
     "execution_count": 87,
     "metadata": {},
     "output_type": "execute_result"
    }
   ],
   "source": [
    "len(df)\n"
   ],
   "metadata": {
    "collapsed": false,
    "ExecuteTime": {
     "end_time": "2024-02-08T16:53:28.685400600Z",
     "start_time": "2024-02-08T16:53:28.665439900Z"
    }
   },
   "id": "125733b2b3d2fb3f"
  },
  {
   "cell_type": "code",
   "execution_count": null,
   "outputs": [],
   "source": [],
   "metadata": {
    "collapsed": false
   },
   "id": "cd0bed698be709e9"
  }
 ],
 "metadata": {
  "kernelspec": {
   "display_name": "Python 3 (ipykernel)",
   "language": "python",
   "name": "python3"
  },
  "language_info": {
   "codemirror_mode": {
    "name": "ipython",
    "version": 3
   },
   "file_extension": ".py",
   "mimetype": "text/x-python",
   "name": "python",
   "nbconvert_exporter": "python",
   "pygments_lexer": "ipython3",
   "version": "3.11.5"
  }
 },
 "nbformat": 4,
 "nbformat_minor": 5
}
