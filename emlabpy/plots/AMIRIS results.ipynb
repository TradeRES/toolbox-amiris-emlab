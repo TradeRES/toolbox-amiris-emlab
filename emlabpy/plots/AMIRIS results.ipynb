{
 "cells": [
  {
   "cell_type": "code",
   "execution_count": 1,
   "id": "answering-cambodia",
   "metadata": {},
   "outputs": [],
   "source": [
    "from sklearn.linear_model import LinearRegression\n",
    "import os\n",
    "import matplotlib.pyplot as plt\n",
    "import numpy as np\n",
    "import pandas as pd\n",
    "import seaborn as sns\n",
    "scenario = \"iteration1\""
   ]
  },
  {
   "cell_type": "code",
   "execution_count": 2,
   "id": "nuclear-nature",
   "metadata": {},
   "outputs": [
    {
     "ename": "FileNotFoundError",
     "evalue": "[Errno 2] No such file or directory: 'C:\\\\toolbox-amiris-emlab\\\\amiris_workflow\\\\amiris-config\\\\data\\\\LS_industrial.csv'",
     "output_type": "error",
     "traceback": [
      "\u001B[1;31m---------------------------------------------------------------------------\u001B[0m",
      "\u001B[1;31mFileNotFoundError\u001B[0m                         Traceback (most recent call last)",
      "Input \u001B[1;32mIn [2]\u001B[0m, in \u001B[0;36m<cell line: 23>\u001B[1;34m()\u001B[0m\n\u001B[0;32m     21\u001B[0m \u001B[38;5;66;03m#h2_low_data = pd.read_csv(path_to_h2_low, sep=\";\", header=None) \u001B[39;00m\n\u001B[0;32m     22\u001B[0m h2_data \u001B[38;5;241m=\u001B[39m pd\u001B[38;5;241m.\u001B[39mread_csv(path_to_h2, sep\u001B[38;5;241m=\u001B[39m\u001B[38;5;124m\"\u001B[39m\u001B[38;5;124m;\u001B[39m\u001B[38;5;124m\"\u001B[39m, header\u001B[38;5;241m=\u001B[39m\u001B[38;5;28;01mNone\u001B[39;00m) \n\u001B[1;32m---> 23\u001B[0m industrial_data \u001B[38;5;241m=\u001B[39m \u001B[43mpd\u001B[49m\u001B[38;5;241;43m.\u001B[39;49m\u001B[43mread_csv\u001B[49m\u001B[43m(\u001B[49m\u001B[43mpath_to_industrial\u001B[49m\u001B[43m,\u001B[49m\u001B[43m \u001B[49m\u001B[43msep\u001B[49m\u001B[38;5;241;43m=\u001B[39;49m\u001B[38;5;124;43m\"\u001B[39;49m\u001B[38;5;124;43m;\u001B[39;49m\u001B[38;5;124;43m\"\u001B[39;49m\u001B[43m,\u001B[49m\u001B[43m \u001B[49m\u001B[43mheader\u001B[49m\u001B[38;5;241;43m=\u001B[39;49m\u001B[38;5;28;43;01mNone\u001B[39;49;00m\u001B[43m)\u001B[49m \n\u001B[0;32m     24\u001B[0m results_data \u001B[38;5;241m=\u001B[39m pd\u001B[38;5;241m.\u001B[39mread_csv(path_to_output) \n\u001B[0;32m     25\u001B[0m storage_levels_data \u001B[38;5;241m=\u001B[39m pd\u001B[38;5;241m.\u001B[39mread_csv(path_to_storage_levels) \n",
      "File \u001B[1;32mC:\\Programs\\Anaconda3\\envs\\amiris\\lib\\site-packages\\pandas\\util\\_decorators.py:311\u001B[0m, in \u001B[0;36mdeprecate_nonkeyword_arguments.<locals>.decorate.<locals>.wrapper\u001B[1;34m(*args, **kwargs)\u001B[0m\n\u001B[0;32m    305\u001B[0m \u001B[38;5;28;01mif\u001B[39;00m \u001B[38;5;28mlen\u001B[39m(args) \u001B[38;5;241m>\u001B[39m num_allow_args:\n\u001B[0;32m    306\u001B[0m     warnings\u001B[38;5;241m.\u001B[39mwarn(\n\u001B[0;32m    307\u001B[0m         msg\u001B[38;5;241m.\u001B[39mformat(arguments\u001B[38;5;241m=\u001B[39marguments),\n\u001B[0;32m    308\u001B[0m         \u001B[38;5;167;01mFutureWarning\u001B[39;00m,\n\u001B[0;32m    309\u001B[0m         stacklevel\u001B[38;5;241m=\u001B[39mstacklevel,\n\u001B[0;32m    310\u001B[0m     )\n\u001B[1;32m--> 311\u001B[0m \u001B[38;5;28;01mreturn\u001B[39;00m \u001B[43mfunc\u001B[49m\u001B[43m(\u001B[49m\u001B[38;5;241;43m*\u001B[39;49m\u001B[43margs\u001B[49m\u001B[43m,\u001B[49m\u001B[43m \u001B[49m\u001B[38;5;241;43m*\u001B[39;49m\u001B[38;5;241;43m*\u001B[39;49m\u001B[43mkwargs\u001B[49m\u001B[43m)\u001B[49m\n",
      "File \u001B[1;32mC:\\Programs\\Anaconda3\\envs\\amiris\\lib\\site-packages\\pandas\\io\\parsers\\readers.py:680\u001B[0m, in \u001B[0;36mread_csv\u001B[1;34m(filepath_or_buffer, sep, delimiter, header, names, index_col, usecols, squeeze, prefix, mangle_dupe_cols, dtype, engine, converters, true_values, false_values, skipinitialspace, skiprows, skipfooter, nrows, na_values, keep_default_na, na_filter, verbose, skip_blank_lines, parse_dates, infer_datetime_format, keep_date_col, date_parser, dayfirst, cache_dates, iterator, chunksize, compression, thousands, decimal, lineterminator, quotechar, quoting, doublequote, escapechar, comment, encoding, encoding_errors, dialect, error_bad_lines, warn_bad_lines, on_bad_lines, delim_whitespace, low_memory, memory_map, float_precision, storage_options)\u001B[0m\n\u001B[0;32m    665\u001B[0m kwds_defaults \u001B[38;5;241m=\u001B[39m _refine_defaults_read(\n\u001B[0;32m    666\u001B[0m     dialect,\n\u001B[0;32m    667\u001B[0m     delimiter,\n\u001B[1;32m   (...)\u001B[0m\n\u001B[0;32m    676\u001B[0m     defaults\u001B[38;5;241m=\u001B[39m{\u001B[38;5;124m\"\u001B[39m\u001B[38;5;124mdelimiter\u001B[39m\u001B[38;5;124m\"\u001B[39m: \u001B[38;5;124m\"\u001B[39m\u001B[38;5;124m,\u001B[39m\u001B[38;5;124m\"\u001B[39m},\n\u001B[0;32m    677\u001B[0m )\n\u001B[0;32m    678\u001B[0m kwds\u001B[38;5;241m.\u001B[39mupdate(kwds_defaults)\n\u001B[1;32m--> 680\u001B[0m \u001B[38;5;28;01mreturn\u001B[39;00m \u001B[43m_read\u001B[49m\u001B[43m(\u001B[49m\u001B[43mfilepath_or_buffer\u001B[49m\u001B[43m,\u001B[49m\u001B[43m \u001B[49m\u001B[43mkwds\u001B[49m\u001B[43m)\u001B[49m\n",
      "File \u001B[1;32mC:\\Programs\\Anaconda3\\envs\\amiris\\lib\\site-packages\\pandas\\io\\parsers\\readers.py:575\u001B[0m, in \u001B[0;36m_read\u001B[1;34m(filepath_or_buffer, kwds)\u001B[0m\n\u001B[0;32m    572\u001B[0m _validate_names(kwds\u001B[38;5;241m.\u001B[39mget(\u001B[38;5;124m\"\u001B[39m\u001B[38;5;124mnames\u001B[39m\u001B[38;5;124m\"\u001B[39m, \u001B[38;5;28;01mNone\u001B[39;00m))\n\u001B[0;32m    574\u001B[0m \u001B[38;5;66;03m# Create the parser.\u001B[39;00m\n\u001B[1;32m--> 575\u001B[0m parser \u001B[38;5;241m=\u001B[39m \u001B[43mTextFileReader\u001B[49m\u001B[43m(\u001B[49m\u001B[43mfilepath_or_buffer\u001B[49m\u001B[43m,\u001B[49m\u001B[43m \u001B[49m\u001B[38;5;241;43m*\u001B[39;49m\u001B[38;5;241;43m*\u001B[39;49m\u001B[43mkwds\u001B[49m\u001B[43m)\u001B[49m\n\u001B[0;32m    577\u001B[0m \u001B[38;5;28;01mif\u001B[39;00m chunksize \u001B[38;5;129;01mor\u001B[39;00m iterator:\n\u001B[0;32m    578\u001B[0m     \u001B[38;5;28;01mreturn\u001B[39;00m parser\n",
      "File \u001B[1;32mC:\\Programs\\Anaconda3\\envs\\amiris\\lib\\site-packages\\pandas\\io\\parsers\\readers.py:933\u001B[0m, in \u001B[0;36mTextFileReader.__init__\u001B[1;34m(self, f, engine, **kwds)\u001B[0m\n\u001B[0;32m    930\u001B[0m     \u001B[38;5;28mself\u001B[39m\u001B[38;5;241m.\u001B[39moptions[\u001B[38;5;124m\"\u001B[39m\u001B[38;5;124mhas_index_names\u001B[39m\u001B[38;5;124m\"\u001B[39m] \u001B[38;5;241m=\u001B[39m kwds[\u001B[38;5;124m\"\u001B[39m\u001B[38;5;124mhas_index_names\u001B[39m\u001B[38;5;124m\"\u001B[39m]\n\u001B[0;32m    932\u001B[0m \u001B[38;5;28mself\u001B[39m\u001B[38;5;241m.\u001B[39mhandles: IOHandles \u001B[38;5;241m|\u001B[39m \u001B[38;5;28;01mNone\u001B[39;00m \u001B[38;5;241m=\u001B[39m \u001B[38;5;28;01mNone\u001B[39;00m\n\u001B[1;32m--> 933\u001B[0m \u001B[38;5;28mself\u001B[39m\u001B[38;5;241m.\u001B[39m_engine \u001B[38;5;241m=\u001B[39m \u001B[38;5;28;43mself\u001B[39;49m\u001B[38;5;241;43m.\u001B[39;49m\u001B[43m_make_engine\u001B[49m\u001B[43m(\u001B[49m\u001B[43mf\u001B[49m\u001B[43m,\u001B[49m\u001B[43m \u001B[49m\u001B[38;5;28;43mself\u001B[39;49m\u001B[38;5;241;43m.\u001B[39;49m\u001B[43mengine\u001B[49m\u001B[43m)\u001B[49m\n",
      "File \u001B[1;32mC:\\Programs\\Anaconda3\\envs\\amiris\\lib\\site-packages\\pandas\\io\\parsers\\readers.py:1217\u001B[0m, in \u001B[0;36mTextFileReader._make_engine\u001B[1;34m(self, f, engine)\u001B[0m\n\u001B[0;32m   1213\u001B[0m     mode \u001B[38;5;241m=\u001B[39m \u001B[38;5;124m\"\u001B[39m\u001B[38;5;124mrb\u001B[39m\u001B[38;5;124m\"\u001B[39m\n\u001B[0;32m   1214\u001B[0m \u001B[38;5;66;03m# error: No overload variant of \"get_handle\" matches argument types\u001B[39;00m\n\u001B[0;32m   1215\u001B[0m \u001B[38;5;66;03m# \"Union[str, PathLike[str], ReadCsvBuffer[bytes], ReadCsvBuffer[str]]\"\u001B[39;00m\n\u001B[0;32m   1216\u001B[0m \u001B[38;5;66;03m# , \"str\", \"bool\", \"Any\", \"Any\", \"Any\", \"Any\", \"Any\"\u001B[39;00m\n\u001B[1;32m-> 1217\u001B[0m \u001B[38;5;28mself\u001B[39m\u001B[38;5;241m.\u001B[39mhandles \u001B[38;5;241m=\u001B[39m \u001B[43mget_handle\u001B[49m\u001B[43m(\u001B[49m\u001B[43m  \u001B[49m\u001B[38;5;66;43;03m# type: ignore[call-overload]\u001B[39;49;00m\n\u001B[0;32m   1218\u001B[0m \u001B[43m    \u001B[49m\u001B[43mf\u001B[49m\u001B[43m,\u001B[49m\n\u001B[0;32m   1219\u001B[0m \u001B[43m    \u001B[49m\u001B[43mmode\u001B[49m\u001B[43m,\u001B[49m\n\u001B[0;32m   1220\u001B[0m \u001B[43m    \u001B[49m\u001B[43mencoding\u001B[49m\u001B[38;5;241;43m=\u001B[39;49m\u001B[38;5;28;43mself\u001B[39;49m\u001B[38;5;241;43m.\u001B[39;49m\u001B[43moptions\u001B[49m\u001B[38;5;241;43m.\u001B[39;49m\u001B[43mget\u001B[49m\u001B[43m(\u001B[49m\u001B[38;5;124;43m\"\u001B[39;49m\u001B[38;5;124;43mencoding\u001B[39;49m\u001B[38;5;124;43m\"\u001B[39;49m\u001B[43m,\u001B[49m\u001B[43m \u001B[49m\u001B[38;5;28;43;01mNone\u001B[39;49;00m\u001B[43m)\u001B[49m\u001B[43m,\u001B[49m\n\u001B[0;32m   1221\u001B[0m \u001B[43m    \u001B[49m\u001B[43mcompression\u001B[49m\u001B[38;5;241;43m=\u001B[39;49m\u001B[38;5;28;43mself\u001B[39;49m\u001B[38;5;241;43m.\u001B[39;49m\u001B[43moptions\u001B[49m\u001B[38;5;241;43m.\u001B[39;49m\u001B[43mget\u001B[49m\u001B[43m(\u001B[49m\u001B[38;5;124;43m\"\u001B[39;49m\u001B[38;5;124;43mcompression\u001B[39;49m\u001B[38;5;124;43m\"\u001B[39;49m\u001B[43m,\u001B[49m\u001B[43m \u001B[49m\u001B[38;5;28;43;01mNone\u001B[39;49;00m\u001B[43m)\u001B[49m\u001B[43m,\u001B[49m\n\u001B[0;32m   1222\u001B[0m \u001B[43m    \u001B[49m\u001B[43mmemory_map\u001B[49m\u001B[38;5;241;43m=\u001B[39;49m\u001B[38;5;28;43mself\u001B[39;49m\u001B[38;5;241;43m.\u001B[39;49m\u001B[43moptions\u001B[49m\u001B[38;5;241;43m.\u001B[39;49m\u001B[43mget\u001B[49m\u001B[43m(\u001B[49m\u001B[38;5;124;43m\"\u001B[39;49m\u001B[38;5;124;43mmemory_map\u001B[39;49m\u001B[38;5;124;43m\"\u001B[39;49m\u001B[43m,\u001B[49m\u001B[43m \u001B[49m\u001B[38;5;28;43;01mFalse\u001B[39;49;00m\u001B[43m)\u001B[49m\u001B[43m,\u001B[49m\n\u001B[0;32m   1223\u001B[0m \u001B[43m    \u001B[49m\u001B[43mis_text\u001B[49m\u001B[38;5;241;43m=\u001B[39;49m\u001B[43mis_text\u001B[49m\u001B[43m,\u001B[49m\n\u001B[0;32m   1224\u001B[0m \u001B[43m    \u001B[49m\u001B[43merrors\u001B[49m\u001B[38;5;241;43m=\u001B[39;49m\u001B[38;5;28;43mself\u001B[39;49m\u001B[38;5;241;43m.\u001B[39;49m\u001B[43moptions\u001B[49m\u001B[38;5;241;43m.\u001B[39;49m\u001B[43mget\u001B[49m\u001B[43m(\u001B[49m\u001B[38;5;124;43m\"\u001B[39;49m\u001B[38;5;124;43mencoding_errors\u001B[39;49m\u001B[38;5;124;43m\"\u001B[39;49m\u001B[43m,\u001B[49m\u001B[43m \u001B[49m\u001B[38;5;124;43m\"\u001B[39;49m\u001B[38;5;124;43mstrict\u001B[39;49m\u001B[38;5;124;43m\"\u001B[39;49m\u001B[43m)\u001B[49m\u001B[43m,\u001B[49m\n\u001B[0;32m   1225\u001B[0m \u001B[43m    \u001B[49m\u001B[43mstorage_options\u001B[49m\u001B[38;5;241;43m=\u001B[39;49m\u001B[38;5;28;43mself\u001B[39;49m\u001B[38;5;241;43m.\u001B[39;49m\u001B[43moptions\u001B[49m\u001B[38;5;241;43m.\u001B[39;49m\u001B[43mget\u001B[49m\u001B[43m(\u001B[49m\u001B[38;5;124;43m\"\u001B[39;49m\u001B[38;5;124;43mstorage_options\u001B[39;49m\u001B[38;5;124;43m\"\u001B[39;49m\u001B[43m,\u001B[49m\u001B[43m \u001B[49m\u001B[38;5;28;43;01mNone\u001B[39;49;00m\u001B[43m)\u001B[49m\u001B[43m,\u001B[49m\n\u001B[0;32m   1226\u001B[0m \u001B[43m\u001B[49m\u001B[43m)\u001B[49m\n\u001B[0;32m   1227\u001B[0m \u001B[38;5;28;01massert\u001B[39;00m \u001B[38;5;28mself\u001B[39m\u001B[38;5;241m.\u001B[39mhandles \u001B[38;5;129;01mis\u001B[39;00m \u001B[38;5;129;01mnot\u001B[39;00m \u001B[38;5;28;01mNone\u001B[39;00m\n\u001B[0;32m   1228\u001B[0m f \u001B[38;5;241m=\u001B[39m \u001B[38;5;28mself\u001B[39m\u001B[38;5;241m.\u001B[39mhandles\u001B[38;5;241m.\u001B[39mhandle\n",
      "File \u001B[1;32mC:\\Programs\\Anaconda3\\envs\\amiris\\lib\\site-packages\\pandas\\io\\common.py:789\u001B[0m, in \u001B[0;36mget_handle\u001B[1;34m(path_or_buf, mode, encoding, compression, memory_map, is_text, errors, storage_options)\u001B[0m\n\u001B[0;32m    784\u001B[0m \u001B[38;5;28;01melif\u001B[39;00m \u001B[38;5;28misinstance\u001B[39m(handle, \u001B[38;5;28mstr\u001B[39m):\n\u001B[0;32m    785\u001B[0m     \u001B[38;5;66;03m# Check whether the filename is to be opened in binary mode.\u001B[39;00m\n\u001B[0;32m    786\u001B[0m     \u001B[38;5;66;03m# Binary mode does not support 'encoding' and 'newline'.\u001B[39;00m\n\u001B[0;32m    787\u001B[0m     \u001B[38;5;28;01mif\u001B[39;00m ioargs\u001B[38;5;241m.\u001B[39mencoding \u001B[38;5;129;01mand\u001B[39;00m \u001B[38;5;124m\"\u001B[39m\u001B[38;5;124mb\u001B[39m\u001B[38;5;124m\"\u001B[39m \u001B[38;5;129;01mnot\u001B[39;00m \u001B[38;5;129;01min\u001B[39;00m ioargs\u001B[38;5;241m.\u001B[39mmode:\n\u001B[0;32m    788\u001B[0m         \u001B[38;5;66;03m# Encoding\u001B[39;00m\n\u001B[1;32m--> 789\u001B[0m         handle \u001B[38;5;241m=\u001B[39m \u001B[38;5;28;43mopen\u001B[39;49m\u001B[43m(\u001B[49m\n\u001B[0;32m    790\u001B[0m \u001B[43m            \u001B[49m\u001B[43mhandle\u001B[49m\u001B[43m,\u001B[49m\n\u001B[0;32m    791\u001B[0m \u001B[43m            \u001B[49m\u001B[43mioargs\u001B[49m\u001B[38;5;241;43m.\u001B[39;49m\u001B[43mmode\u001B[49m\u001B[43m,\u001B[49m\n\u001B[0;32m    792\u001B[0m \u001B[43m            \u001B[49m\u001B[43mencoding\u001B[49m\u001B[38;5;241;43m=\u001B[39;49m\u001B[43mioargs\u001B[49m\u001B[38;5;241;43m.\u001B[39;49m\u001B[43mencoding\u001B[49m\u001B[43m,\u001B[49m\n\u001B[0;32m    793\u001B[0m \u001B[43m            \u001B[49m\u001B[43merrors\u001B[49m\u001B[38;5;241;43m=\u001B[39;49m\u001B[43merrors\u001B[49m\u001B[43m,\u001B[49m\n\u001B[0;32m    794\u001B[0m \u001B[43m            \u001B[49m\u001B[43mnewline\u001B[49m\u001B[38;5;241;43m=\u001B[39;49m\u001B[38;5;124;43m\"\u001B[39;49m\u001B[38;5;124;43m\"\u001B[39;49m\u001B[43m,\u001B[49m\n\u001B[0;32m    795\u001B[0m \u001B[43m        \u001B[49m\u001B[43m)\u001B[49m\n\u001B[0;32m    796\u001B[0m     \u001B[38;5;28;01melse\u001B[39;00m:\n\u001B[0;32m    797\u001B[0m         \u001B[38;5;66;03m# Binary mode\u001B[39;00m\n\u001B[0;32m    798\u001B[0m         handle \u001B[38;5;241m=\u001B[39m \u001B[38;5;28mopen\u001B[39m(handle, ioargs\u001B[38;5;241m.\u001B[39mmode)\n",
      "\u001B[1;31mFileNotFoundError\u001B[0m: [Errno 2] No such file or directory: 'C:\\\\toolbox-amiris-emlab\\\\amiris_workflow\\\\amiris-config\\\\data\\\\LS_industrial.csv'"
     ]
    }
   ],
   "source": [
    "sns.set_theme(style=\"whitegrid\")\n",
    "#path_to_results = os.path.join(os.path.dirname(os.path.dirname(os.getcwd()) ), \"amiris_workflow\", \"2050example\")\n",
    "path_to_results = os.path.join(os.path.dirname(os.path.dirname(os.getcwd()) ), \"amiris_workflow\" )\n",
    "path_to_structure = os.path.join(path_to_results, \"amiris_data_structure.xlsx\")\n",
    "path_to_load = os.path.join(path_to_results, \"amiris-config\", \"data\",\"load.csv\")\n",
    "path_to_h2 = os.path.join(path_to_results, \"amiris-config\", \"data\",\"LS_hydrogen.csv\")\n",
    "#path_to_h2_low = os.path.join(path_to_results, \"amiris-config\", \"data\",\"LS_hydrogen_low.csv\")\n",
    "path_to_industrial = os.path.join(path_to_results, \"amiris-config\", \"data\",\"LS_industrial.csv\")\n",
    "path_to_output = os.path.join(path_to_results, \"output\",\"amiris_results.csv\" )\n",
    "path_to_storage_levels = os.path.join(path_to_results, \"output\",\"final_storage_levels.csv\" )\n",
    "path_to_generation = os.path.join(path_to_results, \"output\",\"hourly_generation_per_group.csv\" )\n",
    "path_to_electricity_prices = os.path.join(path_to_results, \"output\",\"raw\",\"EnergyExchange.csv\" )\n",
    "\n",
    "path_to_plots = os.path.join(os.getcwd(),  \"Scenarios\", \"AMIRIS_Results\", scenario )\n",
    "if not os.path.exists(path_to_plots):\n",
    "    os.makedirs(path_to_plots)\n",
    "#-----------------------------------------------------------------------------\n",
    "elec_prices_data = pd.read_csv(path_to_electricity_prices, sep=\";\")  \n",
    "generation_data =  pd.read_csv(path_to_generation, index_col=\"Unnamed: 0\")\n",
    "load_data = pd.read_csv(path_to_load, sep=\";\", header=None) \n",
    "#h2_low_data = pd.read_csv(path_to_h2_low, sep=\";\", header=None) \n",
    "h2_data = pd.read_csv(path_to_h2, sep=\";\", header=None) \n",
    "industrial_data = pd.read_csv(path_to_industrial, sep=\";\", header=None) \n",
    "results_data = pd.read_csv(path_to_output) \n",
    "storage_levels_data = pd.read_csv(path_to_storage_levels) \n",
    "storages_data = pd.read_excel(path_to_structure, sheet_name='storages', index_col=0)\n",
    "conventionals_data = pd.read_excel(path_to_structure, sheet_name='conventionals', index_col=0)\n",
    "renewables_data = pd.read_excel(path_to_structure, sheet_name='renewables', index_col=0)\n",
    "electrolysers_data = pd.read_excel(path_to_structure, sheet_name='electrolysers', index_col=0)\n",
    "biogas_data = pd.read_excel(path_to_structure, sheet_name='biogas', index_col=0)\n",
    "load_shedders_data = pd.read_excel(path_to_structure, sheet_name='load_shedding', index_col=0)\n",
    "# Why is the electrolysis_hydrogen_generation given in the load generation? I think that value is not needed. \n"
   ]
  },
  {
   "cell_type": "code",
   "execution_count": null,
   "id": "composite-johnston",
   "metadata": {},
   "outputs": [],
   "source": [
    "print(\"Conventionals \" + str(conventionals_data[\"InstalledPowerInMW\"].sum()/1000))\n",
    "print(\"Renewables \" + str(renewables_data[\"InstalledPowerInMW\"].sum()/1000))\n",
    "print(\"electrolysers \" + str(electrolysers_data[\"PeakConsumptionInMW\"].sum()/1000))\n",
    "print(\"biogas \" + str(biogas_data[\"InstalledPowerInMW\"].sum()/1000))"
   ]
  },
  {
   "cell_type": "code",
   "execution_count": null,
   "id": "signed-seafood",
   "metadata": {},
   "outputs": [],
   "source": [
    "3electrolyser_capacity = h2_high_data[1][0] + h2_low_data[1][0] \n",
    "electrolyser_capacity = h2_data[1][0]\n",
    "input_industrial_demand = industrial_data[1].sum()\n",
    "input_hydrogen_demand = h2_data[1].sum()\n",
    "print(input_hydrogen_demand)\n",
    "print(electrolyser_capacity*8760)"
   ]
  },
  {
   "cell_type": "code",
   "execution_count": null,
   "id": "entire-discrimination",
   "metadata": {},
   "outputs": [],
   "source": [
    "windon = renewables_data[renewables_data[\"Set\"] ==\"WindOn\"]\n",
    "print(windon[\"InstalledPowerInMW\"].sum())\n",
    "windoff = renewables_data[renewables_data[\"Set\"] ==\"WindOff\"]\n",
    "print(windoff[\"InstalledPowerInMW\"].sum())\n",
    "PV = renewables_data[renewables_data[\"Set\"] ==\"OtherPV\"]\n",
    "print(PV[\"InstalledPowerInMW\"].sum())\n",
    "ROR = renewables_data[renewables_data[\"Set\"] ==\"RunOfRiver\"]\n",
    "print(ROR[\"InstalledPowerInMW\"].sum())"
   ]
  },
  {
   "cell_type": "code",
   "execution_count": null,
   "id": "naughty-statistics",
   "metadata": {},
   "outputs": [],
   "source": [
    "max_output_onshore = 2978\n",
    "max_output_offshore = 4730\n",
    "max_output_pv = 1059\n",
    "max_output_ror = 2102\n",
    "theoretical_max_offshore = max_output_offshore*windoff[\"InstalledPowerInMW\"].sum()\n",
    "theoretical_max_onshore = max_output_onshore*windon[\"InstalledPowerInMW\"].sum()\n",
    "theoretical_max_pv = max_output_pv*PV[\"InstalledPowerInMW\"].sum()\n",
    "theoretical_max_ror = max_output_ror*ROR[\"InstalledPowerInMW\"].sum()\n",
    "max_RES = theoretical_max_offshore + theoretical_max_onshore + theoretical_max_pv  + theoretical_max_ror\n"
   ]
  },
  {
   "cell_type": "code",
   "execution_count": null,
   "id": "failing-wealth",
   "metadata": {},
   "outputs": [],
   "source": [
    "windon_join = pd.merge(windon, \n",
    "                      results_data, \n",
    "                      on ='identifier', \n",
    "                      how ='inner')\n",
    "print(windon_join[\"PRODUCTION_IN_MWH\"].sum()/1000000)\n",
    "windoff_join = pd.merge(windoff, \n",
    "                      results_data, \n",
    "                      on ='identifier', \n",
    "                      how ='inner')\n",
    "print(windoff_join[\"PRODUCTION_IN_MWH\"].sum()/1000000)\n",
    "PV_join = pd.merge(PV, \n",
    "                      results_data, \n",
    "                      on ='identifier', \n",
    "                      how ='inner')\n",
    "print(PV_join[\"PRODUCTION_IN_MWH\"].sum()/1000000)\n",
    "ROR_join = pd.merge(ROR, \n",
    "                      results_data, \n",
    "                      on ='identifier', \n",
    "                      how ='inner')\n",
    "print(ROR_join[\"PRODUCTION_IN_MWH\"].sum()/1000000)"
   ]
  },
  {
   "cell_type": "code",
   "execution_count": null,
   "id": "sacred-distribution",
   "metadata": {},
   "outputs": [],
   "source": [
    "conventionals_join = pd.merge(conventionals_data, \n",
    "                      results_data, \n",
    "                      on ='identifier', \n",
    "                      how ='inner')\n",
    "storages_results = pd.merge(storages_data, \n",
    "                      results_data, \n",
    "                      on ='identifier', \n",
    "                      how ='inner')\n",
    "electrolysers_results = pd.merge(electrolysers_data, \n",
    "                      results_data, \n",
    "                      on ='identifier', \n",
    "                      how ='inner')\n",
    "renewables_results = pd.merge(renewables_data, \n",
    "                      results_data, \n",
    "                      on ='identifier', \n",
    "                      how ='inner')\n",
    "\n",
    "\n",
    "renewables_results.head()"
   ]
  },
  {
   "cell_type": "code",
   "execution_count": null,
   "id": "administrative-display",
   "metadata": {},
   "outputs": [],
   "source": [
    "hydrogen_price_limit   = load_shedders_data.loc[load_shedders_data['TimeSeries'] == \"amiris-config/data/0hydrogen_high.csv\", 'VOLL'].sum()\n",
    "industrial_price_limit = load_shedders_data.loc[load_shedders_data['TimeSeries'] == \"amiris-config/data/0industrial.csv\", 'VOLL'].sum()"
   ]
  },
  {
   "cell_type": "code",
   "execution_count": null,
   "id": "headed-adolescent",
   "metadata": {},
   "outputs": [],
   "source": [
    "\n",
    "sorted_elec_prices = elec_prices_data[\"ElectricityPriceInEURperMWH\"].copy()\n",
    "fig, axes= plt.subplots(nrows=2, ncols=1)\n",
    "axs1 = sorted_elec_prices.sort_values(ignore_index=True).plot(ax=axes[0])\n",
    "plt.ylim([0, 200])\n",
    "axs2 = sorted_elec_prices.sort_values(ignore_index=True).plot(ax=axes[1])\n",
    "plt.ylabel('ElectricityPriceInEURperMWH', fontsize='small')\n",
    "axes[0].set_title('ElectricityPriceInEURperMWH')\n",
    "fig.savefig(path_to_plots + '/' + 'elec_prices.png', bbox_inches='tight', dpi=300)\n",
    "load_shedders_data"
   ]
  },
  {
   "cell_type": "code",
   "execution_count": null,
   "id": "blond-capture",
   "metadata": {},
   "outputs": [],
   "source": [
    "load_generation = pd.concat([generation_data, \n",
    "                      load_data],   axis=1 )\n",
    "load_generation.drop(0, axis=1, inplace=True) # dropping timeseries\n",
    "load_generation.rename(columns={1: \"load\" }, inplace=True)\n",
    "# load_generation.sort_values(by=1, inplace=True) # sorting by increasing load\n",
    "# load_generation.reset_index(inplace=True )\n",
    "#load_generation.drop(\"index\", axis=1, inplace=True)\n",
    "load_generation.drop(\"electrolysis_hydrogen_generation\", axis=1, inplace=True)\n",
    "load_generation.head()"
   ]
  },
  {
   "cell_type": "code",
   "execution_count": null,
   "id": "typical-locator",
   "metadata": {},
   "outputs": [],
   "source": [
    "load_generation[\"storages_charging\"] = load_generation[\"storages_charging\"]*-1\n",
    "load_generation[\"electrolysis_power_consumption\"] = load_generation[\"electrolysis_power_consumption\"]*-1\n",
    "load_generation.drop(\"storages_aggregated_level\", axis=1, inplace=True)"
   ]
  },
  {
   "cell_type": "code",
   "execution_count": null,
   "id": "signed-nutrition",
   "metadata": {},
   "outputs": [],
   "source": [
    "RES_use = round((load_generation[\"res\"].sum()/max_RES)*100,2)"
   ]
  },
  {
   "cell_type": "code",
   "execution_count": null,
   "id": "oriental-senator",
   "metadata": {},
   "outputs": [],
   "source": [
    "axs1= load_generation.plot(alpha=0.5)\n",
    "plt.legend(fontsize='medium', loc='upper left', bbox_to_anchor=(1, 1.1))\n",
    "axs1.annotate(\"RES use:\" + str(RES_use ) + \"%\",\n",
    "               xy=(0.8, 0.8), xycoords='figure fraction',\n",
    "               horizontalalignment='right', verticalalignment='bottom',\n",
    "               fontsize='small')\n",
    "fig1 = axs1.get_figure()\n",
    "fig1.savefig(path_to_plots + '/' + 'testing.png', bbox_inches='tight', dpi=300)"
   ]
  },
  {
   "cell_type": "code",
   "execution_count": null,
   "id": "stupid-morris",
   "metadata": {},
   "outputs": [],
   "source": [
    "ElectricityPriceInEURperMWH = elec_prices_data[\"ElectricityPriceInEURperMWH\" ]\n",
    "fig, ax1 = plt.subplots()\n",
    "ax2 = ax1.twinx()\n",
    "load_generation[\"electrolysis_power_consumption\"] = load_generation[\"electrolysis_power_consumption\"]*-1\n",
    "load_generation.iloc[0:100,0:7].plot( ax=ax1)\n",
    "\n",
    "ax1.legend(fontsize='medium', loc='upper left', bbox_to_anchor=(1.2,    1))\n",
    "ax2.plot(ElectricityPriceInEURperMWH.loc[0:100] , color = \"black\")\n",
    "#ax2.set_ylim(-1000, 4100)\n",
    "ax2.legend(['ElectricityPriceInEURperMWH'],fontsize='medium', loc='upper left', bbox_to_anchor=(1.2, 0.3))\n",
    "fig1 = ax1.get_figure()\n",
    "fig1.savefig(path_to_plots + '/' + 'timeseries.png', bbox_inches='tight', dpi=300)"
   ]
  },
  {
   "cell_type": "code",
   "execution_count": null,
   "id": "heavy-sodium",
   "metadata": {},
   "outputs": [],
   "source": [
    "fig, ax1 = plt.subplots()\n",
    "ax2 = ax1.twinx()\n",
    "load_generation.iloc[0:250,[2,4]].plot( ax=ax1)\n",
    "ax1.legend(fontsize='medium', loc='upper left', bbox_to_anchor=(1.2,    1))\n",
    "ax2.legend(['ElectricityPriceInEURperMWH'],fontsize='medium', loc='upper left', bbox_to_anchor=(1.2, 0.3))\n",
    "ax2.plot(ElectricityPriceInEURperMWH.loc[0:250] , color = \"black\")\n",
    "ax1.set_ylabel('shedding / storages',  color = \"blue\")\n",
    "ax2.set_ylabel('ElectricityPriceInEURperMWH', color = \"black\")\n",
    "fig.savefig(path_to_plots + '/' + 'storages_loadshedding.png', bbox_inches='tight', dpi=300)"
   ]
  },
  {
   "cell_type": "code",
   "execution_count": null,
   "id": "prime-announcement",
   "metadata": {},
   "outputs": [],
   "source": [
    "# plt.stackplot( load_generation.index, load_generation.res, load_generation.conventionals, load_generation.load_shedding, load_generation.storages_discharging,\n",
    "#               load_generation.storages_discharging,  labels=['RES', 'conventional', \"load shedding\", \"dish\", \"charg\"]  )\n"
   ]
  },
  {
   "cell_type": "code",
   "execution_count": null,
   "id": "protected-bobby",
   "metadata": {},
   "outputs": [],
   "source": [
    "storages = 1\n",
    "if storages != None:\n",
    "    path_to_storages_raw = os.path.join(path_to_results, \"output\",\"raw\",\"StorageTrader.csv\")\n",
    "    storages_raw = pd.read_csv(path_to_storages_raw, sep=\";\") \n",
    "    storages_results[\"InstalledPowerInMW\"].sum()\n",
    "    #storage_levels_data[\"value\"][1:].plot.scatter() # \n",
    "    storage_levels_data.reset_index().plot.scatter(x = 'index', y = 'value')\n",
    "    production = storages_results['PRODUCTION_IN_MWH'].sum()\n",
    "    discharging = generation_data[\"storages_discharging\"].sum()\n",
    "    charging = generation_data[\"storages_charging\"].sum()\n",
    "\n",
    "    print(\"storages GW: \" + str(storages_data[\"InstalledPowerInMW\"].sum()/1000))\n",
    "    \n",
    "    total_battery_use = load_generation[\"storages_discharging\"].sum()\n",
    "    print(\"batteries use GWh: \" + str(total_battery_use/1000))\n",
    "    \n",
    "    batteries_FLH = (total_battery_use/storages_data[\"InstalledPowerInMW\"].sum())\n",
    "    print(\"batteries_FLH: \" + str(batteries_FLH)) \n",
    "    print(\"production/discharging \"+ str(production/discharging) )\n",
    "    discharging/charging"
   ]
  },
  {
   "cell_type": "code",
   "execution_count": null,
   "id": "active-visitor",
   "metadata": {},
   "outputs": [],
   "source": [
    "#this only work when there is one battery!!!!!!!!!!!!!!!!!!!!!!!!!!!!!!!\n",
    "# storages_bids_discharge = storages_raw[\"OfferedDischargePriceInEURperMWH\"].dropna()\n",
    "# storages_bids_discharge.reset_index(drop=True, inplace = True)\n",
    "# storages_bids_charge = storages_raw[\"OfferedChargePriceInEURperMWH\"].dropna()\n",
    "# storages_bids_charge.reset_index(drop=True, inplace = True)\n",
    "# storages_bids_charge.sort_values(ignore_index=True).plot()\n",
    "\n",
    "# AwardedDischargePowerInMWH = storages_raw[\"AwardedDischargePowerInMWH\"].dropna()\n",
    "# AwardedDischargePowerInMWH.reset_index(drop=True, inplace = True)\n",
    "# plt.scatter(x = ElectricityPriceInEURperMWH , y= AwardedDischargePowerInMWH )\n",
    "# plt.legend()\n",
    "# plt.xlabel(\"ElectricityPriceInEURperMWH\")\n",
    "# plt.ylabel(\"AwardedDischargePowerInMWH\")\n",
    "# plt.savefig(path_to_plots + '/' + 'DischargePowervsprices.png', bbox_inches='tight', dpi=300)\n",
    "# plt.show()\n",
    "# plt.close()\n",
    "# x = storages_bids_discharge.values.reshape(-1,1)\n",
    "# y = storages_bids_charge.values.reshape(-1,1)\n",
    "# regr = LinearRegression()\n",
    "# regr.fit(x, y)\n",
    "# fig = plt.scatter(x, y,  color='black')\n",
    "# plt.plot(x, regr.predict(x), color='blue', linewidth=3)\n",
    "# plt.xlabel(\"ElectricityPriceInEURperMWH\")\n",
    "# plt.ylabel(\"OfferedDischargePriceInEURperMWH\")\n",
    "# plt.legend()\n",
    "# plt.show()\n",
    "# print(\"Coefficients: \\n\", regr.coef_)\n",
    "# fig, ax1 = plt.subplots()\n",
    "# storages_bids_discharge.loc[8500:8760].plot(color = \"blue\")\n",
    "# ElectricityPriceInEURperMWH.loc[8500:8760].plot( color = \"black\")\n",
    "# ax1.legend(fontsize='medium', loc='upper left', bbox_to_anchor=(1.2, 1))\n"
   ]
  },
  {
   "cell_type": "code",
   "execution_count": null,
   "id": "superior-deputy",
   "metadata": {},
   "outputs": [],
   "source": [
    "plt.scatter(x = ElectricityPriceInEURperMWH , y= load_generation[\"storages_discharging\"] )\n",
    "plt.legend()\n",
    "plt.xlabel(\"ElectricityPriceInEURperMWH\")\n",
    "plt.ylabel(\"storages_discharging\")\n",
    "plt.savefig(path_to_plots + '/' + 'BatteriesProductionvsPricesTimeseries.png', bbox_inches='tight', dpi=300)\n",
    "load_generation[\"storages_discharging\"].sum()"
   ]
  },
  {
   "cell_type": "code",
   "execution_count": null,
   "id": "utility-diploma",
   "metadata": {
    "scrolled": true
   },
   "outputs": [],
   "source": [
    "storages = load_generation[[\"storages_charging\", \"storages_discharging\"]].copy()\n",
    "sum_storages = storages.sum().divide(1000).to_string()\n",
    "print(sum_storages)\n",
    "ax1 = storages.iloc[0:100,:].plot.area()\n",
    "ax1.legend(fontsize='medium', loc='upper left', bbox_to_anchor=(1.2, 1))\n",
    "ax1.annotate(sum_storages,\n",
    "               xy=(0.9, 0.8), xycoords='figure fraction',\n",
    "               horizontalalignment='right', verticalalignment='top',\n",
    "               fontsize='small')\n",
    "fig1 = ax1.get_figure()\n",
    "fig1.savefig(path_to_plots + '/' + 'storages_timeseries.png', bbox_inches='tight', dpi=300)"
   ]
  },
  {
   "cell_type": "code",
   "execution_count": null,
   "id": "equal-teaching",
   "metadata": {},
   "outputs": [],
   "source": [
    "fig, ax1 = plt.subplots()\n",
    "ax2 = ax1.twinx()\n",
    "storages.iloc[0:100,:].plot( ax=ax1, alpha=0.95)\n",
    "#load_generation.iloc[8000:8120,4].plot( ax=ax1, alpha=0.95)\n",
    "ax1.legend(fontsize='medium', loc='upper left', bbox_to_anchor=(1.2, 1))\n",
    "ax2.plot(ElectricityPriceInEURperMWH.loc[0:100] , color = \"black\")\n",
    "ax1.set_ylabel('charging/dischargingMW',  color = \"orange\")\n",
    "ax2.set_ylabel('ElectricityPriceInEURperMWH')\n",
    "ax2.legend(['ElectricityPriceInEURperMWH'],fontsize='medium', loc='upper left', bbox_to_anchor=(1.2, 0.5))\n",
    "fig1 = ax1.get_figure()\n",
    "fig1.savefig(path_to_plots + '/' + 'storages_timeseries_short.png', bbox_inches='tight', dpi=300)"
   ]
  },
  {
   "cell_type": "code",
   "execution_count": null,
   "id": "straight-papua",
   "metadata": {},
   "outputs": [],
   "source": [
    "electrolysisPowerConsumptioninMWh  = load_generation[\"electrolysis_power_consumption\"]"
   ]
  },
  {
   "cell_type": "code",
   "execution_count": null,
   "id": "clear-accordance",
   "metadata": {},
   "outputs": [],
   "source": [
    "fig, ax1 = plt.subplots()\n",
    "ax2 = ax1.twinx()\n",
    "electrolysisPowerConsumptioninMWh = electrolysisPowerConsumptioninMWh*-1\n",
    "electrolysisPowerConsumptioninMWh.loc[4000:4120].plot( ax=ax1, color = \"blue\")\n",
    "ax1.legend(fontsize='medium', loc='upper left', bbox_to_anchor=(1.2, 1))\n",
    "ax2.plot(ElectricityPriceInEURperMWH.loc[4000:4120] , color = \"black\")\n",
    "ax1.set_ylabel('Electrolysis MW', color = \"blue\")\n",
    "ax2.set_ylabel('ElectricityPriceInEURperMWH')\n",
    "ax2.legend(['ElectricityPriceInEURperMWH'],fontsize='medium', loc='upper left', bbox_to_anchor=(1.2, 0.9))\n",
    "plt.savefig(path_to_plots + '/' + 'H2vsPricesTimeseries.png', bbox_inches='tight', dpi=300)"
   ]
  },
  {
   "cell_type": "code",
   "execution_count": null,
   "id": "numerous-forest",
   "metadata": {},
   "outputs": [],
   "source": [
    "electricityPrice= ElectricityPriceInEURperMWH.values.reshape(-1,1)\n",
    "electrolysisPower = electrolysisPowerConsumptioninMWh.values.reshape(-1,1)\n",
    "#fig = plt.scatter(electricityPrice, electrolysisPower)\n",
    "f = plt.figure()  \n",
    "fig, axes= plt.subplots(nrows=2, ncols=1)\n",
    "axes[0].scatter(electricityPrice, electrolysisPower)\n",
    "\n",
    "axes[1].scatter(electricityPrice, electrolysisPower)\n",
    "plt.xlim([0, 200])\n",
    "plt.xlabel(\"ElectricityPriceInEURperMWH\")\n",
    "plt.ylabel(\"electrolysisPowerConsumptioninMWh\")\n",
    "plt.savefig(path_to_plots + '/' + 'H2vsPrices.png', bbox_inches='tight', dpi=300)"
   ]
  },
  {
   "cell_type": "code",
   "execution_count": null,
   "id": "treated-healing",
   "metadata": {},
   "outputs": [],
   "source": [
    "h2prices = pd.DataFrame(list(zip(ElectricityPriceInEURperMWH, electrolysisPowerConsumptioninMWh)),\n",
    "              columns =['electricityPrice', 'electrolysisPower'])\n",
    "h2prices.head()"
   ]
  },
  {
   "cell_type": "code",
   "execution_count": null,
   "id": "contrary-bronze",
   "metadata": {},
   "outputs": [],
   "source": [
    "# h2prices_filtered = h2prices[h2prices[\"electricityPrice\"] < 200]\n",
    "# ax1 = h2prices_filtered.plot.scatter(x='electricityPrice',\n",
    "#                        y='electrolysisPower',\n",
    "#                        c='DarkBlue')\n",
    "# plt.savefig(path_to_plots + '/' + 'H2vsPricesZoom.png', bbox_inches='tight', dpi=300)\n",
    "hydrogen_price_limit\n",
    "merged_df.head()\n"
   ]
  },
  {
   "cell_type": "code",
   "execution_count": null,
   "id": "appropriate-church",
   "metadata": {},
   "outputs": [],
   "source": []
  },
  {
   "cell_type": "code",
   "execution_count": null,
   "id": "silver-glossary",
   "metadata": {
    "scrolled": true
   },
   "outputs": [],
   "source": [
    "# LOLE\n",
    "LOLE = len(load_generation[(load_generation[\"load_shedding\"]>0) & (ElectricityPriceInEURperMWH == 4000)])\n",
    "hydrogen_not_produced_mwh = load_generation.loc[(load_generation[\"load_shedding\"]>0) & (ElectricityPriceInEURperMWH <=hydrogen_price_limit) \n",
    "                                                ,\"load_shedding\"]\n",
    "industrial_not_produced_mwh = load_generation.loc[(load_generation[\"load_shedding\"]>0) & (ElectricityPriceInEURperMWH > industrial_price_limit) \n",
    "                                                &(ElectricityPriceInEURperMWH <=industrial_price_limit),\"load_shedding\"]\n",
    "\n",
    "industrial_ENS = industrial_not_produced_mwh.sum()\n",
    "industrial_ENS_gwh = industrial_ENS/1000\n",
    "\n",
    "hydrogen_ENS = hydrogen_not_produced_mwh.sum()\n",
    "hydrogen_ENS_gwh = hydrogen_ENS/1000\n",
    "print(hydrogen_ENS)"
   ]
  },
  {
   "cell_type": "code",
   "execution_count": null,
   "id": "sweet-guyana",
   "metadata": {},
   "outputs": [],
   "source": [
    "ax1 = load_generation[[\"load_shedding\"]].plot( alpha=0.95)\n",
    "ax1.annotate(\"LOLE:\" + str(LOLE),\n",
    "               xy=(0.5, 0.9), xycoords='figure fraction',\n",
    "               horizontalalignment='right', verticalalignment='bottom',\n",
    "               fontsize='small')\n",
    "\n",
    "fig1 = ax1.get_figure()\n",
    "ax1.set_xlabel(\"hours\")\n",
    "ax1.set_ylabel(\"MW\")\n",
    "fig1.savefig(path_to_plots + '/' + 'load_shedding.png', bbox_inches='tight', dpi=300)\n",
    "fig, ax1 = plt.subplots()\n",
    "ax2 = ax1.twinx()\n",
    "hydrogen_produced_hours.iloc[0:100].plot(ax=ax1)\n",
    "ax1.legend(fontsize='medium', loc='upper left', bbox_to_anchor=(1.2,    1))\n",
    "filtered_elec = ElectricityPriceInEURperMWH.loc[(load_generation[\"load_shedding\"]>0) & (ElectricityPriceInEURperMWH <=hydrogen_price_limit)]\n",
    "\n",
    "ax2.plot(ElectricityPriceInEURperMWH.loc[0:100] , color = \"black\")\n",
    "ax2.legend(['ElectricityPriceInEURperMWH'],fontsize='medium', loc='upper left', bbox_to_anchor=(1.2, 0.3))\n",
    "fig1 = ax1.get_figure()\n",
    "fig1.savefig(path_to_plots + '/' + 'load_shedding_timeseries.png', bbox_inches='tight', dpi=300)"
   ]
  },
  {
   "cell_type": "code",
   "execution_count": null,
   "id": "dental-vision",
   "metadata": {},
   "outputs": [],
   "source": [
    "#power consumed in MW\n",
    "H2_produced = load_generation[\"electrolysis_power_consumption\"].sum()/1000\n",
    "totalH2GWh = round(H2_produced*electrolysers_results.ConversionFactor[0],0)\n",
    "print(\"H2_produced_GWh \" + str(round(H2_produced,0)))\n",
    "\n",
    "input_H2_demand_GWh = electrolysers_data.HydrogenProductionTargetInMWH.sum()*12/1000\n",
    "print(\"input_H2_demand_GWh \" + str(round(input_H2_demand_GWh,0)))\n",
    "\n",
    "hydrogen_producedin_percent = round((totalH2GWh/input_H2_demand_GWh)*100,2)\n",
    "print(\"produced_hydrogen % \" +str(hydrogen_producedin_percent))"
   ]
  },
  {
   "cell_type": "code",
   "execution_count": null,
   "id": "adapted-disabled",
   "metadata": {},
   "outputs": [],
   "source": [
    "produced_hydrogen"
   ]
  },
  {
   "cell_type": "code",
   "execution_count": null,
   "id": "herbal-oxide",
   "metadata": {},
   "outputs": [],
   "source": [
    "# Input = TWh monthly12901502.5\n",
    "Input = 12901502.5*12/electrolysers_results.ConversionFactor[0]\n",
    "hydrogen_monthly = 15505796\n",
    "hydrogen_yearly = hydrogen_monthly*12\n",
    "\n",
    "hydrogen_and_industrial_gwh = (input_industrial_demand + hydrogen_monthly*12)/1000 # GWh\n",
    "\n",
    "produced_industrial = input_industrial_demand - industrial_ENS\n",
    "produced_hydrogen  =input_hydrogen_demand - hydrogen_ENS\n",
    "\n",
    "print(\"hydrogen_and_industrial GWh  \" + str(round(hydrogen_and_industrial_gwh,0)))\n",
    "print(\"hydrogen produced \" + str(produced_hydrogen))\n",
    "print(\"industrial produced \" + str(produced_industrial))\n",
    "\n",
    "hydrogen_produced_percent = round(produced_hydrogen /hydrogen_yearly*100,0)\n",
    "print(\"hydrogen produced/reality \" + str(hydrogen_produced_percent))\n",
    "\n",
    "hydrogen_capacityfactor = round(produced_hydrogen /input_hydrogen_demand*100,0)\n",
    "print(hydrogen_capacityfactor)\n"
   ]
  },
  {
   "cell_type": "code",
   "execution_count": null,
   "id": "royal-billy",
   "metadata": {},
   "outputs": [],
   "source": [
    "industrial_monthly = 53920638 #input (separate demands)\n",
    "industrial_demand = 46531661# acccording to output\n",
    "industrial_produced_percent = round(produced_industrial /industrial_demand*100,0)\n",
    "print(\"industrial produced/reality \" + str(industrial_produced_percent))\n",
    "\n",
    "# if industry produced from electrolyzer\n",
    "industrial_produced_percent =hydrogen_producedin_percent"
   ]
  },
  {
   "cell_type": "code",
   "execution_count": null,
   "id": "corresponding-arrow",
   "metadata": {},
   "outputs": [],
   "source": [
    "load_generation['group'] = (load_generation.index // 730)\n",
    "grouped = load_generation.groupby(['group']).sum()\n",
    "ax1 = grouped.plot()\n",
    "ax1.annotate(\"H2 :\" + str(hydrogen_produced_percent ) + \"%  Industrial \" + str(industrial_produced_percent) + \"%\",\n",
    "               xy=(0.5, 0.5), xycoords='figure fraction',\n",
    "               horizontalalignment='right', verticalalignment='bottom',\n",
    "               fontsize='small')\n",
    "\n",
    "ax1.legend(fontsize='medium', loc='upper left', bbox_to_anchor=(1, 1))\n",
    "fig1 = ax1.get_figure()\n",
    "fig1.savefig(path_to_plots + '/' + 'monthly_production.png', bbox_inches='tight', dpi=300)"
   ]
  },
  {
   "cell_type": "code",
   "execution_count": null,
   "id": "listed-assist",
   "metadata": {},
   "outputs": [],
   "source": [
    "grouped[\"electrolysis_power_consumption\"].plot()"
   ]
  },
  {
   "cell_type": "code",
   "execution_count": null,
   "id": "grateful-arthritis",
   "metadata": {},
   "outputs": [],
   "source": [
    "load_generation[[\"load_shedding\"]].sum()"
   ]
  },
  {
   "cell_type": "code",
   "execution_count": null,
   "id": "through-surfing",
   "metadata": {},
   "outputs": [],
   "source": [
    "producedin_percent"
   ]
  },
  {
   "cell_type": "code",
   "execution_count": null,
   "id": "understanding-experiment",
   "metadata": {},
   "outputs": [],
   "source": []
  },
  {
   "cell_type": "code",
   "execution_count": null,
   "id": "extensive-albany",
   "metadata": {},
   "outputs": [],
   "source": []
  }
 ],
 "metadata": {
  "kernelspec": {
   "display_name": "amiris_spinetoolbox",
   "language": "python",
   "name": "amiris"
  },
  "language_info": {
   "codemirror_mode": {
    "name": "ipython",
    "version": 3
   },
   "file_extension": ".py",
   "mimetype": "text/x-python",
   "name": "python",
   "nbconvert_exporter": "python",
   "pygments_lexer": "ipython3",
   "version": "3.8.11"
  }
 },
 "nbformat": 4,
 "nbformat_minor": 5
}
