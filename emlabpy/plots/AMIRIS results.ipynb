{
 "cells": [
  {
   "cell_type": "code",
   "execution_count": 1,
   "id": "acquired-bulgaria",
   "metadata": {},
   "outputs": [],
   "source": [
    "import os\n",
    "import matplotlib.pyplot as plt\n",
    "import numpy as np\n",
    "import pandas as pd\n",
    "import seaborn as sns\n",
    "sns.set_theme(style=\"whitegrid\")\n",
    "path_to_results = os.path.join(os.path.dirname(os.path.dirname(os.getcwd()) ), \"amiris_workflow\")\n",
    "path_to_structure = os.path.join(path_to_results, \"amiris_data_structure.xlsx\")\n",
    "path_to_load = os.path.join(path_to_results, \"amiris-config\", \"data\",\"load.csv\")\n",
    "path_to_output = os.path.join(path_to_results, \"output\",\"amiris_results.csv\" )\n",
    "path_to_storage_levels = os.path.join(path_to_results, \"output\",\"final_storage_levels.csv\" )\n",
    "path_to_generation = os.path.join(path_to_results, \"output\",\"hourly_generation_per_group.csv\" )\n",
    "path_to_electricity_prices = os.path.join(path_to_results, \"output\",\"raw\",\"EnergyExchangeMulti.csv\" )\n",
    "path_to_plots = os.path.join(os.getcwd(),  \"Scenarios\")\n",
    "\n",
    "#-----------------------------------------------------------------------------\n",
    "elec_prices_data = pd.read_csv(path_to_electricity_prices, sep=\";\")  \n",
    "generation_data =  pd.read_csv(path_to_generation, index_col=\"Unnamed: 0\")\n",
    "load_data = pd.read_csv(path_to_load, sep=\";\", header=None) \n",
    "results_data = pd.read_csv(path_to_output) \n",
    "storage_levels_data = pd.read_csv(path_to_storage_levels) \n",
    "storages_data = pd.read_excel(path_to_structure, sheet_name='storages', index_col=0)\n",
    "conventionals_data = pd.read_excel(path_to_structure, sheet_name='conventionals', index_col=0)\n",
    "biogas_data = pd.read_excel(path_to_structure, sheet_name='biogas', index_col=0)"
   ]
  },
  {
   "cell_type": "code",
   "execution_count": 2,
   "id": "swedish-count",
   "metadata": {},
   "outputs": [],
   "source": [
    "conventionals_join = pd.merge(conventionals_data, \n",
    "                      results_data, \n",
    "                      on ='identifier', \n",
    "                      how ='inner')\n",
    "storages_results = pd.merge(storages_data, \n",
    "                      results_data, \n",
    "                      on ='identifier', \n",
    "                      how ='inner')"
   ]
  },
  {
   "cell_type": "code",
   "execution_count": 26,
   "id": "reasonable-sheriff",
   "metadata": {},
   "outputs": [
    {
     "data": {
      "text/html": [
       "<div>\n",
       "<style scoped>\n",
       "    .dataframe tbody tr th:only-of-type {\n",
       "        vertical-align: middle;\n",
       "    }\n",
       "\n",
       "    .dataframe tbody tr th {\n",
       "        vertical-align: top;\n",
       "    }\n",
       "\n",
       "    .dataframe thead th {\n",
       "        text-align: right;\n",
       "    }\n",
       "</style>\n",
       "<table border=\"1\" class=\"dataframe\">\n",
       "  <thead>\n",
       "    <tr style=\"text-align: right;\">\n",
       "      <th></th>\n",
       "      <th>res</th>\n",
       "      <th>conventionals</th>\n",
       "      <th>storages_discharging</th>\n",
       "      <th>storages_charging</th>\n",
       "      <th>storages_aggregated_level</th>\n",
       "      <th>load_shedding</th>\n",
       "    </tr>\n",
       "  </thead>\n",
       "  <tbody>\n",
       "    <tr>\n",
       "      <th>0</th>\n",
       "      <td>50550.813</td>\n",
       "      <td>0.0</td>\n",
       "      <td>0.0</td>\n",
       "      <td>0.0</td>\n",
       "      <td>0.0</td>\n",
       "      <td>0.0</td>\n",
       "    </tr>\n",
       "    <tr>\n",
       "      <th>1</th>\n",
       "      <td>50459.813</td>\n",
       "      <td>0.0</td>\n",
       "      <td>0.0</td>\n",
       "      <td>0.0</td>\n",
       "      <td>0.0</td>\n",
       "      <td>0.0</td>\n",
       "    </tr>\n",
       "    <tr>\n",
       "      <th>2</th>\n",
       "      <td>50199.313</td>\n",
       "      <td>0.0</td>\n",
       "      <td>0.0</td>\n",
       "      <td>0.0</td>\n",
       "      <td>0.0</td>\n",
       "      <td>0.0</td>\n",
       "    </tr>\n",
       "    <tr>\n",
       "      <th>3</th>\n",
       "      <td>49932.813</td>\n",
       "      <td>0.0</td>\n",
       "      <td>0.0</td>\n",
       "      <td>0.0</td>\n",
       "      <td>0.0</td>\n",
       "      <td>0.0</td>\n",
       "    </tr>\n",
       "    <tr>\n",
       "      <th>4</th>\n",
       "      <td>49679.313</td>\n",
       "      <td>0.0</td>\n",
       "      <td>0.0</td>\n",
       "      <td>0.0</td>\n",
       "      <td>0.0</td>\n",
       "      <td>0.0</td>\n",
       "    </tr>\n",
       "  </tbody>\n",
       "</table>\n",
       "</div>"
      ],
      "text/plain": [
       "         res  conventionals  storages_discharging  storages_charging  \\\n",
       "0  50550.813            0.0                   0.0                0.0   \n",
       "1  50459.813            0.0                   0.0                0.0   \n",
       "2  50199.313            0.0                   0.0                0.0   \n",
       "3  49932.813            0.0                   0.0                0.0   \n",
       "4  49679.313            0.0                   0.0                0.0   \n",
       "\n",
       "   storages_aggregated_level  load_shedding  \n",
       "0                        0.0            0.0  \n",
       "1                        0.0            0.0  \n",
       "2                        0.0            0.0  \n",
       "3                        0.0            0.0  \n",
       "4                        0.0            0.0  "
      ]
     },
     "execution_count": 26,
     "metadata": {},
     "output_type": "execute_result"
    }
   ],
   "source": [
    "generation_data.head()"
   ]
  },
  {
   "cell_type": "code",
   "execution_count": 4,
   "id": "raised-evidence",
   "metadata": {},
   "outputs": [
    {
     "data": {
      "text/plain": [
       "18000"
      ]
     },
     "execution_count": 4,
     "metadata": {},
     "output_type": "execute_result"
    }
   ],
   "source": [
    "storages_results[\"InstalledPowerInMW\"].sum()"
   ]
  },
  {
   "cell_type": "code",
   "execution_count": 5,
   "id": "arabic-exhibit",
   "metadata": {},
   "outputs": [
    {
     "data": {
      "text/plain": [
       "<AxesSubplot:>"
      ]
     },
     "execution_count": 5,
     "metadata": {},
     "output_type": "execute_result"
    },
    {
     "data": {
      "image/png": "[encoded data removed]",
      "text/plain": [
       "<Figure size 432x288 with 1 Axes>"
      ]
     },
     "metadata": {},
     "output_type": "display_data"
    }
   ],
   "source": [
    "elec_prices_data[\"ElectricityPriceInEURperMWH\"].plot()"
   ]
  },
  {
   "cell_type": "code",
   "execution_count": 6,
   "id": "threatened-target",
   "metadata": {},
   "outputs": [
    {
     "data": {
      "text/html": [
       "<div>\n",
       "<style scoped>\n",
       "    .dataframe tbody tr th:only-of-type {\n",
       "        vertical-align: middle;\n",
       "    }\n",
       "\n",
       "    .dataframe tbody tr th {\n",
       "        vertical-align: top;\n",
       "    }\n",
       "\n",
       "    .dataframe thead th {\n",
       "        text-align: right;\n",
       "    }\n",
       "</style>\n",
       "<table border=\"1\" class=\"dataframe\">\n",
       "  <thead>\n",
       "    <tr style=\"text-align: right;\">\n",
       "      <th></th>\n",
       "      <th>AgentId</th>\n",
       "      <th>TimeStep</th>\n",
       "      <th>TotalAwardedPowerInMW</th>\n",
       "      <th>ElectricityPriceInEURperMWH</th>\n",
       "      <th>DispatchSystemCostInEUR</th>\n",
       "    </tr>\n",
       "  </thead>\n",
       "  <tbody>\n",
       "    <tr>\n",
       "      <th>0</th>\n",
       "      <td>1</td>\n",
       "      <td>946080003</td>\n",
       "      <td>50550.813</td>\n",
       "      <td>3.0</td>\n",
       "      <td>111769.60996</td>\n",
       "    </tr>\n",
       "    <tr>\n",
       "      <th>1</th>\n",
       "      <td>1</td>\n",
       "      <td>946083603</td>\n",
       "      <td>50459.813</td>\n",
       "      <td>3.0</td>\n",
       "      <td>108693.84996</td>\n",
       "    </tr>\n",
       "    <tr>\n",
       "      <th>2</th>\n",
       "      <td>1</td>\n",
       "      <td>946087203</td>\n",
       "      <td>50199.313</td>\n",
       "      <td>3.0</td>\n",
       "      <td>104494.34996</td>\n",
       "    </tr>\n",
       "    <tr>\n",
       "      <th>3</th>\n",
       "      <td>1</td>\n",
       "      <td>946090803</td>\n",
       "      <td>49932.813</td>\n",
       "      <td>3.0</td>\n",
       "      <td>99866.68996</td>\n",
       "    </tr>\n",
       "    <tr>\n",
       "      <th>4</th>\n",
       "      <td>1</td>\n",
       "      <td>946094403</td>\n",
       "      <td>49679.313</td>\n",
       "      <td>3.0</td>\n",
       "      <td>96235.06996</td>\n",
       "    </tr>\n",
       "  </tbody>\n",
       "</table>\n",
       "</div>"
      ],
      "text/plain": [
       "   AgentId   TimeStep  TotalAwardedPowerInMW  ElectricityPriceInEURperMWH  \\\n",
       "0        1  946080003              50550.813                          3.0   \n",
       "1        1  946083603              50459.813                          3.0   \n",
       "2        1  946087203              50199.313                          3.0   \n",
       "3        1  946090803              49932.813                          3.0   \n",
       "4        1  946094403              49679.313                          3.0   \n",
       "\n",
       "   DispatchSystemCostInEUR  \n",
       "0             111769.60996  \n",
       "1             108693.84996  \n",
       "2             104494.34996  \n",
       "3              99866.68996  \n",
       "4              96235.06996  "
      ]
     },
     "execution_count": 6,
     "metadata": {},
     "output_type": "execute_result"
    }
   ],
   "source": [
    "elec_prices_data.head()"
   ]
  },
  {
   "cell_type": "code",
   "execution_count": 7,
   "id": "skilled-antenna",
   "metadata": {},
   "outputs": [
    {
     "data": {
      "text/html": [
       "<div>\n",
       "<style scoped>\n",
       "    .dataframe tbody tr th:only-of-type {\n",
       "        vertical-align: middle;\n",
       "    }\n",
       "\n",
       "    .dataframe tbody tr th {\n",
       "        vertical-align: top;\n",
       "    }\n",
       "\n",
       "    .dataframe thead th {\n",
       "        text-align: right;\n",
       "    }\n",
       "</style>\n",
       "<table border=\"1\" class=\"dataframe\">\n",
       "  <thead>\n",
       "    <tr style=\"text-align: right;\">\n",
       "      <th></th>\n",
       "      <th>Unnamed: 0</th>\n",
       "      <th>value</th>\n",
       "    </tr>\n",
       "  </thead>\n",
       "  <tbody>\n",
       "    <tr>\n",
       "      <th>0</th>\n",
       "      <td>20482600036</td>\n",
       "      <td>35500.0</td>\n",
       "    </tr>\n",
       "    <tr>\n",
       "      <th>1</th>\n",
       "      <td>20502600030</td>\n",
       "      <td>1500.0</td>\n",
       "    </tr>\n",
       "    <tr>\n",
       "      <th>2</th>\n",
       "      <td>20502600037</td>\n",
       "      <td>20000.0</td>\n",
       "    </tr>\n",
       "    <tr>\n",
       "      <th>3</th>\n",
       "      <td>20512600042</td>\n",
       "      <td>500.0</td>\n",
       "    </tr>\n",
       "    <tr>\n",
       "      <th>4</th>\n",
       "      <td>20512600043</td>\n",
       "      <td>500.0</td>\n",
       "    </tr>\n",
       "  </tbody>\n",
       "</table>\n",
       "</div>"
      ],
      "text/plain": [
       "    Unnamed: 0    value\n",
       "0  20482600036  35500.0\n",
       "1  20502600030   1500.0\n",
       "2  20502600037  20000.0\n",
       "3  20512600042    500.0\n",
       "4  20512600043    500.0"
      ]
     },
     "execution_count": 7,
     "metadata": {},
     "output_type": "execute_result"
    }
   ],
   "source": [
    "storage_levels_data.head()"
   ]
  },
  {
   "cell_type": "code",
   "execution_count": 31,
   "id": "positive-legislation",
   "metadata": {},
   "outputs": [
    {
     "data": {
      "text/html": [
       "<div>\n",
       "<style scoped>\n",
       "    .dataframe tbody tr th:only-of-type {\n",
       "        vertical-align: middle;\n",
       "    }\n",
       "\n",
       "    .dataframe tbody tr th {\n",
       "        vertical-align: top;\n",
       "    }\n",
       "\n",
       "    .dataframe thead th {\n",
       "        text-align: right;\n",
       "    }\n",
       "</style>\n",
       "<table border=\"1\" class=\"dataframe\">\n",
       "  <thead>\n",
       "    <tr style=\"text-align: right;\">\n",
       "      <th></th>\n",
       "      <th>identifier</th>\n",
       "      <th>StorageType</th>\n",
       "      <th>EnergyToPowerRatio</th>\n",
       "      <th>ChargingEfficiency</th>\n",
       "      <th>DischargingEfficiency</th>\n",
       "      <th>InitialEnergyLevelInMWH</th>\n",
       "      <th>InstalledPowerInMW</th>\n",
       "      <th>VARIABLE_COSTS_IN_EURO</th>\n",
       "      <th>REVENUES_IN_EURO</th>\n",
       "      <th>PRODUCTION_IN_MWH</th>\n",
       "      <th>CONTRIBUTION_MARGIN_IN_EURO</th>\n",
       "    </tr>\n",
       "  </thead>\n",
       "  <tbody>\n",
       "    <tr>\n",
       "      <th>0</th>\n",
       "      <td>20552600095</td>\n",
       "      <td>STORAGE</td>\n",
       "      <td>5</td>\n",
       "      <td>0.92</td>\n",
       "      <td>0.92</td>\n",
       "      <td>0</td>\n",
       "      <td>100</td>\n",
       "      <td>7.024017e+05</td>\n",
       "      <td>5.404950e+06</td>\n",
       "      <td>4875.050152</td>\n",
       "      <td>4.702548e+06</td>\n",
       "    </tr>\n",
       "    <tr>\n",
       "      <th>1</th>\n",
       "      <td>20552600096</td>\n",
       "      <td>STORAGE</td>\n",
       "      <td>5</td>\n",
       "      <td>0.92</td>\n",
       "      <td>0.92</td>\n",
       "      <td>0</td>\n",
       "      <td>100</td>\n",
       "      <td>7.024017e+05</td>\n",
       "      <td>5.404950e+06</td>\n",
       "      <td>4875.050152</td>\n",
       "      <td>4.702548e+06</td>\n",
       "    </tr>\n",
       "    <tr>\n",
       "      <th>2</th>\n",
       "      <td>20552600097</td>\n",
       "      <td>STORAGE</td>\n",
       "      <td>5</td>\n",
       "      <td>0.92</td>\n",
       "      <td>0.92</td>\n",
       "      <td>0</td>\n",
       "      <td>100</td>\n",
       "      <td>7.024017e+05</td>\n",
       "      <td>5.404950e+06</td>\n",
       "      <td>4875.050152</td>\n",
       "      <td>4.702548e+06</td>\n",
       "    </tr>\n",
       "    <tr>\n",
       "      <th>3</th>\n",
       "      <td>20552600098</td>\n",
       "      <td>STORAGE</td>\n",
       "      <td>5</td>\n",
       "      <td>0.92</td>\n",
       "      <td>0.92</td>\n",
       "      <td>0</td>\n",
       "      <td>100</td>\n",
       "      <td>7.024017e+05</td>\n",
       "      <td>5.404950e+06</td>\n",
       "      <td>4875.050152</td>\n",
       "      <td>4.702548e+06</td>\n",
       "    </tr>\n",
       "    <tr>\n",
       "      <th>4</th>\n",
       "      <td>20552600099</td>\n",
       "      <td>STORAGE</td>\n",
       "      <td>5</td>\n",
       "      <td>0.92</td>\n",
       "      <td>0.92</td>\n",
       "      <td>0</td>\n",
       "      <td>100</td>\n",
       "      <td>7.024017e+05</td>\n",
       "      <td>5.404950e+06</td>\n",
       "      <td>4875.050152</td>\n",
       "      <td>4.702548e+06</td>\n",
       "    </tr>\n",
       "    <tr>\n",
       "      <th>...</th>\n",
       "      <td>...</td>\n",
       "      <td>...</td>\n",
       "      <td>...</td>\n",
       "      <td>...</td>\n",
       "      <td>...</td>\n",
       "      <td>...</td>\n",
       "      <td>...</td>\n",
       "      <td>...</td>\n",
       "      <td>...</td>\n",
       "      <td>...</td>\n",
       "      <td>...</td>\n",
       "    </tr>\n",
       "    <tr>\n",
       "      <th>64</th>\n",
       "      <td>20512600048</td>\n",
       "      <td>STORAGE</td>\n",
       "      <td>5</td>\n",
       "      <td>0.92</td>\n",
       "      <td>0.92</td>\n",
       "      <td>0</td>\n",
       "      <td>100</td>\n",
       "      <td>7.024017e+05</td>\n",
       "      <td>5.404950e+06</td>\n",
       "      <td>4875.050152</td>\n",
       "      <td>4.702548e+06</td>\n",
       "    </tr>\n",
       "    <tr>\n",
       "      <th>65</th>\n",
       "      <td>20512600049</td>\n",
       "      <td>STORAGE</td>\n",
       "      <td>5</td>\n",
       "      <td>0.92</td>\n",
       "      <td>0.92</td>\n",
       "      <td>0</td>\n",
       "      <td>100</td>\n",
       "      <td>7.024017e+05</td>\n",
       "      <td>5.404950e+06</td>\n",
       "      <td>4875.050152</td>\n",
       "      <td>4.702548e+06</td>\n",
       "    </tr>\n",
       "    <tr>\n",
       "      <th>66</th>\n",
       "      <td>20502600030</td>\n",
       "      <td>STORAGE</td>\n",
       "      <td>5</td>\n",
       "      <td>0.92</td>\n",
       "      <td>0.92</td>\n",
       "      <td>0</td>\n",
       "      <td>300</td>\n",
       "      <td>2.107205e+06</td>\n",
       "      <td>1.621485e+07</td>\n",
       "      <td>14625.150456</td>\n",
       "      <td>1.410764e+07</td>\n",
       "    </tr>\n",
       "    <tr>\n",
       "      <th>67</th>\n",
       "      <td>20502600037</td>\n",
       "      <td>STORAGE</td>\n",
       "      <td>5</td>\n",
       "      <td>0.92</td>\n",
       "      <td>0.92</td>\n",
       "      <td>0</td>\n",
       "      <td>4000</td>\n",
       "      <td>2.809607e+07</td>\n",
       "      <td>2.161980e+08</td>\n",
       "      <td>195002.006084</td>\n",
       "      <td>1.881019e+08</td>\n",
       "    </tr>\n",
       "    <tr>\n",
       "      <th>68</th>\n",
       "      <td>20482600036</td>\n",
       "      <td>STORAGE</td>\n",
       "      <td>5</td>\n",
       "      <td>0.92</td>\n",
       "      <td>0.92</td>\n",
       "      <td>0</td>\n",
       "      <td>7100</td>\n",
       "      <td>4.987052e+07</td>\n",
       "      <td>3.837514e+08</td>\n",
       "      <td>346128.560800</td>\n",
       "      <td>3.338809e+08</td>\n",
       "    </tr>\n",
       "  </tbody>\n",
       "</table>\n",
       "<p>69 rows × 11 columns</p>\n",
       "</div>"
      ],
      "text/plain": [
       "     identifier StorageType  EnergyToPowerRatio  ChargingEfficiency  \\\n",
       "0   20552600095     STORAGE                   5                0.92   \n",
       "1   20552600096     STORAGE                   5                0.92   \n",
       "2   20552600097     STORAGE                   5                0.92   \n",
       "3   20552600098     STORAGE                   5                0.92   \n",
       "4   20552600099     STORAGE                   5                0.92   \n",
       "..          ...         ...                 ...                 ...   \n",
       "64  20512600048     STORAGE                   5                0.92   \n",
       "65  20512600049     STORAGE                   5                0.92   \n",
       "66  20502600030     STORAGE                   5                0.92   \n",
       "67  20502600037     STORAGE                   5                0.92   \n",
       "68  20482600036     STORAGE                   5                0.92   \n",
       "\n",
       "    DischargingEfficiency  InitialEnergyLevelInMWH  InstalledPowerInMW  \\\n",
       "0                    0.92                        0                 100   \n",
       "1                    0.92                        0                 100   \n",
       "2                    0.92                        0                 100   \n",
       "3                    0.92                        0                 100   \n",
       "4                    0.92                        0                 100   \n",
       "..                    ...                      ...                 ...   \n",
       "64                   0.92                        0                 100   \n",
       "65                   0.92                        0                 100   \n",
       "66                   0.92                        0                 300   \n",
       "67                   0.92                        0                4000   \n",
       "68                   0.92                        0                7100   \n",
       "\n",
       "    VARIABLE_COSTS_IN_EURO  REVENUES_IN_EURO  PRODUCTION_IN_MWH  \\\n",
       "0             7.024017e+05      5.404950e+06        4875.050152   \n",
       "1             7.024017e+05      5.404950e+06        4875.050152   \n",
       "2             7.024017e+05      5.404950e+06        4875.050152   \n",
       "3             7.024017e+05      5.404950e+06        4875.050152   \n",
       "4             7.024017e+05      5.404950e+06        4875.050152   \n",
       "..                     ...               ...                ...   \n",
       "64            7.024017e+05      5.404950e+06        4875.050152   \n",
       "65            7.024017e+05      5.404950e+06        4875.050152   \n",
       "66            2.107205e+06      1.621485e+07       14625.150456   \n",
       "67            2.809607e+07      2.161980e+08      195002.006084   \n",
       "68            4.987052e+07      3.837514e+08      346128.560800   \n",
       "\n",
       "    CONTRIBUTION_MARGIN_IN_EURO  \n",
       "0                  4.702548e+06  \n",
       "1                  4.702548e+06  \n",
       "2                  4.702548e+06  \n",
       "3                  4.702548e+06  \n",
       "4                  4.702548e+06  \n",
       "..                          ...  \n",
       "64                 4.702548e+06  \n",
       "65                 4.702548e+06  \n",
       "66                 1.410764e+07  \n",
       "67                 1.881019e+08  \n",
       "68                 3.338809e+08  \n",
       "\n",
       "[69 rows x 11 columns]"
      ]
     },
     "execution_count": 31,
     "metadata": {},
     "output_type": "execute_result"
    }
   ],
   "source": [
    "storages_results"
   ]
  },
  {
   "cell_type": "code",
   "execution_count": 9,
   "id": "aggregate-valve",
   "metadata": {},
   "outputs": [
    {
     "name": "stderr",
     "output_type": "stream",
     "text": [
      "*c* argument looks like a single numeric RGB or RGBA sequence, which should be avoided as value-mapping will have precedence in case its length matches with *x* & *y*.  Please use the *color* keyword-argument or provide a 2D array with a single row if you intend to specify the same RGB or RGBA value for all points.\n"
     ]
    },
    {
     "data": {
      "text/plain": [
       "<AxesSubplot:xlabel='index', ylabel='value'>"
      ]
     },
     "execution_count": 9,
     "metadata": {},
     "output_type": "execute_result"
    },
    {
     "data": {
      "image/png": "[encoded data removed]",
      "text/plain": [
       "<Figure size 432x288 with 1 Axes>"
      ]
     },
     "metadata": {},
     "output_type": "display_data"
    }
   ],
   "source": [
    "#storage_levels_data[\"value\"][1:].plot.scatter() # \n",
    "storage_levels_data.reset_index().plot.scatter(x = 'index', y = 'value')"
   ]
  },
  {
   "cell_type": "code",
   "execution_count": 33,
   "id": "exposed-biography",
   "metadata": {},
   "outputs": [
    {
     "name": "stdout",
     "output_type": "stream",
     "text": [
      "877509.0273793662\n",
      "4296377.869621714\n"
     ]
    },
    {
     "data": {
      "text/plain": [
       "0.20424391289787294"
      ]
     },
     "execution_count": 33,
     "metadata": {},
     "output_type": "execute_result"
    }
   ],
   "source": [
    "production = storages_results['PRODUCTION_IN_MWH'].sum()\n",
    "print(production)\n",
    "discharging = generation_data[\"storages_discharging\"].sum()\n",
    "charging = generation_data[\"storages_discharging\"].sum()\n",
    "print(discharging)\n",
    "production/discharging\n",
    "\n",
    "#discharging/charging"
   ]
  },
  {
   "cell_type": "code",
   "execution_count": 10,
   "id": "peaceful-repository",
   "metadata": {},
   "outputs": [],
   "source": [
    "load_generation = pd.concat([generation_data, \n",
    "                      load_data],   axis=1 )\n",
    "load_generation.drop(0, axis=1, inplace=True)\n",
    "load_generation.sort_values(by=1, inplace=True) # sorting by increasing load\n",
    "load_generation.reset_index(inplace=True )\n",
    "load_generation.drop(\"index\", axis=1, inplace=True)"
   ]
  },
  {
   "cell_type": "code",
   "execution_count": 11,
   "id": "significant-amino",
   "metadata": {},
   "outputs": [
    {
     "data": {
      "text/html": [
       "<div>\n",
       "<style scoped>\n",
       "    .dataframe tbody tr th:only-of-type {\n",
       "        vertical-align: middle;\n",
       "    }\n",
       "\n",
       "    .dataframe tbody tr th {\n",
       "        vertical-align: top;\n",
       "    }\n",
       "\n",
       "    .dataframe thead th {\n",
       "        text-align: right;\n",
       "    }\n",
       "</style>\n",
       "<table border=\"1\" class=\"dataframe\">\n",
       "  <thead>\n",
       "    <tr style=\"text-align: right;\">\n",
       "      <th></th>\n",
       "      <th>res</th>\n",
       "      <th>conventionals</th>\n",
       "      <th>storages_discharging</th>\n",
       "      <th>storages_charging</th>\n",
       "      <th>load_shedding</th>\n",
       "    </tr>\n",
       "  </thead>\n",
       "  <tbody>\n",
       "    <tr>\n",
       "      <th>0</th>\n",
       "      <td>26418.75968</td>\n",
       "      <td>21659.05332</td>\n",
       "      <td>0.0</td>\n",
       "      <td>-0.0</td>\n",
       "      <td>0.0</td>\n",
       "    </tr>\n",
       "    <tr>\n",
       "      <th>1</th>\n",
       "      <td>30189.02968</td>\n",
       "      <td>17942.53332</td>\n",
       "      <td>0.0</td>\n",
       "      <td>-0.0</td>\n",
       "      <td>0.0</td>\n",
       "    </tr>\n",
       "    <tr>\n",
       "      <th>2</th>\n",
       "      <td>30458.38968</td>\n",
       "      <td>17762.42332</td>\n",
       "      <td>0.0</td>\n",
       "      <td>-0.0</td>\n",
       "      <td>0.0</td>\n",
       "    </tr>\n",
       "    <tr>\n",
       "      <th>3</th>\n",
       "      <td>23038.61968</td>\n",
       "      <td>25260.19332</td>\n",
       "      <td>0.0</td>\n",
       "      <td>-0.0</td>\n",
       "      <td>0.0</td>\n",
       "    </tr>\n",
       "    <tr>\n",
       "      <th>4</th>\n",
       "      <td>35158.01968</td>\n",
       "      <td>13160.04332</td>\n",
       "      <td>0.0</td>\n",
       "      <td>-0.0</td>\n",
       "      <td>0.0</td>\n",
       "    </tr>\n",
       "  </tbody>\n",
       "</table>\n",
       "</div>"
      ],
      "text/plain": [
       "           res  conventionals  storages_discharging  storages_charging  \\\n",
       "0  26418.75968    21659.05332                   0.0               -0.0   \n",
       "1  30189.02968    17942.53332                   0.0               -0.0   \n",
       "2  30458.38968    17762.42332                   0.0               -0.0   \n",
       "3  23038.61968    25260.19332                   0.0               -0.0   \n",
       "4  35158.01968    13160.04332                   0.0               -0.0   \n",
       "\n",
       "   load_shedding  \n",
       "0            0.0  \n",
       "1            0.0  \n",
       "2            0.0  \n",
       "3            0.0  \n",
       "4            0.0  "
      ]
     },
     "execution_count": 11,
     "metadata": {},
     "output_type": "execute_result"
    }
   ],
   "source": [
    "#load_generation.rename(columns={1: \"load\" }, inplace=True)\n",
    "load_generation[\"storages_charging\"] = load_generation[\"storages_charging\"]*-1\n",
    "load_generation.drop(\"storages_aggregated_level\", axis=1, inplace=True)\n",
    "load_generation.drop(1, axis=1, inplace=True)\n",
    "load_generation.head()"
   ]
  },
  {
   "cell_type": "code",
   "execution_count": 12,
   "id": "awful-vanilla",
   "metadata": {},
   "outputs": [
    {
     "data": {
      "image/png": "[encoded data removed]",
      "text/plain": [
       "<Figure size 432x288 with 1 Axes>"
      ]
     },
     "metadata": {},
     "output_type": "display_data"
    }
   ],
   "source": [
    "load_generation.plot(alpha=0.5)\n",
    "axs1= plt.legend(fontsize='medium', loc='upper left', bbox_to_anchor=(1, 1.1))\n",
    "fig1 = axs1.get_figure()\n",
    "fig1.savefig(path_to_plots + '/' + 'testing.png', bbox_inches='tight', dpi=300)"
   ]
  },
  {
   "cell_type": "code",
   "execution_count": 13,
   "id": "living-baseline",
   "metadata": {},
   "outputs": [],
   "source": [
    "# plt.stackplot(load_generation.res, load_generation.conventionals, load_generation.load_shedding, load_generation.storages_discharging,\n",
    "#               load_generation.storages_charging,\n",
    "#               labels=['RES', 'conventional', \"load shedding\", \"dish\", \"charg\"])"
   ]
  },
  {
   "cell_type": "code",
   "execution_count": 14,
   "id": "racial-nashville",
   "metadata": {},
   "outputs": [],
   "source": [
    "storages = load_generation[[\"storages_charging\", \"storages_discharging\"]].copy()"
   ]
  },
  {
   "cell_type": "code",
   "execution_count": 15,
   "id": "editorial-vegetarian",
   "metadata": {},
   "outputs": [
    {
     "data": {
      "text/plain": [
       "<AxesSubplot:>"
      ]
     },
     "execution_count": 15,
     "metadata": {},
     "output_type": "execute_result"
    },
    {
     "data": {
      "image/png": "[encoded data removed]",
      "text/plain": [
       "<Figure size 432x288 with 1 Axes>"
      ]
     },
     "metadata": {},
     "output_type": "display_data"
    }
   ],
   "source": [
    "storages.plot.area()"
   ]
  },
  {
   "cell_type": "code",
   "execution_count": null,
   "id": "appropriate-venture",
   "metadata": {},
   "outputs": [],
   "source": []
  },
  {
   "cell_type": "code",
   "execution_count": 16,
   "id": "ancient-scanning",
   "metadata": {},
   "outputs": [
    {
     "name": "stderr",
     "output_type": "stream",
     "text": [
      "No artists with labels found to put in legend.  Note that artists whose label start with an underscore are ignored when legend() is called with no argument.\n"
     ]
    },
    {
     "data": {
      "text/plain": [
       "<matplotlib.legend.Legend at 0x28474eeb1c0>"
      ]
     },
     "execution_count": 16,
     "metadata": {},
     "output_type": "execute_result"
    },
    {
     "data": {
      "image/png": "[encoded data removed]",
      "text/plain": [
       "<Figure size 432x288 with 2 Axes>"
      ]
     },
     "metadata": {},
     "output_type": "display_data"
    }
   ],
   "source": [
    "s = elec_prices_data[\"ElectricityPriceInEURperMWH\" ]\n",
    "fig, ax1 = plt.subplots()\n",
    "ax2 = ax1.twinx()\n",
    "#load_generation.iloc[8740:8760,0:5].plot( axis = , alpha=0.95)\n",
    "\n",
    "ax1.plot(load_generation.iloc[8740:8760,0:5] , alpha=0.95)\n",
    "ax2.plot(s.loc[8740:8760] , color = \"black\")\n",
    "ax1.legend(fontsize='medium', loc='upper left', bbox_to_anchor=(1, 1.1))\n"
   ]
  },
  {
   "cell_type": "code",
   "execution_count": 17,
   "id": "satisfactory-greene",
   "metadata": {},
   "outputs": [
    {
     "data": {
      "text/plain": [
       "<AxesSubplot:>"
      ]
     },
     "execution_count": 17,
     "metadata": {},
     "output_type": "execute_result"
    },
    {
     "data": {
      "image/png": "[encoded data removed]",
      "text/plain": [
       "<Figure size 432x288 with 1 Axes>"
      ]
     },
     "metadata": {},
     "output_type": "display_data"
    }
   ],
   "source": [
    "load_generation[[\"load_shedding\"]].plot( alpha=0.95)"
   ]
  },
  {
   "cell_type": "code",
   "execution_count": 18,
   "id": "strong-toyota",
   "metadata": {},
   "outputs": [
    {
     "data": {
      "text/html": [
       "<div>\n",
       "<style scoped>\n",
       "    .dataframe tbody tr th:only-of-type {\n",
       "        vertical-align: middle;\n",
       "    }\n",
       "\n",
       "    .dataframe tbody tr th {\n",
       "        vertical-align: top;\n",
       "    }\n",
       "\n",
       "    .dataframe thead th {\n",
       "        text-align: right;\n",
       "    }\n",
       "</style>\n",
       "<table border=\"1\" class=\"dataframe\">\n",
       "  <thead>\n",
       "    <tr style=\"text-align: right;\">\n",
       "      <th></th>\n",
       "      <th>res</th>\n",
       "      <th>conventionals</th>\n",
       "      <th>storages_discharging</th>\n",
       "      <th>storages_charging</th>\n",
       "      <th>load_shedding</th>\n",
       "    </tr>\n",
       "  </thead>\n",
       "  <tbody>\n",
       "    <tr>\n",
       "      <th>0</th>\n",
       "      <td>26418.75968</td>\n",
       "      <td>21659.05332</td>\n",
       "      <td>0.0</td>\n",
       "      <td>-0.0</td>\n",
       "      <td>0.0</td>\n",
       "    </tr>\n",
       "    <tr>\n",
       "      <th>1</th>\n",
       "      <td>30189.02968</td>\n",
       "      <td>17942.53332</td>\n",
       "      <td>0.0</td>\n",
       "      <td>-0.0</td>\n",
       "      <td>0.0</td>\n",
       "    </tr>\n",
       "    <tr>\n",
       "      <th>2</th>\n",
       "      <td>30458.38968</td>\n",
       "      <td>17762.42332</td>\n",
       "      <td>0.0</td>\n",
       "      <td>-0.0</td>\n",
       "      <td>0.0</td>\n",
       "    </tr>\n",
       "    <tr>\n",
       "      <th>3</th>\n",
       "      <td>23038.61968</td>\n",
       "      <td>25260.19332</td>\n",
       "      <td>0.0</td>\n",
       "      <td>-0.0</td>\n",
       "      <td>0.0</td>\n",
       "    </tr>\n",
       "    <tr>\n",
       "      <th>4</th>\n",
       "      <td>35158.01968</td>\n",
       "      <td>13160.04332</td>\n",
       "      <td>0.0</td>\n",
       "      <td>-0.0</td>\n",
       "      <td>0.0</td>\n",
       "    </tr>\n",
       "  </tbody>\n",
       "</table>\n",
       "</div>"
      ],
      "text/plain": [
       "           res  conventionals  storages_discharging  storages_charging  \\\n",
       "0  26418.75968    21659.05332                   0.0               -0.0   \n",
       "1  30189.02968    17942.53332                   0.0               -0.0   \n",
       "2  30458.38968    17762.42332                   0.0               -0.0   \n",
       "3  23038.61968    25260.19332                   0.0               -0.0   \n",
       "4  35158.01968    13160.04332                   0.0               -0.0   \n",
       "\n",
       "   load_shedding  \n",
       "0            0.0  \n",
       "1            0.0  \n",
       "2            0.0  \n",
       "3            0.0  \n",
       "4            0.0  "
      ]
     },
     "execution_count": 18,
     "metadata": {},
     "output_type": "execute_result"
    }
   ],
   "source": [
    "load_generation.head()"
   ]
  },
  {
   "cell_type": "code",
   "execution_count": 19,
   "id": "distinct-report",
   "metadata": {},
   "outputs": [],
   "source": [
    "conventionals_join.head()\n",
    "conventional_production = conventionals_join[\"PRODUCTION_IN_MWH\"].sum()\n",
    "conventional_production_from_generation = load_generation[\"conventionals\"].sum()\n",
    "a = conventional_production - conventional_production_from_generation\n"
   ]
  },
  {
   "cell_type": "code",
   "execution_count": 20,
   "id": "silent-remove",
   "metadata": {},
   "outputs": [
    {
     "data": {
      "text/html": [
       "<div>\n",
       "<style scoped>\n",
       "    .dataframe tbody tr th:only-of-type {\n",
       "        vertical-align: middle;\n",
       "    }\n",
       "\n",
       "    .dataframe tbody tr th {\n",
       "        vertical-align: top;\n",
       "    }\n",
       "\n",
       "    .dataframe thead th {\n",
       "        text-align: right;\n",
       "    }\n",
       "</style>\n",
       "<table border=\"1\" class=\"dataframe\">\n",
       "  <thead>\n",
       "    <tr style=\"text-align: right;\">\n",
       "      <th></th>\n",
       "      <th>identifier</th>\n",
       "      <th>StorageType</th>\n",
       "      <th>EnergyToPowerRatio</th>\n",
       "      <th>ChargingEfficiency</th>\n",
       "      <th>DischargingEfficiency</th>\n",
       "      <th>InitialEnergyLevelInMWH</th>\n",
       "      <th>InstalledPowerInMW</th>\n",
       "    </tr>\n",
       "  </thead>\n",
       "  <tbody>\n",
       "    <tr>\n",
       "      <th>0</th>\n",
       "      <td>20552600095</td>\n",
       "      <td>STORAGE</td>\n",
       "      <td>5</td>\n",
       "      <td>0.92</td>\n",
       "      <td>0.92</td>\n",
       "      <td>0</td>\n",
       "      <td>100</td>\n",
       "    </tr>\n",
       "    <tr>\n",
       "      <th>1</th>\n",
       "      <td>20552600096</td>\n",
       "      <td>STORAGE</td>\n",
       "      <td>5</td>\n",
       "      <td>0.92</td>\n",
       "      <td>0.92</td>\n",
       "      <td>0</td>\n",
       "      <td>100</td>\n",
       "    </tr>\n",
       "    <tr>\n",
       "      <th>2</th>\n",
       "      <td>20552600097</td>\n",
       "      <td>STORAGE</td>\n",
       "      <td>5</td>\n",
       "      <td>0.92</td>\n",
       "      <td>0.92</td>\n",
       "      <td>0</td>\n",
       "      <td>100</td>\n",
       "    </tr>\n",
       "    <tr>\n",
       "      <th>3</th>\n",
       "      <td>20552600098</td>\n",
       "      <td>STORAGE</td>\n",
       "      <td>5</td>\n",
       "      <td>0.92</td>\n",
       "      <td>0.92</td>\n",
       "      <td>0</td>\n",
       "      <td>100</td>\n",
       "    </tr>\n",
       "    <tr>\n",
       "      <th>4</th>\n",
       "      <td>20552600099</td>\n",
       "      <td>STORAGE</td>\n",
       "      <td>5</td>\n",
       "      <td>0.92</td>\n",
       "      <td>0.92</td>\n",
       "      <td>0</td>\n",
       "      <td>100</td>\n",
       "    </tr>\n",
       "  </tbody>\n",
       "</table>\n",
       "</div>"
      ],
      "text/plain": [
       "    identifier StorageType  EnergyToPowerRatio  ChargingEfficiency  \\\n",
       "0  20552600095     STORAGE                   5                0.92   \n",
       "1  20552600096     STORAGE                   5                0.92   \n",
       "2  20552600097     STORAGE                   5                0.92   \n",
       "3  20552600098     STORAGE                   5                0.92   \n",
       "4  20552600099     STORAGE                   5                0.92   \n",
       "\n",
       "   DischargingEfficiency  InitialEnergyLevelInMWH  InstalledPowerInMW  \n",
       "0                   0.92                        0                 100  \n",
       "1                   0.92                        0                 100  \n",
       "2                   0.92                        0                 100  \n",
       "3                   0.92                        0                 100  \n",
       "4                   0.92                        0                 100  "
      ]
     },
     "execution_count": 20,
     "metadata": {},
     "output_type": "execute_result"
    }
   ],
   "source": [
    "storages_data.head()"
   ]
  },
  {
   "cell_type": "code",
   "execution_count": 21,
   "id": "national-closing",
   "metadata": {},
   "outputs": [],
   "source": [
    "conventional_production = conventionals_join[\"PRODUCTION_IN_MWH\"].sum()\n",
    "charging_from_generation = load_generation[\"storages_discharging\"].sum()\n"
   ]
  }
 ],
 "metadata": {
  "kernelspec": {
   "display_name": "amiris_spinetoolbox",
   "language": "python",
   "name": "amiris"
  },
  "language_info": {
   "codemirror_mode": {
    "name": "ipython",
    "version": 3
   },
   "file_extension": ".py",
   "mimetype": "text/x-python",
   "name": "python",
   "nbconvert_exporter": "python",
   "pygments_lexer": "ipython3",
   "version": "3.8.11"
  }
 },
 "nbformat": 4,
 "nbformat_minor": 5
}
