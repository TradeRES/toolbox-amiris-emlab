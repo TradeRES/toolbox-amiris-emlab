{
 "cells": [
  {
   "cell_type": "code",
   "execution_count": 15,
   "id": "local-movie",
   "metadata": {},
   "outputs": [],
   "source": [
    "import os\n",
    "import matplotlib.pyplot as plt\n",
    "import numpy as np\n",
    "import pandas as pd\n",
    "import seaborn as sns\n",
    "sns.set_theme(style=\"whitegrid\")\n",
    "path_to_results = os.path.join(os.path.dirname(os.path.dirname(os.getcwd()) ), \"amiris_workflow\")\n",
    "path_to_structure = os.path.join(path_to_results, \"amiris_data_structure.xlsx\")\n",
    "path_to_load = os.path.join(path_to_results, \"amiris-config\", \"data\",\"load.csv\")\n",
    "path_to_output = os.path.join(path_to_results, \"output\",\"amiris_results.csv\" )\n",
    "path_to_storage_levels = os.path.join(path_to_results, \"output\",\"final_storage_levels.csv\" )\n",
    "path_to_generation = os.path.join(path_to_results, \"output\",\"hourly_generation_per_group.csv\" )\n",
    "path_to_electricity_prices = os.path.join(path_to_results, \"output\",\"raw\",\"EnergyExchangeMulti.csv\" )\n",
    "path_to_plots = os.path.join(os.getcwd(),  \"Scenarios\")\n",
    "\n",
    "#-----------------------------------------------------------------------------\n",
    "elec_prices_data = pd.read_csv(path_to_electricity_prices, sep=\";\")  \n",
    "generation_data =  pd.read_csv(path_to_generation, index_col=\"Unnamed: 0\")\n",
    "load_data = pd.read_csv(path_to_load, sep=\";\", header=None) \n",
    "results_data = pd.read_csv(path_to_output) \n",
    "storage_levels_data = pd.read_csv(path_to_storage_levels) \n",
    "storages_data = pd.read_excel(path_to_structure, sheet_name='storages', index_col=0)\n",
    "conventionals_data = pd.read_excel(path_to_structure, sheet_name='conventionals', index_col=0)\n",
    "biogas_data = pd.read_excel(path_to_structure, sheet_name='biogas', index_col=0)"
   ]
  },
  {
   "cell_type": "code",
   "execution_count": 16,
   "id": "occupied-intervention",
   "metadata": {
    "scrolled": true
   },
   "outputs": [
    {
     "name": "stderr",
     "output_type": "stream",
     "text": [
      "*c* argument looks like a single numeric RGB or RGBA sequence, which should be avoided as value-mapping will have precedence in case its length matches with *x* & *y*.  Please use the *color* keyword-argument or provide a 2D array with a single row if you intend to specify the same RGB or RGBA value for all points.\n"
     ]
    },
    {
     "data": {
      "text/plain": [
       "<AxesSubplot:xlabel='index', ylabel='1'>"
      ]
     },
     "execution_count": 16,
     "metadata": {},
     "output_type": "execute_result"
    },
    {
     "data": {
      "image/png": "[encoded data removed]",
      "text/plain": [
       "<Figure size 432x288 with 1 Axes>"
      ]
     },
     "metadata": {},
     "output_type": "display_data"
    }
   ],
   "source": [
    "df = pd.DataFrame(np.random.randn(1, 4),\n",
    "                   index=[1],\n",
    "                   columns=list(range(0, 8, 2)))\n",
    "df1 = df.transpose()\n",
    "df1.reset_index().plot.scatter( x = \"index\" , y = 1)"
   ]
  },
  {
   "cell_type": "code",
   "execution_count": 17,
   "id": "coordinate-browse",
   "metadata": {},
   "outputs": [],
   "source": [
    "conventionals_join = pd.merge(conventionals_data, \n",
    "                      results_data, \n",
    "                      on ='identifier', \n",
    "                      how ='inner')\n",
    "storages_results = pd.merge(storages_data, \n",
    "                      results_data, \n",
    "                      on ='identifier', \n",
    "                      how ='inner')"
   ]
  },
  {
   "cell_type": "code",
   "execution_count": 42,
   "id": "saving-nickel",
   "metadata": {},
   "outputs": [
    {
     "data": {
      "text/html": [
       "<div>\n",
       "<style scoped>\n",
       "    .dataframe tbody tr th:only-of-type {\n",
       "        vertical-align: middle;\n",
       "    }\n",
       "\n",
       "    .dataframe tbody tr th {\n",
       "        vertical-align: top;\n",
       "    }\n",
       "\n",
       "    .dataframe thead th {\n",
       "        text-align: right;\n",
       "    }\n",
       "</style>\n",
       "<table border=\"1\" class=\"dataframe\">\n",
       "  <thead>\n",
       "    <tr style=\"text-align: right;\">\n",
       "      <th></th>\n",
       "      <th>identifier</th>\n",
       "      <th>FuelType</th>\n",
       "      <th>OpexVarInEURperMWH</th>\n",
       "      <th>Efficiency</th>\n",
       "      <th>BlockSizeInMW</th>\n",
       "      <th>InstalledPowerInMW</th>\n",
       "      <th>VARIABLE_COSTS_IN_EURO</th>\n",
       "      <th>REVENUES_IN_EURO</th>\n",
       "      <th>PRODUCTION_IN_MWH</th>\n",
       "      <th>CONTRIBUTION_MARGIN_IN_EURO</th>\n",
       "    </tr>\n",
       "  </thead>\n",
       "  <tbody>\n",
       "    <tr>\n",
       "      <th>0</th>\n",
       "      <td>20250100021</td>\n",
       "      <td>BIOMASS</td>\n",
       "      <td>2</td>\n",
       "      <td>0.42</td>\n",
       "      <td>631</td>\n",
       "      <td>631</td>\n",
       "      <td>3.156052e+08</td>\n",
       "      <td>5.912634e+08</td>\n",
       "      <td>2.891670e+06</td>\n",
       "      <td>2.756582e+08</td>\n",
       "    </tr>\n",
       "    <tr>\n",
       "      <th>1</th>\n",
       "      <td>20510300042</td>\n",
       "      <td>NATURAL_GAS</td>\n",
       "      <td>4</td>\n",
       "      <td>0.61</td>\n",
       "      <td>1500</td>\n",
       "      <td>1500</td>\n",
       "      <td>9.413679e+08</td>\n",
       "      <td>9.977597e+08</td>\n",
       "      <td>4.173097e+06</td>\n",
       "      <td>5.639182e+07</td>\n",
       "    </tr>\n",
       "    <tr>\n",
       "      <th>2</th>\n",
       "      <td>20520300066</td>\n",
       "      <td>NATURAL_GAS</td>\n",
       "      <td>4</td>\n",
       "      <td>0.61</td>\n",
       "      <td>1500</td>\n",
       "      <td>1500</td>\n",
       "      <td>8.885515e+08</td>\n",
       "      <td>9.449433e+08</td>\n",
       "      <td>3.938961e+06</td>\n",
       "      <td>5.639182e+07</td>\n",
       "    </tr>\n",
       "    <tr>\n",
       "      <th>3</th>\n",
       "      <td>20520300065</td>\n",
       "      <td>NATURAL_GAS</td>\n",
       "      <td>4</td>\n",
       "      <td>0.61</td>\n",
       "      <td>1500</td>\n",
       "      <td>1500</td>\n",
       "      <td>8.322295e+08</td>\n",
       "      <td>8.886213e+08</td>\n",
       "      <td>3.689285e+06</td>\n",
       "      <td>5.639182e+07</td>\n",
       "    </tr>\n",
       "    <tr>\n",
       "      <th>4</th>\n",
       "      <td>20520300064</td>\n",
       "      <td>NATURAL_GAS</td>\n",
       "      <td>4</td>\n",
       "      <td>0.61</td>\n",
       "      <td>1500</td>\n",
       "      <td>1500</td>\n",
       "      <td>7.857241e+08</td>\n",
       "      <td>8.421159e+08</td>\n",
       "      <td>3.483126e+06</td>\n",
       "      <td>5.639182e+07</td>\n",
       "    </tr>\n",
       "  </tbody>\n",
       "</table>\n",
       "</div>"
      ],
      "text/plain": [
       "    identifier     FuelType  OpexVarInEURperMWH  Efficiency  BlockSizeInMW  \\\n",
       "0  20250100021      BIOMASS                   2        0.42            631   \n",
       "1  20510300042  NATURAL_GAS                   4        0.61           1500   \n",
       "2  20520300066  NATURAL_GAS                   4        0.61           1500   \n",
       "3  20520300065  NATURAL_GAS                   4        0.61           1500   \n",
       "4  20520300064  NATURAL_GAS                   4        0.61           1500   \n",
       "\n",
       "   InstalledPowerInMW  VARIABLE_COSTS_IN_EURO  REVENUES_IN_EURO  \\\n",
       "0                 631            3.156052e+08      5.912634e+08   \n",
       "1                1500            9.413679e+08      9.977597e+08   \n",
       "2                1500            8.885515e+08      9.449433e+08   \n",
       "3                1500            8.322295e+08      8.886213e+08   \n",
       "4                1500            7.857241e+08      8.421159e+08   \n",
       "\n",
       "   PRODUCTION_IN_MWH  CONTRIBUTION_MARGIN_IN_EURO  \n",
       "0       2.891670e+06                 2.756582e+08  \n",
       "1       4.173097e+06                 5.639182e+07  \n",
       "2       3.938961e+06                 5.639182e+07  \n",
       "3       3.689285e+06                 5.639182e+07  \n",
       "4       3.483126e+06                 5.639182e+07  "
      ]
     },
     "execution_count": 42,
     "metadata": {},
     "output_type": "execute_result"
    }
   ],
   "source": [
    "conventionals_join.head()"
   ]
  },
  {
   "cell_type": "code",
   "execution_count": 18,
   "id": "introductory-virtue",
   "metadata": {},
   "outputs": [
    {
     "data": {
      "text/plain": [
       "14900"
      ]
     },
     "execution_count": 18,
     "metadata": {},
     "output_type": "execute_result"
    }
   ],
   "source": [
    "storages_results[\"InstalledPowerInMW\"].sum()"
   ]
  },
  {
   "cell_type": "code",
   "execution_count": 19,
   "id": "assisted-episode",
   "metadata": {},
   "outputs": [
    {
     "data": {
      "text/plain": [
       "<AxesSubplot:>"
      ]
     },
     "execution_count": 19,
     "metadata": {},
     "output_type": "execute_result"
    },
    {
     "data": {
      "image/png": "[encoded data removed]",
      "text/plain": [
       "<Figure size 432x288 with 1 Axes>"
      ]
     },
     "metadata": {},
     "output_type": "display_data"
    }
   ],
   "source": [
    "elec_prices_data[\"ElectricityPriceInEURperMWH\"].plot()"
   ]
  },
  {
   "cell_type": "code",
   "execution_count": 20,
   "id": "beautiful-notion",
   "metadata": {},
   "outputs": [
    {
     "data": {
      "text/html": [
       "<div>\n",
       "<style scoped>\n",
       "    .dataframe tbody tr th:only-of-type {\n",
       "        vertical-align: middle;\n",
       "    }\n",
       "\n",
       "    .dataframe tbody tr th {\n",
       "        vertical-align: top;\n",
       "    }\n",
       "\n",
       "    .dataframe thead th {\n",
       "        text-align: right;\n",
       "    }\n",
       "</style>\n",
       "<table border=\"1\" class=\"dataframe\">\n",
       "  <thead>\n",
       "    <tr style=\"text-align: right;\">\n",
       "      <th></th>\n",
       "      <th>AgentId</th>\n",
       "      <th>TimeStep</th>\n",
       "      <th>TotalAwardedPowerInMW</th>\n",
       "      <th>ElectricityPriceInEURperMWH</th>\n",
       "      <th>DispatchSystemCostInEUR</th>\n",
       "    </tr>\n",
       "  </thead>\n",
       "  <tbody>\n",
       "    <tr>\n",
       "      <th>0</th>\n",
       "      <td>1</td>\n",
       "      <td>946080003</td>\n",
       "      <td>50550.813</td>\n",
       "      <td>3.0</td>\n",
       "      <td>98570.48996</td>\n",
       "    </tr>\n",
       "    <tr>\n",
       "      <th>1</th>\n",
       "      <td>1</td>\n",
       "      <td>946083603</td>\n",
       "      <td>50459.813</td>\n",
       "      <td>3.0</td>\n",
       "      <td>94566.48996</td>\n",
       "    </tr>\n",
       "    <tr>\n",
       "      <th>2</th>\n",
       "      <td>1</td>\n",
       "      <td>946087203</td>\n",
       "      <td>50199.313</td>\n",
       "      <td>3.0</td>\n",
       "      <td>89234.98996</td>\n",
       "    </tr>\n",
       "    <tr>\n",
       "      <th>3</th>\n",
       "      <td>1</td>\n",
       "      <td>946090803</td>\n",
       "      <td>49932.813</td>\n",
       "      <td>3.0</td>\n",
       "      <td>83339.48996</td>\n",
       "    </tr>\n",
       "    <tr>\n",
       "      <th>4</th>\n",
       "      <td>1</td>\n",
       "      <td>946094403</td>\n",
       "      <td>49679.313</td>\n",
       "      <td>3.0</td>\n",
       "      <td>78756.98996</td>\n",
       "    </tr>\n",
       "  </tbody>\n",
       "</table>\n",
       "</div>"
      ],
      "text/plain": [
       "   AgentId   TimeStep  TotalAwardedPowerInMW  ElectricityPriceInEURperMWH  \\\n",
       "0        1  946080003              50550.813                          3.0   \n",
       "1        1  946083603              50459.813                          3.0   \n",
       "2        1  946087203              50199.313                          3.0   \n",
       "3        1  946090803              49932.813                          3.0   \n",
       "4        1  946094403              49679.313                          3.0   \n",
       "\n",
       "   DispatchSystemCostInEUR  \n",
       "0              98570.48996  \n",
       "1              94566.48996  \n",
       "2              89234.98996  \n",
       "3              83339.48996  \n",
       "4              78756.98996  "
      ]
     },
     "execution_count": 20,
     "metadata": {},
     "output_type": "execute_result"
    }
   ],
   "source": [
    "elec_prices_data.head()"
   ]
  },
  {
   "cell_type": "code",
   "execution_count": 21,
   "id": "searching-march",
   "metadata": {},
   "outputs": [
    {
     "data": {
      "text/html": [
       "<div>\n",
       "<style scoped>\n",
       "    .dataframe tbody tr th:only-of-type {\n",
       "        vertical-align: middle;\n",
       "    }\n",
       "\n",
       "    .dataframe tbody tr th {\n",
       "        vertical-align: top;\n",
       "    }\n",
       "\n",
       "    .dataframe thead th {\n",
       "        text-align: right;\n",
       "    }\n",
       "</style>\n",
       "<table border=\"1\" class=\"dataframe\">\n",
       "  <thead>\n",
       "    <tr style=\"text-align: right;\">\n",
       "      <th></th>\n",
       "      <th>Unnamed: 0</th>\n",
       "      <th>value</th>\n",
       "    </tr>\n",
       "  </thead>\n",
       "  <tbody>\n",
       "    <tr>\n",
       "      <th>0</th>\n",
       "      <td>20482600036</td>\n",
       "      <td>35500.0</td>\n",
       "    </tr>\n",
       "    <tr>\n",
       "      <th>1</th>\n",
       "      <td>20502600030</td>\n",
       "      <td>1500.0</td>\n",
       "    </tr>\n",
       "    <tr>\n",
       "      <th>2</th>\n",
       "      <td>20512600055</td>\n",
       "      <td>7500.0</td>\n",
       "    </tr>\n",
       "    <tr>\n",
       "      <th>3</th>\n",
       "      <td>20512600057</td>\n",
       "      <td>7500.0</td>\n",
       "    </tr>\n",
       "    <tr>\n",
       "      <th>4</th>\n",
       "      <td>20512600060</td>\n",
       "      <td>7500.0</td>\n",
       "    </tr>\n",
       "  </tbody>\n",
       "</table>\n",
       "</div>"
      ],
      "text/plain": [
       "    Unnamed: 0    value\n",
       "0  20482600036  35500.0\n",
       "1  20502600030   1500.0\n",
       "2  20512600055   7500.0\n",
       "3  20512600057   7500.0\n",
       "4  20512600060   7500.0"
      ]
     },
     "execution_count": 21,
     "metadata": {},
     "output_type": "execute_result"
    }
   ],
   "source": [
    "storage_levels_data.head()"
   ]
  },
  {
   "cell_type": "code",
   "execution_count": 22,
   "id": "covered-november",
   "metadata": {},
   "outputs": [
    {
     "data": {
      "text/html": [
       "<div>\n",
       "<style scoped>\n",
       "    .dataframe tbody tr th:only-of-type {\n",
       "        vertical-align: middle;\n",
       "    }\n",
       "\n",
       "    .dataframe tbody tr th {\n",
       "        vertical-align: top;\n",
       "    }\n",
       "\n",
       "    .dataframe thead th {\n",
       "        text-align: right;\n",
       "    }\n",
       "</style>\n",
       "<table border=\"1\" class=\"dataframe\">\n",
       "  <thead>\n",
       "    <tr style=\"text-align: right;\">\n",
       "      <th></th>\n",
       "      <th>identifier</th>\n",
       "      <th>StorageType</th>\n",
       "      <th>EnergyToPowerRatio</th>\n",
       "      <th>ChargingEfficiency</th>\n",
       "      <th>DischargingEfficiency</th>\n",
       "      <th>InitialEnergyLevelInMWH</th>\n",
       "      <th>InstalledPowerInMW</th>\n",
       "      <th>VARIABLE_COSTS_IN_EURO</th>\n",
       "      <th>REVENUES_IN_EURO</th>\n",
       "      <th>PRODUCTION_IN_MWH</th>\n",
       "      <th>CONTRIBUTION_MARGIN_IN_EURO</th>\n",
       "    </tr>\n",
       "  </thead>\n",
       "  <tbody>\n",
       "    <tr>\n",
       "      <th>0</th>\n",
       "      <td>99992600008</td>\n",
       "      <td>STORAGE</td>\n",
       "      <td>5</td>\n",
       "      <td>0.92</td>\n",
       "      <td>0.92</td>\n",
       "      <td>0</td>\n",
       "      <td>1500</td>\n",
       "      <td>1.033674e+07</td>\n",
       "      <td>1.007759e+08</td>\n",
       "      <td>95744.048278</td>\n",
       "      <td>9.043915e+07</td>\n",
       "    </tr>\n",
       "    <tr>\n",
       "      <th>1</th>\n",
       "      <td>20512600055</td>\n",
       "      <td>STORAGE</td>\n",
       "      <td>5</td>\n",
       "      <td>0.92</td>\n",
       "      <td>0.92</td>\n",
       "      <td>0</td>\n",
       "      <td>1500</td>\n",
       "      <td>1.033674e+07</td>\n",
       "      <td>1.007759e+08</td>\n",
       "      <td>95744.048278</td>\n",
       "      <td>9.043915e+07</td>\n",
       "    </tr>\n",
       "    <tr>\n",
       "      <th>2</th>\n",
       "      <td>20512600057</td>\n",
       "      <td>STORAGE</td>\n",
       "      <td>5</td>\n",
       "      <td>0.92</td>\n",
       "      <td>0.92</td>\n",
       "      <td>0</td>\n",
       "      <td>1500</td>\n",
       "      <td>1.033674e+07</td>\n",
       "      <td>1.007759e+08</td>\n",
       "      <td>95744.048278</td>\n",
       "      <td>9.043915e+07</td>\n",
       "    </tr>\n",
       "    <tr>\n",
       "      <th>3</th>\n",
       "      <td>20512600060</td>\n",
       "      <td>STORAGE</td>\n",
       "      <td>5</td>\n",
       "      <td>0.92</td>\n",
       "      <td>0.92</td>\n",
       "      <td>0</td>\n",
       "      <td>1500</td>\n",
       "      <td>1.033674e+07</td>\n",
       "      <td>1.007759e+08</td>\n",
       "      <td>95744.048278</td>\n",
       "      <td>9.043915e+07</td>\n",
       "    </tr>\n",
       "    <tr>\n",
       "      <th>4</th>\n",
       "      <td>20512600061</td>\n",
       "      <td>STORAGE</td>\n",
       "      <td>5</td>\n",
       "      <td>0.92</td>\n",
       "      <td>0.92</td>\n",
       "      <td>0</td>\n",
       "      <td>1500</td>\n",
       "      <td>1.033674e+07</td>\n",
       "      <td>1.007759e+08</td>\n",
       "      <td>95744.048278</td>\n",
       "      <td>9.043915e+07</td>\n",
       "    </tr>\n",
       "  </tbody>\n",
       "</table>\n",
       "</div>"
      ],
      "text/plain": [
       "    identifier StorageType  EnergyToPowerRatio  ChargingEfficiency  \\\n",
       "0  99992600008     STORAGE                   5                0.92   \n",
       "1  20512600055     STORAGE                   5                0.92   \n",
       "2  20512600057     STORAGE                   5                0.92   \n",
       "3  20512600060     STORAGE                   5                0.92   \n",
       "4  20512600061     STORAGE                   5                0.92   \n",
       "\n",
       "   DischargingEfficiency  InitialEnergyLevelInMWH  InstalledPowerInMW  \\\n",
       "0                   0.92                        0                1500   \n",
       "1                   0.92                        0                1500   \n",
       "2                   0.92                        0                1500   \n",
       "3                   0.92                        0                1500   \n",
       "4                   0.92                        0                1500   \n",
       "\n",
       "   VARIABLE_COSTS_IN_EURO  REVENUES_IN_EURO  PRODUCTION_IN_MWH  \\\n",
       "0            1.033674e+07      1.007759e+08       95744.048278   \n",
       "1            1.033674e+07      1.007759e+08       95744.048278   \n",
       "2            1.033674e+07      1.007759e+08       95744.048278   \n",
       "3            1.033674e+07      1.007759e+08       95744.048278   \n",
       "4            1.033674e+07      1.007759e+08       95744.048278   \n",
       "\n",
       "   CONTRIBUTION_MARGIN_IN_EURO  \n",
       "0                 9.043915e+07  \n",
       "1                 9.043915e+07  \n",
       "2                 9.043915e+07  \n",
       "3                 9.043915e+07  \n",
       "4                 9.043915e+07  "
      ]
     },
     "execution_count": 22,
     "metadata": {},
     "output_type": "execute_result"
    }
   ],
   "source": [
    "storages_results.head()"
   ]
  },
  {
   "cell_type": "code",
   "execution_count": 23,
   "id": "divided-covering",
   "metadata": {},
   "outputs": [
    {
     "name": "stderr",
     "output_type": "stream",
     "text": [
      "*c* argument looks like a single numeric RGB or RGBA sequence, which should be avoided as value-mapping will have precedence in case its length matches with *x* & *y*.  Please use the *color* keyword-argument or provide a 2D array with a single row if you intend to specify the same RGB or RGBA value for all points.\n"
     ]
    },
    {
     "data": {
      "text/plain": [
       "<AxesSubplot:xlabel='index', ylabel='value'>"
      ]
     },
     "execution_count": 23,
     "metadata": {},
     "output_type": "execute_result"
    },
    {
     "data": {
      "image/png": "[encoded data removed]",
      "text/plain": [
       "<Figure size 432x288 with 1 Axes>"
      ]
     },
     "metadata": {},
     "output_type": "display_data"
    }
   ],
   "source": [
    "#storage_levels_data[\"value\"][1:].plot.scatter() # \n",
    "storage_levels_data.reset_index().plot.scatter(x = 'index', y = 'value')"
   ]
  },
  {
   "cell_type": "code",
   "execution_count": null,
   "id": "positive-armenia",
   "metadata": {},
   "outputs": [],
   "source": []
  },
  {
   "cell_type": "code",
   "execution_count": 24,
   "id": "suspended-lewis",
   "metadata": {},
   "outputs": [],
   "source": [
    "load_generation = pd.concat([generation_data, \n",
    "                      load_data],   axis=1 )\n",
    "load_generation.drop(0, axis=1, inplace=True)\n",
    "load_generation.sort_values(by=1, inplace=True) # sorting by increasing load\n",
    "load_generation.reset_index(inplace=True )\n",
    "load_generation.drop(\"index\", axis=1, inplace=True)"
   ]
  },
  {
   "cell_type": "code",
   "execution_count": 25,
   "id": "canadian-charge",
   "metadata": {},
   "outputs": [
    {
     "data": {
      "text/html": [
       "<div>\n",
       "<style scoped>\n",
       "    .dataframe tbody tr th:only-of-type {\n",
       "        vertical-align: middle;\n",
       "    }\n",
       "\n",
       "    .dataframe tbody tr th {\n",
       "        vertical-align: top;\n",
       "    }\n",
       "\n",
       "    .dataframe thead th {\n",
       "        text-align: right;\n",
       "    }\n",
       "</style>\n",
       "<table border=\"1\" class=\"dataframe\">\n",
       "  <thead>\n",
       "    <tr style=\"text-align: right;\">\n",
       "      <th></th>\n",
       "      <th>res</th>\n",
       "      <th>conventionals</th>\n",
       "      <th>storages_discharging</th>\n",
       "      <th>storages_charging</th>\n",
       "      <th>load_shedding</th>\n",
       "    </tr>\n",
       "  </thead>\n",
       "  <tbody>\n",
       "    <tr>\n",
       "      <th>0</th>\n",
       "      <td>25695.69968</td>\n",
       "      <td>21152.822687</td>\n",
       "      <td>1229.290633</td>\n",
       "      <td>-0.0</td>\n",
       "      <td>0.0</td>\n",
       "    </tr>\n",
       "    <tr>\n",
       "      <th>1</th>\n",
       "      <td>29350.64968</td>\n",
       "      <td>17551.622687</td>\n",
       "      <td>1229.290633</td>\n",
       "      <td>-0.0</td>\n",
       "      <td>0.0</td>\n",
       "    </tr>\n",
       "    <tr>\n",
       "      <th>2</th>\n",
       "      <td>29617.14968</td>\n",
       "      <td>17374.372687</td>\n",
       "      <td>1229.290633</td>\n",
       "      <td>-0.0</td>\n",
       "      <td>0.0</td>\n",
       "    </tr>\n",
       "    <tr>\n",
       "      <th>3</th>\n",
       "      <td>22734.29968</td>\n",
       "      <td>23493.019914</td>\n",
       "      <td>2071.493406</td>\n",
       "      <td>-0.0</td>\n",
       "      <td>0.0</td>\n",
       "    </tr>\n",
       "    <tr>\n",
       "      <th>4</th>\n",
       "      <td>35164.89968</td>\n",
       "      <td>13153.163320</td>\n",
       "      <td>0.000000</td>\n",
       "      <td>-0.0</td>\n",
       "      <td>0.0</td>\n",
       "    </tr>\n",
       "  </tbody>\n",
       "</table>\n",
       "</div>"
      ],
      "text/plain": [
       "           res  conventionals  storages_discharging  storages_charging  \\\n",
       "0  25695.69968   21152.822687           1229.290633               -0.0   \n",
       "1  29350.64968   17551.622687           1229.290633               -0.0   \n",
       "2  29617.14968   17374.372687           1229.290633               -0.0   \n",
       "3  22734.29968   23493.019914           2071.493406               -0.0   \n",
       "4  35164.89968   13153.163320              0.000000               -0.0   \n",
       "\n",
       "   load_shedding  \n",
       "0            0.0  \n",
       "1            0.0  \n",
       "2            0.0  \n",
       "3            0.0  \n",
       "4            0.0  "
      ]
     },
     "execution_count": 25,
     "metadata": {},
     "output_type": "execute_result"
    }
   ],
   "source": [
    "#load_generation.rename(columns={1: \"load\" }, inplace=True)\n",
    "load_generation[\"storages_charging\"] = load_generation[\"storages_charging\"]*-1\n",
    "load_generation.drop(\"storages_aggregated_level\", axis=1, inplace=True)\n",
    "load_generation.drop(1, axis=1, inplace=True)\n",
    "load_generation.head()"
   ]
  },
  {
   "cell_type": "code",
   "execution_count": 26,
   "id": "wicked-contact",
   "metadata": {},
   "outputs": [
    {
     "data": {
      "image/png": "[encoded data removed]",
      "text/plain": [
       "<Figure size 432x288 with 1 Axes>"
      ]
     },
     "metadata": {},
     "output_type": "display_data"
    }
   ],
   "source": [
    "load_generation.plot(alpha=0.5)\n",
    "axs1= plt.legend(fontsize='medium', loc='upper left', bbox_to_anchor=(1, 1.1))\n",
    "fig1 = axs1.get_figure()\n",
    "fig1.savefig(path_to_plots + '/' + 'testing.png', bbox_inches='tight', dpi=300)"
   ]
  },
  {
   "cell_type": "code",
   "execution_count": 27,
   "id": "integrated-feeding",
   "metadata": {},
   "outputs": [],
   "source": [
    "# plt.stackplot(load_generation.res, load_generation.conventionals, load_generation.load_shedding, load_generation.storages_discharging,\n",
    "#               load_generation.storages_charging,\n",
    "#               labels=['RES', 'conventional', \"load shedding\", \"dish\", \"charg\"])"
   ]
  },
  {
   "cell_type": "code",
   "execution_count": 28,
   "id": "aerial-distance",
   "metadata": {},
   "outputs": [],
   "source": [
    "storages = load_generation[[\"storages_charging\", \"storages_discharging\"]].copy()"
   ]
  },
  {
   "cell_type": "code",
   "execution_count": 29,
   "id": "decreased-economy",
   "metadata": {},
   "outputs": [
    {
     "data": {
      "text/plain": [
       "<AxesSubplot:>"
      ]
     },
     "execution_count": 29,
     "metadata": {},
     "output_type": "execute_result"
    },
    {
     "data": {
      "image/png": "[encoded data removed]",
      "text/plain": [
       "<Figure size 432x288 with 1 Axes>"
      ]
     },
     "metadata": {},
     "output_type": "display_data"
    }
   ],
   "source": [
    "storages.plot.area()"
   ]
  },
  {
   "cell_type": "code",
   "execution_count": null,
   "id": "constitutional-manner",
   "metadata": {},
   "outputs": [],
   "source": []
  },
  {
   "cell_type": "code",
   "execution_count": 41,
   "id": "virtual-idaho",
   "metadata": {},
   "outputs": [
    {
     "name": "stderr",
     "output_type": "stream",
     "text": [
      "No artists with labels found to put in legend.  Note that artists whose label start with an underscore are ignored when legend() is called with no argument.\n"
     ]
    },
    {
     "data": {
      "text/plain": [
       "<matplotlib.legend.Legend at 0x1d369bc2d00>"
      ]
     },
     "execution_count": 41,
     "metadata": {},
     "output_type": "execute_result"
    },
    {
     "data": {
      "image/png": "[encoded data removed]",
      "text/plain": [
       "<Figure size 432x288 with 2 Axes>"
      ]
     },
     "metadata": {},
     "output_type": "display_data"
    }
   ],
   "source": [
    "s = elec_prices_data[\"ElectricityPriceInEURperMWH\" ]\n",
    "fig, ax1 = plt.subplots()\n",
    "ax2 = ax1.twinx()\n",
    "#load_generation.iloc[8740:8760,0:5].plot( axis = , alpha=0.95)\n",
    "\n",
    "ax1.plot(load_generation.iloc[8740:8760,0:5] , alpha=0.95)\n",
    "ax2.plot(s.loc[8740:8760] , color = \"black\")\n",
    "ax1.legend(fontsize='medium', loc='upper left', bbox_to_anchor=(1, 1.1))\n"
   ]
  },
  {
   "cell_type": "code",
   "execution_count": 32,
   "id": "opposite-margin",
   "metadata": {},
   "outputs": [
    {
     "data": {
      "text/plain": [
       "<AxesSubplot:>"
      ]
     },
     "execution_count": 32,
     "metadata": {},
     "output_type": "execute_result"
    },
    {
     "data": {
      "image/png": "[encoded data removed]",
      "text/plain": [
       "<Figure size 432x288 with 1 Axes>"
      ]
     },
     "metadata": {},
     "output_type": "display_data"
    }
   ],
   "source": [
    "load_generation[[\"load_shedding\"]].plot( alpha=0.95)"
   ]
  },
  {
   "cell_type": "code",
   "execution_count": 33,
   "id": "intimate-brush",
   "metadata": {},
   "outputs": [
    {
     "data": {
      "text/html": [
       "<div>\n",
       "<style scoped>\n",
       "    .dataframe tbody tr th:only-of-type {\n",
       "        vertical-align: middle;\n",
       "    }\n",
       "\n",
       "    .dataframe tbody tr th {\n",
       "        vertical-align: top;\n",
       "    }\n",
       "\n",
       "    .dataframe thead th {\n",
       "        text-align: right;\n",
       "    }\n",
       "</style>\n",
       "<table border=\"1\" class=\"dataframe\">\n",
       "  <thead>\n",
       "    <tr style=\"text-align: right;\">\n",
       "      <th></th>\n",
       "      <th>res</th>\n",
       "      <th>conventionals</th>\n",
       "      <th>storages_discharging</th>\n",
       "      <th>storages_charging</th>\n",
       "      <th>load_shedding</th>\n",
       "    </tr>\n",
       "  </thead>\n",
       "  <tbody>\n",
       "    <tr>\n",
       "      <th>0</th>\n",
       "      <td>25695.69968</td>\n",
       "      <td>21152.822687</td>\n",
       "      <td>1229.290633</td>\n",
       "      <td>-0.0</td>\n",
       "      <td>0.0</td>\n",
       "    </tr>\n",
       "    <tr>\n",
       "      <th>1</th>\n",
       "      <td>29350.64968</td>\n",
       "      <td>17551.622687</td>\n",
       "      <td>1229.290633</td>\n",
       "      <td>-0.0</td>\n",
       "      <td>0.0</td>\n",
       "    </tr>\n",
       "    <tr>\n",
       "      <th>2</th>\n",
       "      <td>29617.14968</td>\n",
       "      <td>17374.372687</td>\n",
       "      <td>1229.290633</td>\n",
       "      <td>-0.0</td>\n",
       "      <td>0.0</td>\n",
       "    </tr>\n",
       "    <tr>\n",
       "      <th>3</th>\n",
       "      <td>22734.29968</td>\n",
       "      <td>23493.019914</td>\n",
       "      <td>2071.493406</td>\n",
       "      <td>-0.0</td>\n",
       "      <td>0.0</td>\n",
       "    </tr>\n",
       "    <tr>\n",
       "      <th>4</th>\n",
       "      <td>35164.89968</td>\n",
       "      <td>13153.163320</td>\n",
       "      <td>0.000000</td>\n",
       "      <td>-0.0</td>\n",
       "      <td>0.0</td>\n",
       "    </tr>\n",
       "  </tbody>\n",
       "</table>\n",
       "</div>"
      ],
      "text/plain": [
       "           res  conventionals  storages_discharging  storages_charging  \\\n",
       "0  25695.69968   21152.822687           1229.290633               -0.0   \n",
       "1  29350.64968   17551.622687           1229.290633               -0.0   \n",
       "2  29617.14968   17374.372687           1229.290633               -0.0   \n",
       "3  22734.29968   23493.019914           2071.493406               -0.0   \n",
       "4  35164.89968   13153.163320              0.000000               -0.0   \n",
       "\n",
       "   load_shedding  \n",
       "0            0.0  \n",
       "1            0.0  \n",
       "2            0.0  \n",
       "3            0.0  \n",
       "4            0.0  "
      ]
     },
     "execution_count": 33,
     "metadata": {},
     "output_type": "execute_result"
    }
   ],
   "source": [
    "load_generation.head()"
   ]
  },
  {
   "cell_type": "code",
   "execution_count": 34,
   "id": "signal-detector",
   "metadata": {},
   "outputs": [],
   "source": [
    "conventionals_join.head()\n",
    "conventional_production = conventionals_join[\"PRODUCTION_IN_MWH\"].sum()\n",
    "conventional_production_from_generation = load_generation[\"conventionals\"].sum()\n",
    "a = conventional_production - conventional_production_from_generation\n"
   ]
  },
  {
   "cell_type": "code",
   "execution_count": 35,
   "id": "nutritional-tutorial",
   "metadata": {},
   "outputs": [
    {
     "data": {
      "text/html": [
       "<div>\n",
       "<style scoped>\n",
       "    .dataframe tbody tr th:only-of-type {\n",
       "        vertical-align: middle;\n",
       "    }\n",
       "\n",
       "    .dataframe tbody tr th {\n",
       "        vertical-align: top;\n",
       "    }\n",
       "\n",
       "    .dataframe thead th {\n",
       "        text-align: right;\n",
       "    }\n",
       "</style>\n",
       "<table border=\"1\" class=\"dataframe\">\n",
       "  <thead>\n",
       "    <tr style=\"text-align: right;\">\n",
       "      <th></th>\n",
       "      <th>identifier</th>\n",
       "      <th>StorageType</th>\n",
       "      <th>EnergyToPowerRatio</th>\n",
       "      <th>ChargingEfficiency</th>\n",
       "      <th>DischargingEfficiency</th>\n",
       "      <th>InitialEnergyLevelInMWH</th>\n",
       "      <th>InstalledPowerInMW</th>\n",
       "    </tr>\n",
       "  </thead>\n",
       "  <tbody>\n",
       "    <tr>\n",
       "      <th>0</th>\n",
       "      <td>99992600008</td>\n",
       "      <td>STORAGE</td>\n",
       "      <td>5</td>\n",
       "      <td>0.92</td>\n",
       "      <td>0.92</td>\n",
       "      <td>0</td>\n",
       "      <td>1500</td>\n",
       "    </tr>\n",
       "    <tr>\n",
       "      <th>1</th>\n",
       "      <td>20512600055</td>\n",
       "      <td>STORAGE</td>\n",
       "      <td>5</td>\n",
       "      <td>0.92</td>\n",
       "      <td>0.92</td>\n",
       "      <td>0</td>\n",
       "      <td>1500</td>\n",
       "    </tr>\n",
       "    <tr>\n",
       "      <th>2</th>\n",
       "      <td>20512600057</td>\n",
       "      <td>STORAGE</td>\n",
       "      <td>5</td>\n",
       "      <td>0.92</td>\n",
       "      <td>0.92</td>\n",
       "      <td>0</td>\n",
       "      <td>1500</td>\n",
       "    </tr>\n",
       "    <tr>\n",
       "      <th>3</th>\n",
       "      <td>20512600060</td>\n",
       "      <td>STORAGE</td>\n",
       "      <td>5</td>\n",
       "      <td>0.92</td>\n",
       "      <td>0.92</td>\n",
       "      <td>0</td>\n",
       "      <td>1500</td>\n",
       "    </tr>\n",
       "    <tr>\n",
       "      <th>4</th>\n",
       "      <td>20512600061</td>\n",
       "      <td>STORAGE</td>\n",
       "      <td>5</td>\n",
       "      <td>0.92</td>\n",
       "      <td>0.92</td>\n",
       "      <td>0</td>\n",
       "      <td>1500</td>\n",
       "    </tr>\n",
       "  </tbody>\n",
       "</table>\n",
       "</div>"
      ],
      "text/plain": [
       "    identifier StorageType  EnergyToPowerRatio  ChargingEfficiency  \\\n",
       "0  99992600008     STORAGE                   5                0.92   \n",
       "1  20512600055     STORAGE                   5                0.92   \n",
       "2  20512600057     STORAGE                   5                0.92   \n",
       "3  20512600060     STORAGE                   5                0.92   \n",
       "4  20512600061     STORAGE                   5                0.92   \n",
       "\n",
       "   DischargingEfficiency  InitialEnergyLevelInMWH  InstalledPowerInMW  \n",
       "0                   0.92                        0                1500  \n",
       "1                   0.92                        0                1500  \n",
       "2                   0.92                        0                1500  \n",
       "3                   0.92                        0                1500  \n",
       "4                   0.92                        0                1500  "
      ]
     },
     "execution_count": 35,
     "metadata": {},
     "output_type": "execute_result"
    }
   ],
   "source": [
    "storages_data.head()"
   ]
  },
  {
   "cell_type": "code",
   "execution_count": 36,
   "id": "protected-gateway",
   "metadata": {},
   "outputs": [],
   "source": [
    "conventional_production = conventionals_join[\"PRODUCTION_IN_MWH\"].sum()\n",
    "charging_from_generation = load_generation[\"storages_discharging\"].sum()\n"
   ]
  }
 ],
 "metadata": {
  "kernelspec": {
   "display_name": "amiris_spinetoolbox",
   "language": "python",
   "name": "amiris"
  },
  "language_info": {
   "codemirror_mode": {
    "name": "ipython",
    "version": 3
   },
   "file_extension": ".py",
   "mimetype": "text/x-python",
   "name": "python",
   "nbconvert_exporter": "python",
   "pygments_lexer": "ipython3",
   "version": "3.8.11"
  }
 },
 "nbformat": 4,
 "nbformat_minor": 5
}
