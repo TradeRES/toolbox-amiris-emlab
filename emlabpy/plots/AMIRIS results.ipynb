{
 "cells": [
  {
   "cell_type": "code",
   "execution_count": 14,
   "id": "architectural-filename",
   "metadata": {},
   "outputs": [],
   "source": [
    "import os\n",
    "import matplotlib.pyplot as plt\n",
    "import numpy as np\n",
    "import pandas as pd\n",
    "import seaborn as sns\n",
    "sns.set_theme(style=\"whitegrid\")\n",
    "path_to_results = os.path.join(os.path.dirname(os.path.dirname(os.getcwd()) ), \"amiris_workflow\")\n",
    "path_to_structure = os.path.join(path_to_results, \"amiris_data_structure.xlsx\")\n",
    "path_to_load = os.path.join(path_to_results, \"amiris-config\", \"data\",\"load.csv\")\n",
    "path_to_output = os.path.join(path_to_results, \"output\",\"amiris_results.csv\" )\n",
    "path_to_storage_levels = os.path.join(path_to_results, \"output\",\"final_storage_levels.csv\" )\n",
    "path_to_generation = os.path.join(path_to_results, \"output\",\"hourly_generation_per_group.csv\" )\n",
    "path_to_plots = os.path.join(os.getcwd(),  \"Scenarios\")\n",
    "\n",
    "generation_data =  pd.read_csv(path_to_generation, index_col=\"Unnamed: 0\")\n",
    "load_data = pd.read_csv(path_to_load, sep=\";\", header=None) \n",
    "results_data = pd.read_csv(path_to_output) \n",
    "storage_levels_data = pd.read_csv(path_to_storage_levels) \n",
    "storages_data = pd.read_excel(path_to_structure, sheet_name='storages', index_col=0)\n",
    "conventionals_data = pd.read_excel(path_to_structure, sheet_name='conventionals', index_col=0)\n",
    "biogas_data = pd.read_excel(path_to_structure, sheet_name='biogas', index_col=0)"
   ]
  },
  {
   "cell_type": "code",
   "execution_count": 15,
   "id": "latter-triangle",
   "metadata": {},
   "outputs": [
    {
     "data": {
      "text/html": [
       "<div>\n",
       "<style scoped>\n",
       "    .dataframe tbody tr th:only-of-type {\n",
       "        vertical-align: middle;\n",
       "    }\n",
       "\n",
       "    .dataframe tbody tr th {\n",
       "        vertical-align: top;\n",
       "    }\n",
       "\n",
       "    .dataframe thead th {\n",
       "        text-align: right;\n",
       "    }\n",
       "</style>\n",
       "<table border=\"1\" class=\"dataframe\">\n",
       "  <thead>\n",
       "    <tr style=\"text-align: right;\">\n",
       "      <th></th>\n",
       "      <th>0</th>\n",
       "      <th>1</th>\n",
       "    </tr>\n",
       "  </thead>\n",
       "  <tbody>\n",
       "    <tr>\n",
       "      <th>0</th>\n",
       "      <td>946080000</td>\n",
       "      <td>12130.119545</td>\n",
       "    </tr>\n",
       "    <tr>\n",
       "      <th>1</th>\n",
       "      <td>946083600</td>\n",
       "      <td>12039.119545</td>\n",
       "    </tr>\n",
       "    <tr>\n",
       "      <th>2</th>\n",
       "      <td>946087200</td>\n",
       "      <td>11778.619545</td>\n",
       "    </tr>\n",
       "    <tr>\n",
       "      <th>3</th>\n",
       "      <td>946090800</td>\n",
       "      <td>11512.119545</td>\n",
       "    </tr>\n",
       "    <tr>\n",
       "      <th>4</th>\n",
       "      <td>946094400</td>\n",
       "      <td>11258.619545</td>\n",
       "    </tr>\n",
       "  </tbody>\n",
       "</table>\n",
       "</div>"
      ],
      "text/plain": [
       "           0             1\n",
       "0  946080000  12130.119545\n",
       "1  946083600  12039.119545\n",
       "2  946087200  11778.619545\n",
       "3  946090800  11512.119545\n",
       "4  946094400  11258.619545"
      ]
     },
     "execution_count": 15,
     "metadata": {},
     "output_type": "execute_result"
    }
   ],
   "source": [
    "load_data.head()"
   ]
  },
  {
   "cell_type": "code",
   "execution_count": 16,
   "id": "physical-shooting",
   "metadata": {},
   "outputs": [],
   "source": [
    "conventionals_join = pd.merge(conventionals_data, \n",
    "                      results_data, \n",
    "                      on ='identifier', \n",
    "                      how ='inner')"
   ]
  },
  {
   "cell_type": "code",
   "execution_count": 17,
   "id": "liable-spending",
   "metadata": {},
   "outputs": [
    {
     "data": {
      "text/html": [
       "<div>\n",
       "<style scoped>\n",
       "    .dataframe tbody tr th:only-of-type {\n",
       "        vertical-align: middle;\n",
       "    }\n",
       "\n",
       "    .dataframe tbody tr th {\n",
       "        vertical-align: top;\n",
       "    }\n",
       "\n",
       "    .dataframe thead th {\n",
       "        text-align: right;\n",
       "    }\n",
       "</style>\n",
       "<table border=\"1\" class=\"dataframe\">\n",
       "  <thead>\n",
       "    <tr style=\"text-align: right;\">\n",
       "      <th></th>\n",
       "      <th>identifier</th>\n",
       "      <th>FuelType</th>\n",
       "      <th>OpexVarInEURperMWH</th>\n",
       "      <th>Efficiency</th>\n",
       "      <th>BlockSizeInMW</th>\n",
       "      <th>InstalledPowerInMW</th>\n",
       "      <th>VARIABLE_COSTS_IN_EURO</th>\n",
       "      <th>REVENUES_IN_EURO</th>\n",
       "      <th>PRODUCTION_IN_MWH</th>\n",
       "      <th>CONTRIBUTION_MARGIN_IN_EURO</th>\n",
       "    </tr>\n",
       "  </thead>\n",
       "  <tbody>\n",
       "    <tr>\n",
       "      <th>0</th>\n",
       "      <td>20060200045</td>\n",
       "      <td>WASTE</td>\n",
       "      <td>1.9</td>\n",
       "      <td>0.30</td>\n",
       "      <td>1.768</td>\n",
       "      <td>1.768</td>\n",
       "      <td>6.384866e+05</td>\n",
       "      <td>2.340919e+07</td>\n",
       "      <td>1.542685e+04</td>\n",
       "      <td>2.277070e+07</td>\n",
       "    </tr>\n",
       "    <tr>\n",
       "      <th>1</th>\n",
       "      <td>20010300022</td>\n",
       "      <td>NATURAL_GAS</td>\n",
       "      <td>4.2</td>\n",
       "      <td>0.51</td>\n",
       "      <td>245.000</td>\n",
       "      <td>245.000</td>\n",
       "      <td>7.792445e+07</td>\n",
       "      <td>3.212320e+09</td>\n",
       "      <td>1.488947e+06</td>\n",
       "      <td>3.134396e+09</td>\n",
       "    </tr>\n",
       "    <tr>\n",
       "      <th>2</th>\n",
       "      <td>20190300021</td>\n",
       "      <td>NATURAL_GAS</td>\n",
       "      <td>4.2</td>\n",
       "      <td>0.52</td>\n",
       "      <td>341.000</td>\n",
       "      <td>341.000</td>\n",
       "      <td>1.236229e+08</td>\n",
       "      <td>4.488144e+09</td>\n",
       "      <td>2.404666e+06</td>\n",
       "      <td>4.364521e+09</td>\n",
       "    </tr>\n",
       "    <tr>\n",
       "      <th>3</th>\n",
       "      <td>19970300024</td>\n",
       "      <td>NATURAL_GAS</td>\n",
       "      <td>4.2</td>\n",
       "      <td>0.52</td>\n",
       "      <td>341.000</td>\n",
       "      <td>341.000</td>\n",
       "      <td>1.199436e+08</td>\n",
       "      <td>4.484465e+09</td>\n",
       "      <td>2.333097e+06</td>\n",
       "      <td>4.364521e+09</td>\n",
       "    </tr>\n",
       "    <tr>\n",
       "      <th>4</th>\n",
       "      <td>20160300054</td>\n",
       "      <td>NATURAL_GAS</td>\n",
       "      <td>4.2</td>\n",
       "      <td>0.59</td>\n",
       "      <td>420.000</td>\n",
       "      <td>420.000</td>\n",
       "      <td>1.674769e+08</td>\n",
       "      <td>5.560612e+09</td>\n",
       "      <td>3.656026e+06</td>\n",
       "      <td>5.393135e+09</td>\n",
       "    </tr>\n",
       "  </tbody>\n",
       "</table>\n",
       "</div>"
      ],
      "text/plain": [
       "    identifier     FuelType  OpexVarInEURperMWH  Efficiency  BlockSizeInMW  \\\n",
       "0  20060200045        WASTE                 1.9        0.30          1.768   \n",
       "1  20010300022  NATURAL_GAS                 4.2        0.51        245.000   \n",
       "2  20190300021  NATURAL_GAS                 4.2        0.52        341.000   \n",
       "3  19970300024  NATURAL_GAS                 4.2        0.52        341.000   \n",
       "4  20160300054  NATURAL_GAS                 4.2        0.59        420.000   \n",
       "\n",
       "   InstalledPowerInMW  VARIABLE_COSTS_IN_EURO  REVENUES_IN_EURO  \\\n",
       "0               1.768            6.384866e+05      2.340919e+07   \n",
       "1             245.000            7.792445e+07      3.212320e+09   \n",
       "2             341.000            1.236229e+08      4.488144e+09   \n",
       "3             341.000            1.199436e+08      4.484465e+09   \n",
       "4             420.000            1.674769e+08      5.560612e+09   \n",
       "\n",
       "   PRODUCTION_IN_MWH  CONTRIBUTION_MARGIN_IN_EURO  \n",
       "0       1.542685e+04                 2.277070e+07  \n",
       "1       1.488947e+06                 3.134396e+09  \n",
       "2       2.404666e+06                 4.364521e+09  \n",
       "3       2.333097e+06                 4.364521e+09  \n",
       "4       3.656026e+06                 5.393135e+09  "
      ]
     },
     "execution_count": 17,
     "metadata": {},
     "output_type": "execute_result"
    }
   ],
   "source": [
    "conventionals_join.head()"
   ]
  },
  {
   "cell_type": "code",
   "execution_count": 18,
   "id": "planned-river",
   "metadata": {},
   "outputs": [
    {
     "data": {
      "text/html": [
       "<div>\n",
       "<style scoped>\n",
       "    .dataframe tbody tr th:only-of-type {\n",
       "        vertical-align: middle;\n",
       "    }\n",
       "\n",
       "    .dataframe tbody tr th {\n",
       "        vertical-align: top;\n",
       "    }\n",
       "\n",
       "    .dataframe thead th {\n",
       "        text-align: right;\n",
       "    }\n",
       "</style>\n",
       "<table border=\"1\" class=\"dataframe\">\n",
       "  <thead>\n",
       "    <tr style=\"text-align: right;\">\n",
       "      <th></th>\n",
       "      <th>Unnamed: 0</th>\n",
       "      <th>value</th>\n",
       "    </tr>\n",
       "  </thead>\n",
       "  <tbody>\n",
       "    <tr>\n",
       "      <th>0</th>\n",
       "      <td>20202600053</td>\n",
       "      <td>10000.0</td>\n",
       "    </tr>\n",
       "    <tr>\n",
       "      <th>1</th>\n",
       "      <td>20202600055</td>\n",
       "      <td>9000.0</td>\n",
       "    </tr>\n",
       "    <tr>\n",
       "      <th>2</th>\n",
       "      <td>20202600056</td>\n",
       "      <td>7500.0</td>\n",
       "    </tr>\n",
       "    <tr>\n",
       "      <th>3</th>\n",
       "      <td>20202600057</td>\n",
       "      <td>5000.0</td>\n",
       "    </tr>\n",
       "    <tr>\n",
       "      <th>4</th>\n",
       "      <td>20202600058</td>\n",
       "      <td>2500.0</td>\n",
       "    </tr>\n",
       "  </tbody>\n",
       "</table>\n",
       "</div>"
      ],
      "text/plain": [
       "    Unnamed: 0    value\n",
       "0  20202600053  10000.0\n",
       "1  20202600055   9000.0\n",
       "2  20202600056   7500.0\n",
       "3  20202600057   5000.0\n",
       "4  20202600058   2500.0"
      ]
     },
     "execution_count": 18,
     "metadata": {},
     "output_type": "execute_result"
    }
   ],
   "source": [
    "storage_levels_data.head()"
   ]
  },
  {
   "cell_type": "code",
   "execution_count": 19,
   "id": "narrative-electron",
   "metadata": {},
   "outputs": [],
   "source": [
    "load_generation = pd.concat([generation_data, \n",
    "                      load_data],   axis=1 )\n",
    "load_generation.drop(0, axis=1, inplace=True)\n",
    "load_generation.sort_values(by=1, inplace=True) # sorting by increasing load\n",
    "load_generation.reset_index(inplace=True )\n",
    "load_generation.drop(\"index\", axis=1, inplace=True)"
   ]
  },
  {
   "cell_type": "code",
   "execution_count": 20,
   "id": "attended-employer",
   "metadata": {},
   "outputs": [
    {
     "data": {
      "text/html": [
       "<div>\n",
       "<style scoped>\n",
       "    .dataframe tbody tr th:only-of-type {\n",
       "        vertical-align: middle;\n",
       "    }\n",
       "\n",
       "    .dataframe tbody tr th {\n",
       "        vertical-align: top;\n",
       "    }\n",
       "\n",
       "    .dataframe thead th {\n",
       "        text-align: right;\n",
       "    }\n",
       "</style>\n",
       "<table border=\"1\" class=\"dataframe\">\n",
       "  <thead>\n",
       "    <tr style=\"text-align: right;\">\n",
       "      <th></th>\n",
       "      <th>res</th>\n",
       "      <th>conventionals</th>\n",
       "      <th>storages_discharging</th>\n",
       "      <th>storages_charging</th>\n",
       "      <th>load_shedding</th>\n",
       "    </tr>\n",
       "  </thead>\n",
       "  <tbody>\n",
       "    <tr>\n",
       "      <th>0</th>\n",
       "      <td>1575.246974</td>\n",
       "      <td>8081.872572</td>\n",
       "      <td>0.0</td>\n",
       "      <td>-0.000000</td>\n",
       "      <td>0.0</td>\n",
       "    </tr>\n",
       "    <tr>\n",
       "      <th>1</th>\n",
       "      <td>1835.268885</td>\n",
       "      <td>8071.768000</td>\n",
       "      <td>0.0</td>\n",
       "      <td>-196.167340</td>\n",
       "      <td>0.0</td>\n",
       "    </tr>\n",
       "    <tr>\n",
       "      <th>2</th>\n",
       "      <td>1978.909560</td>\n",
       "      <td>8071.768000</td>\n",
       "      <td>0.0</td>\n",
       "      <td>-250.558015</td>\n",
       "      <td>0.0</td>\n",
       "    </tr>\n",
       "    <tr>\n",
       "      <th>3</th>\n",
       "      <td>1625.769605</td>\n",
       "      <td>8252.349941</td>\n",
       "      <td>0.0</td>\n",
       "      <td>-0.000000</td>\n",
       "      <td>0.0</td>\n",
       "    </tr>\n",
       "    <tr>\n",
       "      <th>4</th>\n",
       "      <td>2898.804046</td>\n",
       "      <td>6998.583949</td>\n",
       "      <td>0.0</td>\n",
       "      <td>-0.018450</td>\n",
       "      <td>0.0</td>\n",
       "    </tr>\n",
       "  </tbody>\n",
       "</table>\n",
       "</div>"
      ],
      "text/plain": [
       "           res  conventionals  storages_discharging  storages_charging  \\\n",
       "0  1575.246974    8081.872572                   0.0          -0.000000   \n",
       "1  1835.268885    8071.768000                   0.0        -196.167340   \n",
       "2  1978.909560    8071.768000                   0.0        -250.558015   \n",
       "3  1625.769605    8252.349941                   0.0          -0.000000   \n",
       "4  2898.804046    6998.583949                   0.0          -0.018450   \n",
       "\n",
       "   load_shedding  \n",
       "0            0.0  \n",
       "1            0.0  \n",
       "2            0.0  \n",
       "3            0.0  \n",
       "4            0.0  "
      ]
     },
     "execution_count": 20,
     "metadata": {},
     "output_type": "execute_result"
    }
   ],
   "source": [
    "#load_generation.rename(columns={1: \"load\" }, inplace=True)\n",
    "load_generation[\"storages_charging\"] = load_generation[\"storages_charging\"]*-1\n",
    "load_generation.drop(\"storages_aggregated_level\", axis=1, inplace=True)\n",
    "load_generation.drop(1, axis=1, inplace=True)\n",
    "load_generation.head()"
   ]
  },
  {
   "cell_type": "code",
   "execution_count": 21,
   "id": "developing-following",
   "metadata": {},
   "outputs": [
    {
     "data": {
      "image/png": "[encoded data removed]",
      "text/plain": [
       "<Figure size 432x288 with 1 Axes>"
      ]
     },
     "metadata": {},
     "output_type": "display_data"
    }
   ],
   "source": [
    "load_generation.plot.area()\n",
    "axs1= plt.legend(fontsize='medium', loc='upper left', bbox_to_anchor=(1, 1.1))\n",
    "fig1 = axs1.get_figure()\n",
    "fig1.savefig(path_to_plots + '/' + 'testing.png', bbox_inches='tight', dpi=300)"
   ]
  },
  {
   "cell_type": "code",
   "execution_count": 22,
   "id": "tight-russian",
   "metadata": {},
   "outputs": [],
   "source": [
    "# plt.stackplot(load_generation.res, load_generation.conventionals, load_generation.load_shedding, load_generation.storages_discharging,\n",
    "#               load_generation.storages_charging,\n",
    "#               labels=['RES', 'conventional', \"load shedding\", \"dish\", \"charg\"])"
   ]
  },
  {
   "cell_type": "code",
   "execution_count": 23,
   "id": "introductory-apparel",
   "metadata": {},
   "outputs": [],
   "source": [
    "storages = load_generation[[\"storages_charging\", \"storages_discharging\"]].copy()"
   ]
  },
  {
   "cell_type": "code",
   "execution_count": 24,
   "id": "chubby-clerk",
   "metadata": {},
   "outputs": [
    {
     "data": {
      "text/plain": [
       "<AxesSubplot:>"
      ]
     },
     "execution_count": 24,
     "metadata": {},
     "output_type": "execute_result"
    },
    {
     "data": {
      "image/png": "[encoded data removed]",
      "text/plain": [
       "<Figure size 432x288 with 1 Axes>"
      ]
     },
     "metadata": {},
     "output_type": "display_data"
    }
   ],
   "source": [
    "storages.plot.area()"
   ]
  },
  {
   "cell_type": "code",
   "execution_count": 25,
   "id": "subject-steam",
   "metadata": {},
   "outputs": [
    {
     "data": {
      "text/plain": [
       "<AxesSubplot:>"
      ]
     },
     "execution_count": 25,
     "metadata": {},
     "output_type": "execute_result"
    },
    {
     "data": {
      "image/png": "[encoded data removed]",
      "text/plain": [
       "<Figure size 432x288 with 1 Axes>"
      ]
     },
     "metadata": {},
     "output_type": "display_data"
    }
   ],
   "source": [
    "load_generation.plot()"
   ]
  },
  {
   "cell_type": "code",
   "execution_count": null,
   "id": "parliamentary-blackjack",
   "metadata": {},
   "outputs": [],
   "source": []
  }
 ],
 "metadata": {
  "kernelspec": {
   "display_name": "amiris_spinetoolbox",
   "language": "python",
   "name": "amiris"
  },
  "language_info": {
   "codemirror_mode": {
    "name": "ipython",
    "version": 3
   },
   "file_extension": ".py",
   "mimetype": "text/x-python",
   "name": "python",
   "nbconvert_exporter": "python",
   "pygments_lexer": "ipython3",
   "version": "3.8.11"
  }
 },
 "nbformat": 4,
 "nbformat_minor": 5
}
