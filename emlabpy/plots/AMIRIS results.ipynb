{
 "cells": [
  {
   "cell_type": "code",
   "execution_count": 44,
   "id": "august-filling",
   "metadata": {},
   "outputs": [],
   "source": [
    "import os\n",
    "import matplotlib.pyplot as plt\n",
    "import numpy as np\n",
    "import pandas as pd\n",
    "import seaborn as sns\n",
    "sns.set_theme(style=\"whitegrid\")\n",
    "path_to_results = os.path.join(os.path.dirname(os.path.dirname(os.getcwd()) ), \"amiris_workflow\")\n",
    "path_to_structure = os.path.join(path_to_results, \"amiris_data_structure.xlsx\")\n",
    "path_to_output = os.path.join(path_to_results, \"output\",\"amiris_results.csv\" )\n",
    "path_to_storage_levels = os.path.join(path_to_results, \"output\",\"final_storage_levels.csv\" )\n",
    "path_to_generation = os.path.join(path_to_results, \"output\",\"hourly_generation_per_group.csv\" )\n",
    "generation_data =  pd.read_csv(path_to_generation, index_col=\"Unnamed: 0\")\n",
    "results_data = pd.read_csv(path_to_output) \n",
    "storage_levels_data = pd.read_csv(path_to_storage_levels) \n",
    "storages_data = pd.read_excel(path_to_structure, sheet_name='storages', index_col=0)\n",
    "conventionals_data = pd.read_excel(path_to_structure, sheet_name='conventionals', index_col=0)\n",
    "biogas_data = pd.read_excel(path_to_structure, sheet_name='biogas', index_col=0)"
   ]
  },
  {
   "cell_type": "code",
   "execution_count": 37,
   "id": "defensive-thanksgiving",
   "metadata": {},
   "outputs": [
    {
     "data": {
      "text/html": [
       "<div>\n",
       "<style scoped>\n",
       "    .dataframe tbody tr th:only-of-type {\n",
       "        vertical-align: middle;\n",
       "    }\n",
       "\n",
       "    .dataframe tbody tr th {\n",
       "        vertical-align: top;\n",
       "    }\n",
       "\n",
       "    .dataframe thead th {\n",
       "        text-align: right;\n",
       "    }\n",
       "</style>\n",
       "<table border=\"1\" class=\"dataframe\">\n",
       "  <thead>\n",
       "    <tr style=\"text-align: right;\">\n",
       "      <th></th>\n",
       "      <th>identifier</th>\n",
       "      <th>VARIABLE_COSTS_IN_EURO</th>\n",
       "      <th>REVENUES_IN_EURO</th>\n",
       "      <th>PRODUCTION_IN_MWH</th>\n",
       "      <th>CONTRIBUTION_MARGIN_IN_EURO</th>\n",
       "    </tr>\n",
       "  </thead>\n",
       "  <tbody>\n",
       "    <tr>\n",
       "      <th>0</th>\n",
       "      <td>20060200048</td>\n",
       "      <td>2.263105e+05</td>\n",
       "      <td>1.016991e+07</td>\n",
       "      <td>8.413028e+03</td>\n",
       "      <td>9.943595e+06</td>\n",
       "    </tr>\n",
       "    <tr>\n",
       "      <th>1</th>\n",
       "      <td>20202600062</td>\n",
       "      <td>7.653493e+05</td>\n",
       "      <td>4.933411e+07</td>\n",
       "      <td>3.663382e+03</td>\n",
       "      <td>4.856876e+07</td>\n",
       "    </tr>\n",
       "    <tr>\n",
       "      <th>2</th>\n",
       "      <td>20202600063</td>\n",
       "      <td>7.653493e+05</td>\n",
       "      <td>4.933411e+07</td>\n",
       "      <td>3.663382e+03</td>\n",
       "      <td>4.856876e+07</td>\n",
       "    </tr>\n",
       "    <tr>\n",
       "      <th>3</th>\n",
       "      <td>20061200025</td>\n",
       "      <td>0.000000e+00</td>\n",
       "      <td>8.956200e+07</td>\n",
       "      <td>8.453120e+04</td>\n",
       "      <td>8.956200e+07</td>\n",
       "    </tr>\n",
       "    <tr>\n",
       "      <th>4</th>\n",
       "      <td>20062400045</td>\n",
       "      <td>2.978534e+06</td>\n",
       "      <td>9.134689e+08</td>\n",
       "      <td>2.206321e+06</td>\n",
       "      <td>9.104904e+08</td>\n",
       "    </tr>\n",
       "  </tbody>\n",
       "</table>\n",
       "</div>"
      ],
      "text/plain": [
       "    identifier  VARIABLE_COSTS_IN_EURO  REVENUES_IN_EURO  PRODUCTION_IN_MWH  \\\n",
       "0  20060200048            2.263105e+05      1.016991e+07       8.413028e+03   \n",
       "1  20202600062            7.653493e+05      4.933411e+07       3.663382e+03   \n",
       "2  20202600063            7.653493e+05      4.933411e+07       3.663382e+03   \n",
       "3  20061200025            0.000000e+00      8.956200e+07       8.453120e+04   \n",
       "4  20062400045            2.978534e+06      9.134689e+08       2.206321e+06   \n",
       "\n",
       "   CONTRIBUTION_MARGIN_IN_EURO  \n",
       "0                 9.943595e+06  \n",
       "1                 4.856876e+07  \n",
       "2                 4.856876e+07  \n",
       "3                 8.956200e+07  \n",
       "4                 9.104904e+08  "
      ]
     },
     "execution_count": 37,
     "metadata": {},
     "output_type": "execute_result"
    }
   ],
   "source": [
    "results_data.head()"
   ]
  },
  {
   "cell_type": "code",
   "execution_count": 31,
   "id": "found-begin",
   "metadata": {},
   "outputs": [],
   "source": [
    "conventionals_join = pd.merge(conventionals_data, \n",
    "                      results_data, \n",
    "                      on ='identifier', \n",
    "                      how ='inner')\n",
    "# withbatteries = pd.merge(conventionals_join, \n",
    "#                       storage_levels_data, \n",
    "#                       on ='Unnamed: 0', \n",
    "#                       how ='inner')"
   ]
  },
  {
   "cell_type": "code",
   "execution_count": 32,
   "id": "exempt-progress",
   "metadata": {},
   "outputs": [
    {
     "data": {
      "text/html": [
       "<div>\n",
       "<style scoped>\n",
       "    .dataframe tbody tr th:only-of-type {\n",
       "        vertical-align: middle;\n",
       "    }\n",
       "\n",
       "    .dataframe tbody tr th {\n",
       "        vertical-align: top;\n",
       "    }\n",
       "\n",
       "    .dataframe thead th {\n",
       "        text-align: right;\n",
       "    }\n",
       "</style>\n",
       "<table border=\"1\" class=\"dataframe\">\n",
       "  <thead>\n",
       "    <tr style=\"text-align: right;\">\n",
       "      <th></th>\n",
       "      <th>identifier</th>\n",
       "      <th>FuelType</th>\n",
       "      <th>OpexVarInEURperMWH</th>\n",
       "      <th>BlockSizeInMW</th>\n",
       "      <th>InstalledPowerInMW</th>\n",
       "      <th>Efficiency</th>\n",
       "      <th>VARIABLE_COSTS_IN_EURO</th>\n",
       "      <th>REVENUES_IN_EURO</th>\n",
       "      <th>PRODUCTION_IN_MWH</th>\n",
       "      <th>CONTRIBUTION_MARGIN_IN_EURO</th>\n",
       "    </tr>\n",
       "  </thead>\n",
       "  <tbody>\n",
       "    <tr>\n",
       "      <th>0</th>\n",
       "      <td>20071400026</td>\n",
       "      <td>NUCLEAR</td>\n",
       "      <td>8.470588</td>\n",
       "      <td>484</td>\n",
       "      <td>484</td>\n",
       "      <td>0.38</td>\n",
       "      <td>3.171008e+07</td>\n",
       "      <td>4.490679e+09</td>\n",
       "      <td>3.743551e+06</td>\n",
       "      <td>4.458969e+09</td>\n",
       "    </tr>\n",
       "    <tr>\n",
       "      <th>1</th>\n",
       "      <td>20160300054</td>\n",
       "      <td>NATURAL_GAS</td>\n",
       "      <td>45.808460</td>\n",
       "      <td>420</td>\n",
       "      <td>420</td>\n",
       "      <td>0.36</td>\n",
       "      <td>1.464700e+08</td>\n",
       "      <td>3.895472e+09</td>\n",
       "      <td>3.197445e+06</td>\n",
       "      <td>3.749002e+09</td>\n",
       "    </tr>\n",
       "    <tr>\n",
       "      <th>2</th>\n",
       "      <td>20130300065</td>\n",
       "      <td>NATURAL_GAS</td>\n",
       "      <td>45.808460</td>\n",
       "      <td>420</td>\n",
       "      <td>420</td>\n",
       "      <td>0.34</td>\n",
       "      <td>1.441621e+08</td>\n",
       "      <td>3.893164e+09</td>\n",
       "      <td>3.147063e+06</td>\n",
       "      <td>3.749002e+09</td>\n",
       "    </tr>\n",
       "    <tr>\n",
       "      <th>3</th>\n",
       "      <td>20100300068</td>\n",
       "      <td>NATURAL_GAS</td>\n",
       "      <td>45.808460</td>\n",
       "      <td>870</td>\n",
       "      <td>870</td>\n",
       "      <td>0.32</td>\n",
       "      <td>2.910468e+08</td>\n",
       "      <td>8.056837e+09</td>\n",
       "      <td>6.353560e+06</td>\n",
       "      <td>7.765790e+09</td>\n",
       "    </tr>\n",
       "    <tr>\n",
       "      <th>4</th>\n",
       "      <td>20110300067</td>\n",
       "      <td>NATURAL_GAS</td>\n",
       "      <td>45.951082</td>\n",
       "      <td>1295</td>\n",
       "      <td>1295</td>\n",
       "      <td>0.30</td>\n",
       "      <td>4.104207e+08</td>\n",
       "      <td>1.196852e+10</td>\n",
       "      <td>8.931687e+06</td>\n",
       "      <td>1.155810e+10</td>\n",
       "    </tr>\n",
       "  </tbody>\n",
       "</table>\n",
       "</div>"
      ],
      "text/plain": [
       "    identifier     FuelType  OpexVarInEURperMWH  BlockSizeInMW  \\\n",
       "0  20071400026      NUCLEAR            8.470588            484   \n",
       "1  20160300054  NATURAL_GAS           45.808460            420   \n",
       "2  20130300065  NATURAL_GAS           45.808460            420   \n",
       "3  20100300068  NATURAL_GAS           45.808460            870   \n",
       "4  20110300067  NATURAL_GAS           45.951082           1295   \n",
       "\n",
       "   InstalledPowerInMW  Efficiency  VARIABLE_COSTS_IN_EURO  REVENUES_IN_EURO  \\\n",
       "0                 484        0.38            3.171008e+07      4.490679e+09   \n",
       "1                 420        0.36            1.464700e+08      3.895472e+09   \n",
       "2                 420        0.34            1.441621e+08      3.893164e+09   \n",
       "3                 870        0.32            2.910468e+08      8.056837e+09   \n",
       "4                1295        0.30            4.104207e+08      1.196852e+10   \n",
       "\n",
       "   PRODUCTION_IN_MWH  CONTRIBUTION_MARGIN_IN_EURO  \n",
       "0       3.743551e+06                 4.458969e+09  \n",
       "1       3.197445e+06                 3.749002e+09  \n",
       "2       3.147063e+06                 3.749002e+09  \n",
       "3       6.353560e+06                 7.765790e+09  \n",
       "4       8.931687e+06                 1.155810e+10  "
      ]
     },
     "execution_count": 32,
     "metadata": {},
     "output_type": "execute_result"
    }
   ],
   "source": [
    "conventionals_join.head()"
   ]
  },
  {
   "cell_type": "code",
   "execution_count": 30,
   "id": "apart-sullivan",
   "metadata": {},
   "outputs": [
    {
     "data": {
      "text/html": [
       "<div>\n",
       "<style scoped>\n",
       "    .dataframe tbody tr th:only-of-type {\n",
       "        vertical-align: middle;\n",
       "    }\n",
       "\n",
       "    .dataframe tbody tr th {\n",
       "        vertical-align: top;\n",
       "    }\n",
       "\n",
       "    .dataframe thead th {\n",
       "        text-align: right;\n",
       "    }\n",
       "</style>\n",
       "<table border=\"1\" class=\"dataframe\">\n",
       "  <thead>\n",
       "    <tr style=\"text-align: right;\">\n",
       "      <th></th>\n",
       "      <th>Unnamed: 0</th>\n",
       "      <th>value</th>\n",
       "    </tr>\n",
       "  </thead>\n",
       "  <tbody>\n",
       "    <tr>\n",
       "      <th>0</th>\n",
       "      <td>20202600062</td>\n",
       "      <td>200.0</td>\n",
       "    </tr>\n",
       "    <tr>\n",
       "      <th>1</th>\n",
       "      <td>20202600063</td>\n",
       "      <td>200.0</td>\n",
       "    </tr>\n",
       "  </tbody>\n",
       "</table>\n",
       "</div>"
      ],
      "text/plain": [
       "    Unnamed: 0  value\n",
       "0  20202600062  200.0\n",
       "1  20202600063  200.0"
      ]
     },
     "execution_count": 30,
     "metadata": {},
     "output_type": "execute_result"
    }
   ],
   "source": [
    "storage_levels_data.head()"
   ]
  },
  {
   "cell_type": "code",
   "execution_count": 49,
   "id": "obvious-dragon",
   "metadata": {},
   "outputs": [
    {
     "data": {
      "text/plain": [
       "<AxesSubplot:>"
      ]
     },
     "execution_count": 49,
     "metadata": {},
     "output_type": "execute_result"
    },
    {
     "data": {
      "image/png": "[encoded data removed]",
      "text/plain": [
       "<Figure size 432x288 with 1 Axes>"
      ]
     },
     "metadata": {},
     "output_type": "display_data"
    }
   ],
   "source": [
    "generation_data[0:500].plot()\n"
   ]
  },
  {
   "cell_type": "code",
   "execution_count": null,
   "id": "czech-algebra",
   "metadata": {},
   "outputs": [],
   "source": []
  }
 ],
 "metadata": {
  "kernelspec": {
   "display_name": "amiris_spinetoolbox",
   "language": "python",
   "name": "amiris"
  },
  "language_info": {
   "codemirror_mode": {
    "name": "ipython",
    "version": 3
   },
   "file_extension": ".py",
   "mimetype": "text/x-python",
   "name": "python",
   "nbconvert_exporter": "python",
   "pygments_lexer": "ipython3",
   "version": "3.8.11"
  }
 },
 "nbformat": 4,
 "nbformat_minor": 5
}
