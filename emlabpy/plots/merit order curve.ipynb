{
 "cells": [
  {
   "cell_type": "code",
   "execution_count": 25,
   "id": "organic-cover",
   "metadata": {},
   "outputs": [],
   "source": [
    "from sklearn.linear_model import LinearRegression\n",
    "import os\n",
    "import matplotlib.pyplot as plt\n",
    "import numpy as np\n",
    "import pandas as pd\n",
    "import seaborn as sns\n",
    "\n",
    "%matplotlib inline"
   ]
  },
  {
   "cell_type": "code",
   "execution_count": 26,
   "id": "qualified-sunrise",
   "metadata": {},
   "outputs": [],
   "source": [
    "scenario = str(2089)\n",
    "path_to_results = r\"C:\\toolbox-amiris-emlab\\emlabpy\\plots\\Scenarios\\NL-fix_profiles\"\n",
    "\n",
    "path_to_results = os.path.join(path_to_results, scenario + \".xlsx\" )\n",
    "\n",
    "path_to_plots = os.path.join(os.getcwd(),  \"Scenarios\", \"AMIRIS_Results\", scenario )\n",
    "if not os.path.exists(path_to_plots):\n",
    "    os.makedirs(path_to_plots)\n",
    "    \n",
    "elec_prices_data =  pd.read_excel(path_to_results, sheet_name='energy_exchange', index_col=0)  "
   ]
  },
  {
   "cell_type": "code",
   "execution_count": 27,
   "id": "advanced-squad",
   "metadata": {},
   "outputs": [],
   "source": [
    "marginal_price = {\n",
    "    0: \"PV\",\n",
    "    48.58: \"Industrial heat\",\n",
    "    33.00: \"Electrolyzer\",\n",
    "    2.70: \"Offshore\",\n",
    "    1.35: \"Onshore\",\n",
    "    9.93: \"Nuclear\",\n",
    "    4000: \"VOLL\",\n",
    "    1500: \"HighLS\",\n",
    "    500: \"MedLS\",\n",
    "    250: \"LowLS\",\n",
    "    114.25: \"H2 turbine\"\n",
    "}\n",
    "fuel_colors = {\n",
    "    'Industrial heat': \"black\",\n",
    "    'H2 turbine': \"darkred\",\n",
    "    \"PV\": \"gold\",\n",
    "    'Nuclear': \"mediumorchid\",\n",
    "    'Offshore': \"navy\",\n",
    "    'Onshore': \"blue\",\n",
    "    'notfound': \"purple\",\n",
    "    'Electrolyzer': \"gray\",\n",
    "    \"LowLS\": \"lemonchiffon\",\n",
    "    'HighLS': \"darkorange\",\n",
    "    'MedLS': \"orange\",\n",
    "    \"VOLL\": \"lime\",\n",
    "    \"Wind and Solar\": \"green\",\n",
    "    \"Nuclear and H2 turbines\" : \"darkred\", \n",
    "    \"Static Load\": \"purple\"\n",
    "}"
   ]
  },
  {
   "cell_type": "code",
   "execution_count": 28,
   "id": "social-rating",
   "metadata": {},
   "outputs": [
    {
     "data": {
      "text/plain": [
       "<AxesSubplot:>"
      ]
     },
     "execution_count": 28,
     "metadata": {},
     "output_type": "execute_result"
    },
    {
     "data": {
      "image/png": "[encoded data removed]",
      "text/plain": [
       "<Figure size 640x480 with 1 Axes>"
      ]
     },
     "metadata": {},
     "output_type": "display_data"
    }
   ],
   "source": [
    "elec_prices_data.sort_values(by=\"ElectricityPriceInEURperMWH\", inplace = True, ignore_index=True)\n",
    "elec_prices_data[\"ElectricityPriceInEURperMWH\"] = round(elec_prices_data[\"ElectricityPriceInEURperMWH\"],2)\n",
    "elec_prices_data[\"ElectricityPriceInEURperMWH\"].plot()"
   ]
  },
  {
   "cell_type": "code",
   "execution_count": 29,
   "id": "educated-thompson",
   "metadata": {},
   "outputs": [],
   "source": [
    "\n",
    "MeritOrder =pd.DataFrame()"
   ]
  },
  {
   "cell_type": "code",
   "execution_count": 30,
   "id": "collect-conspiracy",
   "metadata": {},
   "outputs": [],
   "source": [
    "MeritOrder[\"Price\"]  = elec_prices_data[\"ElectricityPriceInEURperMWH\"]\n",
    "MeritOrder[\"CumulatedPower\"] = elec_prices_data.index\n",
    "\n",
    "MeritOrder[\"Fuel\"] = elec_prices_data[\"ElectricityPriceInEURperMWH\"].apply(\n",
    "    lambda x: marginal_price.get(x)\n",
    ")\n"
   ]
  },
  {
   "cell_type": "code",
   "execution_count": 33,
   "id": "defined-suggestion",
   "metadata": {},
   "outputs": [],
   "source": [
    "matrix = MeritOrder[['Fuel', 'Price', 'CumulatedPower']].values\n",
    "MeritOrder = np.zeros((0,3))"
   ]
  },
  {
   "cell_type": "code",
   "execution_count": 34,
   "id": "beneficial-receiver",
   "metadata": {},
   "outputs": [
    {
     "data": {
      "text/html": [
       "<div>\n",
       "<style scoped>\n",
       "    .dataframe tbody tr th:only-of-type {\n",
       "        vertical-align: middle;\n",
       "    }\n",
       "\n",
       "    .dataframe tbody tr th {\n",
       "        vertical-align: top;\n",
       "    }\n",
       "\n",
       "    .dataframe thead th {\n",
       "        text-align: right;\n",
       "    }\n",
       "</style>\n",
       "<table border=\"1\" class=\"dataframe\">\n",
       "  <thead>\n",
       "    <tr style=\"text-align: right;\">\n",
       "      <th></th>\n",
       "      <th>Fuel</th>\n",
       "      <th>Price</th>\n",
       "      <th>CumulatedPower</th>\n",
       "    </tr>\n",
       "  </thead>\n",
       "  <tbody>\n",
       "    <tr>\n",
       "      <th>0</th>\n",
       "      <td>Offshore</td>\n",
       "      <td>2.7</td>\n",
       "      <td>0.0</td>\n",
       "    </tr>\n",
       "    <tr>\n",
       "      <th>1</th>\n",
       "      <td>Offshore</td>\n",
       "      <td>2.7</td>\n",
       "      <td>1.0</td>\n",
       "    </tr>\n",
       "    <tr>\n",
       "      <th>2</th>\n",
       "      <td>Offshore</td>\n",
       "      <td>2.7</td>\n",
       "      <td>2.0</td>\n",
       "    </tr>\n",
       "    <tr>\n",
       "      <th>3</th>\n",
       "      <td>Offshore</td>\n",
       "      <td>2.7</td>\n",
       "      <td>3.0</td>\n",
       "    </tr>\n",
       "    <tr>\n",
       "      <th>4</th>\n",
       "      <td>Offshore</td>\n",
       "      <td>2.7</td>\n",
       "      <td>4.0</td>\n",
       "    </tr>\n",
       "    <tr>\n",
       "      <th>...</th>\n",
       "      <td>...</td>\n",
       "      <td>...</td>\n",
       "      <td>...</td>\n",
       "    </tr>\n",
       "    <tr>\n",
       "      <th>8762</th>\n",
       "      <td>HighLS</td>\n",
       "      <td>1500.0</td>\n",
       "      <td>8755.0</td>\n",
       "    </tr>\n",
       "    <tr>\n",
       "      <th>8763</th>\n",
       "      <td>HighLS</td>\n",
       "      <td>1500.0</td>\n",
       "      <td>8756.0</td>\n",
       "    </tr>\n",
       "    <tr>\n",
       "      <th>8764</th>\n",
       "      <td>VOLL</td>\n",
       "      <td>1500.0</td>\n",
       "      <td>8756.0</td>\n",
       "    </tr>\n",
       "    <tr>\n",
       "      <th>8765</th>\n",
       "      <td>VOLL</td>\n",
       "      <td>4000.0</td>\n",
       "      <td>8757.0</td>\n",
       "    </tr>\n",
       "    <tr>\n",
       "      <th>8766</th>\n",
       "      <td>VOLL</td>\n",
       "      <td>4000.0</td>\n",
       "      <td>8758.0</td>\n",
       "    </tr>\n",
       "  </tbody>\n",
       "</table>\n",
       "<p>8767 rows × 3 columns</p>\n",
       "</div>"
      ],
      "text/plain": [
       "          Fuel   Price  CumulatedPower\n",
       "0     Offshore     2.7             0.0\n",
       "1     Offshore     2.7             1.0\n",
       "2     Offshore     2.7             2.0\n",
       "3     Offshore     2.7             3.0\n",
       "4     Offshore     2.7             4.0\n",
       "...        ...     ...             ...\n",
       "8762    HighLS  1500.0          8755.0\n",
       "8763    HighLS  1500.0          8756.0\n",
       "8764      VOLL  1500.0          8756.0\n",
       "8765      VOLL  4000.0          8757.0\n",
       "8766      VOLL  4000.0          8758.0\n",
       "\n",
       "[8767 rows x 3 columns]"
      ]
     },
     "execution_count": 34,
     "metadata": {},
     "output_type": "execute_result"
    }
   ],
   "source": [
    "for el in range(len(matrix)-1):\n",
    "    MeritOrder = np.append(MeritOrder, np.reshape(matrix[el,], (1,3)), axis=0)\n",
    "    if matrix[el,0] != matrix[el+1,0]:\n",
    "        obj = np.reshape(matrix[el,], (1,3))\n",
    "        obj[0][0] = matrix[el+1,0]\n",
    "        MeritOrder = np.append(MeritOrder, obj, axis=0)\n",
    "\n",
    "MeritOrder = pd.DataFrame(\n",
    "    data=MeritOrder, \n",
    "    columns=['Fuel', 'Price', 'CumulatedPower']\n",
    ")\n",
    "MeritOrder = MeritOrder.astype({'CumulatedPower': 'float32', 'Price': 'float32'})\n"
   ]
  },
  {
   "cell_type": "code",
   "execution_count": 44,
   "id": "saving-breakfast",
   "metadata": {},
   "outputs": [
    {
     "data": {
      "image/png": "[encoded data removed]",
      "text/plain": [
       "<Figure size 500x500 with 1 Axes>"
      ]
     },
     "metadata": {},
     "output_type": "display_data"
    }
   ],
   "source": [
    "plt.rcParams.update({'font.size': 12})\n",
    "\n",
    "fig, ax = plt.subplots(figsize = (5,5))\n",
    "\n",
    "for fuel in MeritOrder['Fuel'].unique():\n",
    "    _ = ax.fill_between(x='CumulatedPower',\n",
    "                        y1='Price',\n",
    "                        where = MeritOrder[\"Fuel\"] == fuel,\n",
    "                        facecolor = fuel_colors[fuel],\n",
    "                        step = \"pre\",\n",
    "                        lw = 15,\n",
    "                        #        interpolate = True,\n",
    "                        data = MeritOrder,\n",
    "                        label=fuel)\n",
    "\n",
    "_ = ax.set(\n",
    "    xlim=(0, MeritOrder['CumulatedPower'].max()),\n",
    "    ylim=(MeritOrder['Price'].min() - 10, 120)\n",
    "           #lim=(-200, 300)\n",
    ")\n",
    "_ = plt.xlabel('Hours')\n",
    "_ = plt.ylabel('Marginal costs[€/MWh]')\n",
    "_ = ax.legend(loc='upper left', ncol=1)\n",
    "_ = ax.grid(True, which='major')\n",
    "\n",
    "plt.tight_layout()\n",
    "\n",
    "plt.savefig(\"merit_order_plot.png\")\n",
    "\n",
    "plt.show()"
   ]
  },
  {
   "cell_type": "code",
   "execution_count": null,
   "id": "occupational-seller",
   "metadata": {},
   "outputs": [],
   "source": []
  }
 ],
 "metadata": {
  "kernelspec": {
   "display_name": "emlabpy",
   "language": "python",
   "name": "emlabpy"
  },
  "language_info": {
   "codemirror_mode": {
    "name": "ipython",
    "version": 3
   },
   "file_extension": ".py",
   "mimetype": "text/x-python",
   "name": "python",
   "nbconvert_exporter": "python",
   "pygments_lexer": "ipython3",
   "version": "3.8.13"
  }
 },
 "nbformat": 4,
 "nbformat_minor": 5
}
