{
 "cells": [
  {
   "cell_type": "code",
   "execution_count": 41,
   "id": "exciting-remains",
   "metadata": {
    "ExecuteTime": {
     "end_time": "2024-03-18T13:32:07.686002800Z",
     "start_time": "2024-03-18T13:32:07.654928400Z"
    }
   },
   "outputs": [],
   "source": [
    "import os\n",
    "import matplotlib.pyplot as plt\n",
    "import matplotlib as mpl\n",
    "import numpy as np\n",
    "import pandas as pd\n",
    "import seaborn as sns\n",
    "\n",
    "sns.set_theme(style=\"whitegrid\")\n",
    "import statistics\n",
    "import math\n",
    "plt.rcParams.update({'font.size': 13})\n",
    "plt.rc('ytick', labelsize=13) \n",
    "plt.rc('xtick', labelsize=13) \n",
    "%matplotlib inline"
   ]
  },
  {
   "cell_type": "code",
   "execution_count": 42,
   "id": "stopped-astronomy",
   "metadata": {
    "ExecuteTime": {
     "end_time": "2024-03-18T13:32:07.698003200Z",
     "start_time": "2024-03-18T13:32:07.682003200Z"
    }
   },
   "outputs": [],
   "source": [
    "# scenarioname = \"DoubleHydrogenPrice\"\n",
    "# selected_scenarios = [\"iteration1\", \"doubleH2turbine\"]\n",
    "# selected_scenarios = [\"EOM2\",  \"SR_1yearbeforedecommission\", \"notexpectSR\", \"expectStableSR\"]\n",
    "# scenarioname = \"SR\"\n",
    "# selected_scenarios = [\"EOM\", \"SR1000\", \"SR1600\",  \"SR2000M5\",\"SR3000\"]\n",
    "# scenarioname = \"NL_CRM\"\n",
    "# selected_scenarios = [\"EOM\" , \"capacity_market_lowerCONE\", \"capacity_market_higherCONE\" , \"capacity_subscription_byLOLE\",\"strategic_reserve\"] \n",
    "# scenarioname = \"NL_EOM\"\n",
    "# selected_scenarios = [\"NL-EOM_nolifetimeextension\", \"EOM_5GWNuclear\", \"EOM_3GWNuclear\",\"EOM_lessDSR\",\"EOM_DSR500\"]\n",
    "# CRM_scenarios = [\"NL-EOM_nolifetimeextension\", \"EOM_5GWNuclear\", \"EOM_3GWNuclear\",\"EOM_lessDSR\",\"EOM_DSR500\"]\n",
    "# selected_scenarios = [\"EOM\" , \"capacity_market_lowerCONE\", \"capacity_market_higherCONE\" , \"capacity_subscription_byLOLE\",\"strategic_reserve\"] \n",
    "# scenarioname = \"NL_CMarketnewData\"\n",
    "# selected_scenarios = [\"EOM\" , \"CM40000\", \"CM60000\",\"CM60000noRES\", \"CM60000_DSR150\"]\n",
    "# scenarioname = \"NL_CMarketnewData2\"\n",
    "# selected_scenarios = [\"EOM\" , \"CM60000\",\"CM60000noRES\"]\n",
    "# selected_scenarios = [\"EOM\",\"SR_M10_P1600\", \"SR_M15_P1600\" , \"SR_M20_P1600\"]\n",
    "# scenarioname = \"NL_SRnewData\"\n",
    "# selected_scenarios = [\"EOM\" , \"CM40000\", \"CM60000\",\"CM60000noRES\"]\n",
    "# scenarioname = \"NL_CMarketnewData\"\n",
    "# selected_scenarios = [\"newEOM\" ,\"CMnewexpectationFuture\"]\n",
    "# scenarioname = \"NL_CM_newexpectationFuture\"\n",
    "# scenarioname =\"NL_S1\"\n",
    "# selected_scenarios = [\"EOM\", \"EOM_S1\",\"CM60000_S1\", \"SR1600_S1\"]\n",
    "# selected_scenarios = [\"EOM_lessNuc\",\"SRM10\" ,  \"SRM15\", \"SRM20\"]\n",
    "# SCENARIOS = [ \"NL-SRM10-lessNuc\",  \"NL-SR1600M10NONUCLEAR-lessNuc\"]\n",
    "# scenarioname = \"NL_interest_comparison\"\n",
    "# selected_scenarios = [\"oldinterests\",\"annnuity\", \"noannuity\", \"higherrates\", \"EOM_moreDSR\"]\n",
    "# scenarioname = \"NL_lifeextension_comparison\"\n",
    "# selected_scenarios = [\"EOM_nolifetimeextension\",\"EOM_lifetimeextension\"]\n",
    "# scenarioname = \"NL_Capacity_markets\"\n",
    "# selected_scenarios = [\"EOM\",\"CM_bidding_pendingloans\", \"CM_noVRES\", \"LTCM_nodownpayments\", \"CM\"]\n",
    "# scenarioname = \"final\"\n",
    "# selected_scenarios = [\"EOM\",\"CM\", \"LTCM\", \"CS_fix\", \"CS\",  \"SR\"]\n",
    "\n",
    "# scenarioname = \"ComparisonDSR\"\n",
    "# selected_scenarios = [\"EOM\",\"EOM_noDSR\"]\n",
    "\n",
    "# scenarioname = \"ComparisonSR\"\n",
    "# selected_scenarios = [\"EOM\",\"SR1300\", \"SR1500\", \"SR4000\"]\n",
    "\n",
    "# scenarioname = \"comparisonfinal2\"\n",
    "# selected_scenarios = [\"EOM\",\"CM\", \"LTCM\", \"CS_fix\", \"CS\",  \"SRy\"]\n",
    "# scenarioname = \"comparisonSRyears\"\n",
    "# selected_scenarios = [\"EOM\", \"SR1300\",  \"SRy_4\"] \n",
    "# scenarioname = \"comparisonCM_VRES\"\n",
    "# selected_scenarios = [\"CM\", \"CM_noVRES\"] \n",
    "# scenarioname = \"comparisonSR4\"\n",
    "# selected_scenarios = [\"EOM\", \"SR143_15\", \"SR1390_15\",  \"SR1390_20\", \"SR1499_15\"]\n",
    "# scenarioname = \"comparison_CM_wlowervolume\"\n",
    "# selected_scenarios = [\"EOM\", \"CM_lowerTV\", \"CM\", \"LTCM_novres\"]\n",
    "# scenarioname = \"comparison_SR_new\"\n",
    "# selected_scenarios = [\"SR1390_15\", \"SR_1390_15_new\"]\n",
    "# scenarioname = \"comparisonCM6\"\n",
    "# selected_scenarios = [\"EOM\", \"CM_20GW\", \"CM_VRES_27GW\" ,\"CM_VRES_25GW\", \"CM_VRES_25GW_RO\", \"CM_VRES_20GW\" ] \n",
    "# scenarioname = \"comparisonCS5\" \n",
    "# selected_scenarios = [\"EOM\",\"CS_3iner_highWTP\", \"CS_3iner_lowWTP\", \"CS_3iner_lowWTP_9000\" ,\"CS_3iner_lowWTP_9000_noDSR\" ]\n",
    "# scenarioname = \"comparisonCS8\" \n",
    "# selected_scenarios = [\"EOM\",\"CS\", \"CS_noMinPrice\", \"CS_nomemory\", \"CS_RO\"]\n",
    "# scenarioname = \"comparisonCM_yearsAhead\" \n",
    "# selected_scenarios = [\"CM\", \"CM_y_1\"]\n",
    "# scenarioname = \"comparisonCM4\"\n",
    "# selected_scenarios = [\"EOM\", \"CM_ES_VRES\", \"CM_ES\",\"CM\",\"CM_lowVol\",\"LTCM_ES_VRES\",\"LTCM\"]  \n",
    "# scenarioname = \"comparisonCS2\"\n",
    "# selected_scenarios = [\"CS_fixprice_nochangeVol\", \"CS_fixprice_changeVol\" , \"CS_changeprice_nochangeVol\", \"CS_changeprice_changeVol\"]\n",
    "# scenarioname = \"comparisonALL\"\n",
    "# selected_scenarios = [\"EOM\", \"CM\", \"CS_fixprice_changeVol\",\"SR143_15\"]\n",
    "# scenarioname = \"comparisonCS3\"\n",
    "# selected_scenarios = [\"EOM\", \"CS_fixprice_changeVol\" ,\"CS_fixprice_changeVol_linear\", \"CS_changeprice_nochangeVol\", \"CS_changeprice_changeVol\"]\n",
    "# scenarioname = \"comparisonCS4\"\n",
    "# selected_scenarios = [ \"EOM\", \"CS_fixprice_changeVol\", \"CS_fixprice_changeVol_linear\", \"CS_changeprice_nochangeVol\", \"CS_changeprice_changeVol\", \"CS_no_inertia\"]\n",
    "\n",
    "# scenarioname = \"comparisonSR_5\"\n",
    "# selected_scenarios = [\"SR1390_15\",\"SR_distributed_plants\", \"SR_distr_plants_acceptnewer\"]\n",
    "# scenarioname = \"comparisonCM2004\"\n",
    "# selected_scenarios = [\"FCMdistr2004\",\"CM_distr2004\"]\n",
    "# scenarioname = \"comparisonCM7\" \n",
    "# selected_scenarios = [\"EOM\",\"CM\", \"CM_BESS_VRE\", \"LTCM\"]\n",
    "# scenarioname = \"comparisonFinal2\" \n",
    "# selected_scenarios = [\"EOM\", \"CM\", \"CS\",\"SR_4000_15\"]\n",
    "# scenarioname = \"comparisonEOM_BESS\" \n",
    "# selected_scenarios = [\"EOM_wrongBESS\" , \"EOM\" ]\n",
    "# scenarioname = \"comparisonSR_noDSR\" \n",
    "# selected_scenarios = [\"EOM\", \"SR_4000_15\", \"SR_noDSR\"]\n",
    "\n",
    "scenarioname = \"comparisonCM_with24GW_2endogen\" \n",
    "selected_scenarios = [\"EOM\", \"CM\", \"CM_RO\", \"CM_VRES_BESS\", \"CM_endogen\"]\n",
    "\n",
    "# scenarioname = \"comparisonCM8\" \n",
    "# selected_scenarios = [\"EOM\", \"CM\",\"CM_VRES_BESS\", \"CM_endogen\" ]\n",
    "\n",
    "# scenarioname = \"comparisonCS9\" \n",
    "# selected_scenarios = [\"EOM\", \"CS\", \"CS_RO\",\"CS_noMinPrice\", \"CS_noMemory\"  ]\n",
    "# scenarioname = \"comparisonfinal3\" \n",
    "# selected_scenarios = [\"EOM\", \"CM\", \"CS\" ,\"SR\" ]\n",
    "\n",
    "# scenarioname = \"comparisonNoDSR\" \n",
    "# selected_scenarios = [\"EOM_1percentDR\", \"SR_1percentDR\" ]\n",
    "# scenarioname = \"final3-EOM_weathereffect\" \n",
    "# selected_scenarios = [\"EOM\", \"EOM_2004\"]\n",
    "# scenarioname = \"comparisonCS9-noConsumersMemory\" \n",
    "# selected_scenarios = [\"EOM\", \"CS\", \"CS_RO\", \"CS_noMinPrice\", \"CS_noMemory\", \"CS_noMemoryConsumers\" ]\n",
    "\n",
    "# scenarioname = \"comparisonSR_CM_vres_es\"\n",
    "# # selected_scenarios = [\"CM_ES_VRES\",\"CM_ES_VRES_ungroupedplants\", \"CM_ES_VRES_ungrouped_distributedplants\"]\n",
    "# scenarioname = \"comparisonEOMflexibility\"\n",
    "# selected_scenarios = [\"EOM\" ,\"EOM_inflexibleelectrolyzer\",\"EOM_halfelectrolyzers\",\"EOM_halfFlexIndustry\"]\n",
    "# scenarioname = \"comparisonCM_ROandhighTV\" \n",
    "# selected_scenarios = [\"EOM\", \"CM\",\"CM_RO\", \"CM_VRES_BESS\",\"CM_endogen\"]\n",
    "\n",
    "# scenarioname = \"comparisonCM_with24GW\" # FINAL3 \n",
    "# selected_scenarios = [\"EOM\", \"CM\", \"CM_VRES_BESS\", \"CM_VRES_BESS_lowTV\", \"CM_endogen_lowTV\"]\n",
    "# scenarioname = \"comparisonSR_margin10\" \n",
    "# selected_scenarios = [\"EOM\", \"SR\", \"SR_noDSR\" ]\n",
    "\n",
    "# scenarioname = \"final3-SR_margins\" \n",
    "# selected_scenarios = [\"EOM\", \"SR_margin7\",\"SR_margin10\",\"SR_margin15\" ]\n",
    "\n",
    "# scenarioname = \"comparisonfinal3\" \n",
    "# selected_scenarios = [\"EOM\", \"CM\", \"CS\" ,\"SR\" ]\n",
    "\n",
    "# scenarioname = \"LH_HH\" \n",
    "# selected_scenarios = [\"EOM_LH\", \"EOM_HH\",\"CM_LH\", \"CM_HH\",\"SR_LH\",\"SR_HH\",\"CS_LH\", \"CS_HH\" ]\n",
    "\n",
    "# scenarioname = \"finalHH\" \n",
    "# selected_scenarios = [\"EOM_HH\", \"CM_HH\",\"SR_HH\", \"CS_HH\" ]\n",
    "\n",
    "\n",
    "name = \"CM\"\n",
    "CRM_scenarios = selected_scenarios\n",
    "SIMULATION_YEARS = True"
   ]
  },
  {
   "cell_type": "code",
   "execution_count": 43,
   "id": "mysterious-secondary",
   "metadata": {
    "ExecuteTime": {
     "end_time": "2024-03-18T13:32:07.727003100Z",
     "start_time": "2024-03-18T13:32:07.699003600Z"
    }
   },
   "outputs": [],
   "source": [
    "path_to_results = os.path.join(os.getcwd(), \"Scenarios\", (scenarioname + \".xlsx\"))\n",
    "path_to_plots = os.path.join(os.getcwd(),  \"Scenarios\", \"Comparison_\"+ scenarioname )\n",
    "if not os.path.exists(path_to_plots):\n",
    "    os.mkdir(path_to_plots)"
   ]
  },
  {
   "cell_type": "code",
   "execution_count": 44,
   "id": "reserved-train",
   "metadata": {
    "ExecuteTime": {
     "end_time": "2024-03-18T13:32:08.021247400Z",
     "start_time": "2024-03-18T13:32:07.998276Z"
    }
   },
   "outputs": [],
   "source": [
    "technology_colors = {\n",
    "    'Biomass_CHP_wood_pellets_DH': \"green\",\n",
    "    'Biofuel': \"green\",\n",
    "    \"Biomass_CHP_wood_pellets_PH\": \"greenyellow\",\n",
    "    'Coal PSC': \"black\",\n",
    "    \"Fuel oil PGT\": \"gray\",\n",
    "    'Lignite PSC': \"darkgoldenrod\",\n",
    "    'CCGT': \"indianred\",\n",
    "    'OCGT': \"gray\",\n",
    "    'PV_utility_systems': \"gold\",\n",
    "    \"Solar PV large\": \"gold\",\n",
    "    \"Solar CSP\": \"gold\",\n",
    "    'PV': \"gold\",\n",
    "    'PV_residential': \"khaki\",\n",
    "    'Solar PV rooftop': \"khaki\",\n",
    "    'WTG_onshore': \"cornflowerblue\",\n",
    "    'Wind Onshore': \"cornflowerblue\",\n",
    "    \"WTG_offshore\": \"navy\",\n",
    "    \"Wind Offshore\": \"navy\",\n",
    "    \"Nuclear\": \"mediumorchid\",\n",
    "    \"Hydropower_ROR\": \"aquamarine\",\n",
    "    'Hydropower_reservoir_medium': \"darkcyan\",\n",
    "    \"Hydropower\": \"darkcyan\",\n",
    "    \"Lithium ion battery 4\": \"pink\",\n",
    "    \"Lithium ion battery\": \"hotpink\",\n",
    "    \"Lithium_ion_battery_charge\": \"hotpink\",\n",
    "    \"Pumped_hydro\": \"darkcyan\",\n",
    "    \"Pumped hydro\": \"darkcyan\",\n",
    "    \"CCGT_CHP_backpressure_DH\": \"orange\",\n",
    "    \"CCGT_CHP_backpressure_PH\": \"orange\",\n",
    "    \"CCS\": \"orange\",\n",
    "    \"fuel_cell\": \"gold\",\n",
    "    \"electrolyzer\": \"gray\",\n",
    "    \"hydrogen turbine\": \"darkred\",\n",
    "    \"hydrogen CCGT\": \"darkred\",\n",
    "    \"hydrogen OCGT\": \"indianred\",\n",
    "    \"hydrogen combined cycle\": \"coral\"\n",
    "}\n",
    "others = {\n",
    "    'Biomass_CHP_wood_pellets_PH': \"greenyellow\",\n",
    "    'Coal PSC': \"black\",\n",
    "    \"Fuel oil PGT\": \"gray\",\n",
    "    'Lignite PSC': \"darkgoldenrod\",\n",
    "    'CCGT': \"indianred\",\n",
    "    'OCGT': \"darkred\",\n",
    "    \"Pumped_hydro\": \"darkcyan\",\n",
    "    \"CCGT_CHP_backpressure_DH\": \"orange\",\n",
    "    \"Nuclear\": \"mediumorchid\",\n",
    "    \"Hydropower_ROR\": \"aquamarine\"\n",
    "}\n",
    "technology_names = {\n",
    "    'Biomass_CHP_wood_pellets_DH': \"Biomass\",\n",
    "    \"Biomass_CHP_wood_pellets_PH\": \"Biomass\",\n",
    "    'Hydropower_reservoir_medium': \"Hydro\",\n",
    "    'PV_utility_systems': \"PV utility systems\",\n",
    "    'PV_residential': \"PV residential\",\n",
    "    'WTG_onshore': \"Wind onshore\",\n",
    "    \"WTG_offshore\": \"Wind offhore\",\n",
    "    \"Lithium_ion_battery\": \"Lithium battery\",\n",
    "    \"Lithium_ion_battery_charge\": \"Lithium battery charge\",\n",
    "    \"Pumped_hydro\": \"Pumped hydro\",\n",
    "    \"CCGT_CHP_backpressure_DH\": \"CCGT CHP\",\n",
    "    \"hydrogen_turbine\": \"H2 turbine\",\n",
    "}"
   ]
  },
  {
   "cell_type": "code",
   "execution_count": 45,
   "id": "requested-royal",
   "metadata": {
    "ExecuteTime": {
     "end_time": "2024-03-18T13:33:11.958697900Z",
     "start_time": "2024-03-18T13:33:11.481003600Z"
    }
   },
   "outputs": [
    {
     "ename": "FileNotFoundError",
     "evalue": "[Errno 2] No such file or directory: 'C:\\\\toolbox-amiris-emlab\\\\emlabpy\\\\plots\\\\Scenarios\\\\comparisonCM_with24GW_2endogen.xlsx'",
     "output_type": "error",
     "traceback": [
      "\u001b[1;31m---------------------------------------------------------------------------\u001b[0m",
      "\u001b[1;31mFileNotFoundError\u001b[0m                         Traceback (most recent call last)",
      "Cell \u001b[1;32mIn[45], line 1\u001b[0m\n\u001b[1;32m----> 1\u001b[0m CostRecovery_data \u001b[38;5;241m=\u001b[39m pd\u001b[38;5;241m.\u001b[39mread_excel(path_to_results, sheet_name\u001b[38;5;241m=\u001b[39m\u001b[38;5;124m'\u001b[39m\u001b[38;5;124mCostRecovery\u001b[39m\u001b[38;5;124m'\u001b[39m, index_col\u001b[38;5;241m=\u001b[39m\u001b[38;5;241m0\u001b[39m)\n\u001b[0;32m      2\u001b[0m LOL_data \u001b[38;5;241m=\u001b[39m pd\u001b[38;5;241m.\u001b[39mread_excel(path_to_results, sheet_name\u001b[38;5;241m=\u001b[39m\u001b[38;5;124m'\u001b[39m\u001b[38;5;124mLOL\u001b[39m\u001b[38;5;124m'\u001b[39m, index_col\u001b[38;5;241m=\u001b[39m\u001b[38;5;241m0\u001b[39m)\n\u001b[0;32m      3\u001b[0m ENS_data \u001b[38;5;241m=\u001b[39m pd\u001b[38;5;241m.\u001b[39mread_excel(path_to_results, sheet_name\u001b[38;5;241m=\u001b[39m\u001b[38;5;124m'\u001b[39m\u001b[38;5;124mENS\u001b[39m\u001b[38;5;124m'\u001b[39m, index_col\u001b[38;5;241m=\u001b[39m\u001b[38;5;241m0\u001b[39m)\n",
      "File \u001b[1;32m~\\AppData\\Local\\anaconda3\\Lib\\site-packages\\pandas\\io\\excel\\_base.py:478\u001b[0m, in \u001b[0;36mread_excel\u001b[1;34m(io, sheet_name, header, names, index_col, usecols, dtype, engine, converters, true_values, false_values, skiprows, nrows, na_values, keep_default_na, na_filter, verbose, parse_dates, date_parser, date_format, thousands, decimal, comment, skipfooter, storage_options, dtype_backend)\u001b[0m\n\u001b[0;32m    476\u001b[0m \u001b[38;5;28;01mif\u001b[39;00m \u001b[38;5;129;01mnot\u001b[39;00m \u001b[38;5;28misinstance\u001b[39m(io, ExcelFile):\n\u001b[0;32m    477\u001b[0m     should_close \u001b[38;5;241m=\u001b[39m \u001b[38;5;28;01mTrue\u001b[39;00m\n\u001b[1;32m--> 478\u001b[0m     io \u001b[38;5;241m=\u001b[39m ExcelFile(io, storage_options\u001b[38;5;241m=\u001b[39mstorage_options, engine\u001b[38;5;241m=\u001b[39mengine)\n\u001b[0;32m    479\u001b[0m \u001b[38;5;28;01melif\u001b[39;00m engine \u001b[38;5;129;01mand\u001b[39;00m engine \u001b[38;5;241m!=\u001b[39m io\u001b[38;5;241m.\u001b[39mengine:\n\u001b[0;32m    480\u001b[0m     \u001b[38;5;28;01mraise\u001b[39;00m \u001b[38;5;167;01mValueError\u001b[39;00m(\n\u001b[0;32m    481\u001b[0m         \u001b[38;5;124m\"\u001b[39m\u001b[38;5;124mEngine should not be specified when passing \u001b[39m\u001b[38;5;124m\"\u001b[39m\n\u001b[0;32m    482\u001b[0m         \u001b[38;5;124m\"\u001b[39m\u001b[38;5;124man ExcelFile - ExcelFile already has the engine set\u001b[39m\u001b[38;5;124m\"\u001b[39m\n\u001b[0;32m    483\u001b[0m     )\n",
      "File \u001b[1;32m~\\AppData\\Local\\anaconda3\\Lib\\site-packages\\pandas\\io\\excel\\_base.py:1496\u001b[0m, in \u001b[0;36mExcelFile.__init__\u001b[1;34m(self, path_or_buffer, engine, storage_options)\u001b[0m\n\u001b[0;32m   1494\u001b[0m     ext \u001b[38;5;241m=\u001b[39m \u001b[38;5;124m\"\u001b[39m\u001b[38;5;124mxls\u001b[39m\u001b[38;5;124m\"\u001b[39m\n\u001b[0;32m   1495\u001b[0m \u001b[38;5;28;01melse\u001b[39;00m:\n\u001b[1;32m-> 1496\u001b[0m     ext \u001b[38;5;241m=\u001b[39m inspect_excel_format(\n\u001b[0;32m   1497\u001b[0m         content_or_path\u001b[38;5;241m=\u001b[39mpath_or_buffer, storage_options\u001b[38;5;241m=\u001b[39mstorage_options\n\u001b[0;32m   1498\u001b[0m     )\n\u001b[0;32m   1499\u001b[0m     \u001b[38;5;28;01mif\u001b[39;00m ext \u001b[38;5;129;01mis\u001b[39;00m \u001b[38;5;28;01mNone\u001b[39;00m:\n\u001b[0;32m   1500\u001b[0m         \u001b[38;5;28;01mraise\u001b[39;00m \u001b[38;5;167;01mValueError\u001b[39;00m(\n\u001b[0;32m   1501\u001b[0m             \u001b[38;5;124m\"\u001b[39m\u001b[38;5;124mExcel file format cannot be determined, you must specify \u001b[39m\u001b[38;5;124m\"\u001b[39m\n\u001b[0;32m   1502\u001b[0m             \u001b[38;5;124m\"\u001b[39m\u001b[38;5;124man engine manually.\u001b[39m\u001b[38;5;124m\"\u001b[39m\n\u001b[0;32m   1503\u001b[0m         )\n",
      "File \u001b[1;32m~\\AppData\\Local\\anaconda3\\Lib\\site-packages\\pandas\\io\\excel\\_base.py:1371\u001b[0m, in \u001b[0;36minspect_excel_format\u001b[1;34m(content_or_path, storage_options)\u001b[0m\n\u001b[0;32m   1368\u001b[0m \u001b[38;5;28;01mif\u001b[39;00m \u001b[38;5;28misinstance\u001b[39m(content_or_path, \u001b[38;5;28mbytes\u001b[39m):\n\u001b[0;32m   1369\u001b[0m     content_or_path \u001b[38;5;241m=\u001b[39m BytesIO(content_or_path)\n\u001b[1;32m-> 1371\u001b[0m \u001b[38;5;28;01mwith\u001b[39;00m get_handle(\n\u001b[0;32m   1372\u001b[0m     content_or_path, \u001b[38;5;124m\"\u001b[39m\u001b[38;5;124mrb\u001b[39m\u001b[38;5;124m\"\u001b[39m, storage_options\u001b[38;5;241m=\u001b[39mstorage_options, is_text\u001b[38;5;241m=\u001b[39m\u001b[38;5;28;01mFalse\u001b[39;00m\n\u001b[0;32m   1373\u001b[0m ) \u001b[38;5;28;01mas\u001b[39;00m handle:\n\u001b[0;32m   1374\u001b[0m     stream \u001b[38;5;241m=\u001b[39m handle\u001b[38;5;241m.\u001b[39mhandle\n\u001b[0;32m   1375\u001b[0m     stream\u001b[38;5;241m.\u001b[39mseek(\u001b[38;5;241m0\u001b[39m)\n",
      "File \u001b[1;32m~\\AppData\\Local\\anaconda3\\Lib\\site-packages\\pandas\\io\\common.py:868\u001b[0m, in \u001b[0;36mget_handle\u001b[1;34m(path_or_buf, mode, encoding, compression, memory_map, is_text, errors, storage_options)\u001b[0m\n\u001b[0;32m    859\u001b[0m         handle \u001b[38;5;241m=\u001b[39m \u001b[38;5;28mopen\u001b[39m(\n\u001b[0;32m    860\u001b[0m             handle,\n\u001b[0;32m    861\u001b[0m             ioargs\u001b[38;5;241m.\u001b[39mmode,\n\u001b[1;32m   (...)\u001b[0m\n\u001b[0;32m    864\u001b[0m             newline\u001b[38;5;241m=\u001b[39m\u001b[38;5;124m\"\u001b[39m\u001b[38;5;124m\"\u001b[39m,\n\u001b[0;32m    865\u001b[0m         )\n\u001b[0;32m    866\u001b[0m     \u001b[38;5;28;01melse\u001b[39;00m:\n\u001b[0;32m    867\u001b[0m         \u001b[38;5;66;03m# Binary mode\u001b[39;00m\n\u001b[1;32m--> 868\u001b[0m         handle \u001b[38;5;241m=\u001b[39m \u001b[38;5;28mopen\u001b[39m(handle, ioargs\u001b[38;5;241m.\u001b[39mmode)\n\u001b[0;32m    869\u001b[0m     handles\u001b[38;5;241m.\u001b[39mappend(handle)\n\u001b[0;32m    871\u001b[0m \u001b[38;5;66;03m# Convert BytesIO or file objects passed with an encoding\u001b[39;00m\n",
      "\u001b[1;31mFileNotFoundError\u001b[0m: [Errno 2] No such file or directory: 'C:\\\\toolbox-amiris-emlab\\\\emlabpy\\\\plots\\\\Scenarios\\\\comparisonCM_with24GW_2endogen.xlsx'"
     ]
    }
   ],
   "source": [
    "CostRecovery_data = pd.read_excel(path_to_results, sheet_name='CostRecovery', index_col=0)\n",
    "LOL_data = pd.read_excel(path_to_results, sheet_name='LOL', index_col=0)\n",
    "ENS_data = pd.read_excel(path_to_results, sheet_name='ENS', index_col=0)\n",
    "SupplyRatio_data = pd.read_excel(path_to_results, sheet_name='SupplyRatio', index_col=0)\n",
    "ElectricityPrices_data = pd.read_excel(path_to_results, sheet_name='ElectricityPrices', index_col=0)\n",
    "Monthly_ElectricityPrices_data = pd.read_excel(path_to_results, sheet_name='MonthlyElectricityPrices', index_col=0)\n",
    "ShareRES_data = pd.read_excel(path_to_results, sheet_name='ShareRES', index_col=0)\n",
    "Last_year_capacity_data = pd.read_excel(path_to_results, sheet_name='last_year_capacity', index_col=0)\n",
    "InstalledCapacity_data = pd.read_excel(path_to_results, sheet_name='InstalledCapacity', index_col=0)\n",
    "Info_data = pd.read_excel(path_to_results, sheet_name='Info', index_col=0)\n",
    "Last_year_prices_data = pd.read_excel(path_to_results, sheet_name='Last_year_pdc', index_col=0)\n",
    "Invested_capacity_data = pd.read_excel(path_to_results, sheet_name='Invested', index_col=0)\n",
    "Dismantled_capacity_data = pd.read_excel(path_to_results, sheet_name='Dismantled', index_col=0)\n",
    "H2Production_data = pd.read_excel(path_to_results, sheet_name='H2Production', index_col=0)\n",
    "IndustrialHeat_data = pd.read_excel(path_to_results, sheet_name='IndustrialHeat', index_col=0)\n",
    "\n",
    "AverageNPVpertechnology = pd.read_excel(path_to_results, sheet_name='AverageNPVpertechnology',  header=[0,1], index_col=0)\n",
    "AverageProfitswLoans = pd.read_excel(path_to_results, sheet_name='Profits',  header=[0,1], index_col=0)\n",
    "lifetimeExtension = pd.read_excel(path_to_results, sheet_name='lifeextension',   index_col=0)\n",
    "median_annual_production = pd.read_excel(path_to_results, sheet_name='median_annual_production',   index_col=0)\n",
    "capacities_per_tech = pd.read_excel(path_to_results, sheet_name='capacities',   header=[0,1], index_col=0)\n"
   ]
  },
  {
   "cell_type": "code",
   "execution_count": null,
   "id": "fef3f063",
   "metadata": {},
   "outputs": [],
   "source": [
    "default_colors = plt.rcParams['axes.prop_cycle'].by_key()['color']"
   ]
  },
  {
   "cell_type": "code",
   "execution_count": null,
   "id": "822ef657",
   "metadata": {},
   "outputs": [],
   "source": [
    "LOLvoluntary = pd.read_excel(path_to_results, sheet_name='LOLvoluntary', index_col=0)\n",
    "subscribed_consumers_data = pd.read_excel(path_to_results, sheet_name='subscribedCons', index_col=0)"
   ]
  },
  {
   "cell_type": "code",
   "execution_count": null,
   "id": "68f917fc",
   "metadata": {},
   "outputs": [],
   "source": [
    "# AverageNPVpertechnology.drop(list(range(1,20)), inplace=True)\n",
    "# AverageProfitswLoans.drop(list(range(1,20)), inplace=True)\n",
    "# CostRecovery_data.drop(list(range(2050,2070)), inplace=True)\n",
    "# LOL_data.drop(list(range(2050,2070)), inplace=True)\n",
    "# ENS_data.drop(list(range(2050,2070)), inplace=True)\n",
    "# ElectricityPrices_data.drop(list(range(2050,2070)), inplace=True)\n",
    "# Monthly_ElectricityPrices_data.drop(list(range(0,12*19)), inplace=True)"
   ]
  },
  {
   "cell_type": "code",
   "execution_count": null,
   "id": "difficult-moisture",
   "metadata": {
    "ExecuteTime": {
     "end_time": "2024-03-18T13:32:10.280317200Z",
     "start_time": "2024-03-18T13:32:10.227302500Z"
    }
   },
   "outputs": [],
   "source": [
    "NPVNewPlants_data = pd.read_excel(path_to_results, sheet_name='overallNPV', index_col=0)\n",
    "IRRNewPlants_data = pd.read_excel(path_to_results, sheet_name='overallIRR', index_col=0)"
   ]
  },
  {
   "cell_type": "markdown",
   "id": "e9cbf77185903db6",
   "metadata": {},
   "source": []
  },
  {
   "cell_type": "markdown",
   "id": "6f43d07a1c6b0bef",
   "metadata": {},
   "source": []
  },
  {
   "cell_type": "code",
   "execution_count": null,
   "id": "celtic-colony",
   "metadata": {
    "ExecuteTime": {
     "end_time": "2024-03-18T11:54:16.615788Z",
     "start_time": "2024-03-18T11:54:16.493776Z"
    }
   },
   "outputs": [],
   "source": [
    "InstalledCapacity_data.drop([2046, 2047,2048,2049, 2050, 2093], inplace=True)\n",
    "# InstalledCapacity_data.drop([-4, -3,-2,-1, 0, 40, 41,42,43], inplace=True)"
   ]
  },
  {
   "cell_type": "code",
   "execution_count": null,
   "id": "increasing-garlic",
   "metadata": {
    "ExecuteTime": {
     "end_time": "2024-03-18T11:54:16.615788Z",
     "start_time": "2024-03-18T11:54:16.510777900Z"
    }
   },
   "outputs": [],
   "source": [
    "# axs1 = sns.lineplot(data=Coststosociety_data, palette=\"tab10\", linewidth=2.5)\n",
    "# plt.grid()\n",
    "# sns.set_style(\"whitegrid\")\n",
    "# plt.grid()\n",
    "# plt.xlabel('Years', fontsize='medium')\n",
    "# plt.ylabel('Eur', fontsize='medium')\n",
    "# plt.legend(fontsize='medium', loc='upper left', bbox_to_anchor=(1, 1.1))\n",
    "# axs1.set_title('Costs to Society')\n",
    "# fig1 = axs1.get_figure()\n",
    "# fig1.savefig(path_to_plots + '/' + 'Costs to Society.png', bbox_inches='tight', dpi=300)\n",
    "\n",
    "# fig, (ax1, ax2) = plt.subplots(nrows=2, ncols=1)\n",
    "# ax1.plot(Coststosociety_data)\n",
    "# #ax1 = sns.lineplot(data=LOL_data, palette=\"tab10\", linewidth=2.5)\n",
    "# plt.ylabel('Costs to Society (EUR/MWh)', fontsize='large')\n",
    "# plt.ylim([50, 80])\n",
    "# ax1.legend(Coststosociety_data.columns.values, bbox_to_anchor=(1, 1.2), fontsize='large')\n",
    "# ax2.plot(Coststosociety_data)\n",
    "# #ax2 = sns.lineplot(data=LOL_data, palette=\"tab10\", linewidth=2.5)\n",
    "# plt.xlabel('Years', fontsize='large')\n",
    "# fig.savefig(path_to_plots + '/' + 'Costs to Society.png', bbox_inches='tight', dpi=300)"
   ]
  },
  {
   "cell_type": "code",
   "execution_count": null,
   "id": "9bbc6bc8195599d7",
   "metadata": {
    "ExecuteTime": {
     "end_time": "2024-03-18T11:54:16.807677Z",
     "start_time": "2024-03-18T11:54:16.529780200Z"
    }
   },
   "outputs": [],
   "source": [
    "sorted_prices = Last_year_prices_data.apply(lambda x: x.sort_values(ascending=False).values)\n",
    "axs2 = sorted_prices.loc[0:200].plot(color = default_colors)\n",
    "plt.xlabel('hours', fontsize='large')\n",
    "plt.ylabel('prices (Eur/MWh)', fontsize='large')\n",
    "axs2.set_title('Price duration curve in median weather year')\n",
    "fig2 = axs2.get_figure()\n",
    "fig2.savefig(path_to_plots + '/' + 'Price_duration_curve.png', bbox_inches='tight', dpi=300)"
   ]
  },
  {
   "cell_type": "code",
   "execution_count": null,
   "id": "protective-study",
   "metadata": {
    "ExecuteTime": {
     "end_time": "2024-03-18T11:54:16.863804800Z",
     "start_time": "2024-03-18T11:54:16.809677300Z"
    }
   },
   "outputs": [],
   "source": [
    "Dismantled_capacity_data *= -1"
   ]
  },
  {
   "cell_type": "code",
   "execution_count": null,
   "id": "premium-grenada",
   "metadata": {
    "ExecuteTime": {
     "end_time": "2024-03-18T13:34:43.450927500Z",
     "start_time": "2024-03-18T13:34:43.169572400Z"
    },
    "scrolled": true
   },
   "outputs": [],
   "source": [
    "Dismantled_capacity_data.drop([2046, 2047,2048,2049,2050], inplace = True)\n",
    "Invested_capacity_data.drop([2046, 2047,2048,2049,2050], inplace = True)\n",
    "\n",
    "# Dismantled_capacity_data.drop([-4, -3,-2,-1, 0], inplace = True)\n",
    "# Invested_capacity_data.drop([-4, -3,-2,-1, 0], inplace = True)\n",
    "\n",
    "axs2 = sns.lineplot(data=Dismantled_capacity_data, palette=\"tab10\", linewidth=2.5)\n",
    "axs2 = sns.lineplot(data=Invested_capacity_data, palette=\"tab10\", linewidth=2.5, legend = None) \n",
    "#sns.lineplot(data=Invested_capacity_data,palette=\"tab10\", linewidth=2.5,    ax=axs2, legend = None)\n",
    "plt.grid()\n",
    "sns.set_style(\"whitegrid\")\n",
    "plt.grid()\n",
    "plt.xlabel('Years', fontsize='large')\n",
    "plt.ylabel('Capacity', fontsize='large')\n",
    "plt.legend(fontsize='large',  bbox_to_anchor=(1, 1.1))\n",
    "axs2.set_title('Installed/Decommissioned')\n",
    "fig2 = axs2.get_figure()\n",
    "fig2.savefig(path_to_plots + '/' + 'Invested_Dismantled_ Capacity.png', bbox_inches='tight', dpi=300)"
   ]
  },
  {
   "cell_type": "code",
   "execution_count": null,
   "id": "burning-chile",
   "metadata": {
    "ExecuteTime": {
     "end_time": "2024-03-18T11:54:34.843265300Z",
     "start_time": "2024-03-18T11:54:34.780371600Z"
    }
   },
   "outputs": [],
   "source": [
    "melted = pd.melt(CostRecovery_data )"
   ]
  },
  {
   "cell_type": "code",
   "execution_count": null,
   "id": "suburban-still",
   "metadata": {
    "ExecuteTime": {
     "end_time": "2024-03-18T11:54:35.684704400Z",
     "start_time": "2024-03-18T11:54:35.470680500Z"
    }
   },
   "outputs": [],
   "source": [
    "axs33 = sns.catplot(data=melted, x=\"variable\", y=\"value\",  kind=\"box\")\n",
    "#plt.xlabel('Weather profiles sequence', fontsize='large')\n",
    "plt.xlabel('', fontsize='large')\n",
    "plt.ylabel('Cost recovery (%)', fontsize='large')\n",
    "plt.tight_layout()\n",
    "plt.xticks(rotation=20, ha='right')   \n",
    "#fig3 = axs33.get_figure()\n",
    "axs33.savefig(path_to_plots + '/' + 'Cost_Recovery_boxes '+ name  + '.png', bbox_inches='tight', dpi=300)"
   ]
  },
  {
   "cell_type": "code",
   "execution_count": null,
   "id": "eleven-vocabulary",
   "metadata": {
    "ExecuteTime": {
     "end_time": "2024-03-18T11:54:37.949684600Z",
     "start_time": "2024-03-18T11:54:37.698241600Z"
    }
   },
   "outputs": [],
   "source": [
    "#CostRecovery_data.drop([2050], inplace=True)\n",
    "axs3 = sns.lineplot(data=CostRecovery_data[CRM_scenarios], palette=\"tab10\", linewidth=2.5)\n",
    "plt.grid()\n",
    "sns.set_style(\"whitegrid\")\n",
    "plt.grid()\n",
    "plt.xlabel('Years', fontsize='large')\n",
    "plt.ylabel('Market-based Cost recovery (%)', fontsize='large')\n",
    "#plt.legend(fontsize='large',  bbox_to_anchor=(1, 1.1))\n",
    "#axs2.set_title('Market-based Cost recovery')\n",
    "fig3 = axs3.get_figure()\n",
    "fig3.savefig(path_to_plots + '/' + 'Cost_Recovery '+ name  + '.png', bbox_inches='tight', dpi=300)"
   ]
  },
  {
   "cell_type": "code",
   "execution_count": null,
   "id": "attempted-oxygen",
   "metadata": {
    "ExecuteTime": {
     "start_time": "2024-03-18T11:54:18.989938300Z"
    }
   },
   "outputs": [],
   "source": [
    "CostRecovery_data_substracted = CostRecovery_data.sub(CostRecovery_data['EOM'], axis=0)\n",
    "axs3 = sns.lineplot(data=CostRecovery_data_substracted, palette=\"tab10\", linewidth=2.5)\n",
    "plt.grid()\n",
    "sns.set_style(\"whitegrid\")\n",
    "plt.grid()\n",
    "plt.xlabel('Years', fontsize='large')\n",
    "plt.ylabel('Market-based Cost recovery (Eur)', fontsize='large')\n",
    "plt.legend(fontsize='large',  bbox_to_anchor=(1, 1.1))\n",
    "#axs2.set_title('Market-based Cost recovery')\n",
    "fig3 = axs3.get_figure()\n",
    "fig3.savefig(path_to_plots + '/' + 'Cost_Recovery_substracted.png', bbox_inches='tight', dpi=300)\n",
    "axs33 = sns.catplot(data=pd.melt(CostRecovery_data_substracted ), x=\"variable\", y=\"value\",  kind=\"box\")\n",
    "plt.xlabel('Weather profiles sequence', fontsize='large')\n",
    "plt.ylabel('Cost recovery - EOM (%)', fontsize='large')\n",
    "plt.tight_layout()\n",
    "plt.xticks(rotation=90, size = 15)   \n",
    "fig3 = axs3.get_figure()\n",
    "fig3.savefig(path_to_plots + '/' + 'Cost_Recovery_difference.png', bbox_inches='tight', dpi=300)"
   ]
  },
  {
   "cell_type": "code",
   "execution_count": null,
   "id": "derived-lighter",
   "metadata": {
    "ExecuteTime": {
     "end_time": "2024-03-18T11:55:00.099901900Z",
     "start_time": "2024-03-18T11:54:59.856833600Z"
    }
   },
   "outputs": [],
   "source": [
    "#LOL_data.drop([2050], inplace=True)\n",
    "# fig, axes = plt.subplots(nrows=2, ncols=1)\n",
    "# sns.set_style(\"whitegrid\")\n",
    "# sns.lineplot(data=LOL_data,palette=\"tab10\", linewidth=2.5,  ax=axes[0], legend = None)\n",
    "# plt.ylim([0, 25])\n",
    "# plt.ylabel('Hours', fontsize='large')\n",
    "\n",
    "# sns.lineplot(data=LOL_data,palette=\"tab10\", linewidth=2.5,    ax=axes[1], legend = None)\n",
    "# plt.ylim([0, 220])\n",
    "# #axes[1].legend(LOL_data.columns.values, fontsize='medium',  bbox_to_anchor=(1, 1.1))\n",
    "# plt.ylabel('Hours', fontsize='large')\n",
    "# axes[0].set_title('LOLE')\n",
    "# fig.savefig(path_to_plots + '/' + 'LOLE.png', bbox_inches='tight', dpi=300)\n",
    "\n",
    "fig, axes= plt.subplots(nrows=2, ncols=1)\n",
    "sns.lineplot(data=LOLvoluntary, palette=\"tab10\", linewidth=2.5, ax=axes[0], legend = True )\n",
    "axes[0].set_ylabel('LOL voluntary [h]',  fontsize='large')\n",
    "\n",
    "plt.grid()\n",
    "legend = axes[0].legend(loc='upper left',  bbox_to_anchor=(1, 1.1) ,  fontsize='large')\n",
    "axs6 = sns.lineplot(data=LOL_data, palette=\"tab10\", linewidth=2.5, ax=axes[1], legend = None )\n",
    "\n",
    "sns.set_style(\"whitegrid\")\n",
    "plt.grid()\n",
    "#plt.xlabel('Years', fontsize='large')\n",
    "plt.ylabel('LOL involuntary [h]', fontsize='large')\n",
    "\n",
    "fig6 = axs6.get_figure()\n",
    "fig6.savefig(path_to_plots + '/' + 'LOLEs'+name + '.png', bbox_inches='tight', dpi=300)"
   ]
  },
  {
   "cell_type": "code",
   "execution_count": null,
   "id": "thick-armenia",
   "metadata": {
    "ExecuteTime": {
     "end_time": "2024-03-18T11:55:04.797103900Z",
     "start_time": "2024-03-18T11:55:04.470474800Z"
    }
   },
   "outputs": [],
   "source": [
    "fig, axes= plt.subplots(nrows=2, ncols=1)\n",
    "sns.lineplot(data=ENS_data, palette=\"tab10\", linewidth=2.5, ax=axes[0])\n",
    "\n",
    "sns.move_legend(axes[0], \"upper left\", bbox_to_anchor=(1, 1))\n",
    "#plt.ylim([0, 25000])\n",
    "sns.lineplot(data=ENS_data, palette=\"tab10\", linewidth=2.5, ax=axes[1], legend=None)\n",
    "#plt.legend(fontsize='large',  bbox_to_anchor=(2, 1.1))\n",
    "plt.xlabel('Years', fontsize='large')\n",
    "plt.ylabel('ENS (MWh)', fontsize='large')\n",
    "axes[0].set_title('ENS')\n",
    "fig.savefig(path_to_plots + '/' + 'Energy not supplied'+ name  + '.png', bbox_inches='tight', dpi=300)"
   ]
  },
  {
   "cell_type": "code",
   "execution_count": null,
   "id": "acting-barrel",
   "metadata": {
    "ExecuteTime": {
     "end_time": "2024-03-18T11:55:06.340149900Z",
     "start_time": "2024-03-18T11:55:06.134128400Z"
    }
   },
   "outputs": [],
   "source": [
    "ENS_data_GWH = ENS_data/1000\n",
    "axs1 = sns.catplot( data=pd.melt(ENS_data_GWH), x=\"variable\", y=\"value\",  kind=\"box\")\n",
    "plt.xlabel('', fontsize='large')\n",
    "plt.ylabel('ENS [GWh]', fontsize='large')\n",
    "plt.tight_layout()\n",
    "plt.xticks(rotation=20, size = 15, ha='right')  \n",
    "axs1.savefig(path_to_plots + '/' + 'ENS_boxes'+ name  + '.png', bbox_inches='tight', dpi=300)"
   ]
  },
  {
   "cell_type": "code",
   "execution_count": null,
   "id": "competitive-switzerland",
   "metadata": {
    "ExecuteTime": {
     "end_time": "2024-03-18T11:55:07.818305500Z",
     "start_time": "2024-03-18T11:55:07.556277600Z"
    }
   },
   "outputs": [],
   "source": [
    "#CostRecovery_data.plot()\n",
    "#ElectricityPrices_data.drop([2050], inplace=True)\n",
    "axs6 = sns.lineplot(data=ElectricityPrices_data, palette=\"tab10\", linewidth=2.5)\n",
    "plt.grid()\n",
    "sns.set_style(\"whitegrid\")\n",
    "plt.grid()\n",
    "plt.xlabel('Years', fontsize='large')\n",
    "plt.ylabel('Electricity prices (Eur/MWh)', fontsize='large')\n",
    "plt.legend(fontsize='large',  bbox_to_anchor=(1, 1.1))\n",
    "#axs6.set_title('Electricity prices')\n",
    "fig6 = axs6.get_figure()\n",
    "fig6.savefig(path_to_plots + '/' + 'Electricity prices.png', bbox_inches='tight', dpi=300)"
   ]
  },
  {
   "cell_type": "code",
   "execution_count": null,
   "id": "other-monthly",
   "metadata": {
    "ExecuteTime": {
     "end_time": "2024-03-18T11:55:09.155986300Z",
     "start_time": "2024-03-18T11:55:08.939102200Z"
    }
   },
   "outputs": [],
   "source": [
    "axs1 = sns.catplot( data=pd.melt(ElectricityPrices_data), x=\"variable\", y=\"value\",  kind=\"box\")\n",
    "plt.xlabel('', fontsize='large')\n",
    "plt.ylabel('WAVG yearly Electricity Prices [Eur/MWh] ', fontsize='large')\n",
    "plt.tight_layout()\n",
    "plt.xticks(rotation=20, size = 15 ,  ha='right') \n",
    "axs1.savefig(path_to_plots + '/' + 'Electicity_prices_boxes'+ name  + '.png', bbox_inches='tight', dpi=300)"
   ]
  },
  {
   "cell_type": "code",
   "execution_count": null,
   "id": "deluxe-requirement",
   "metadata": {
    "ExecuteTime": {
     "end_time": "2024-03-18T11:55:10.930213300Z",
     "start_time": "2024-03-18T11:55:10.594011300Z"
    }
   },
   "outputs": [],
   "source": [
    "axs1 = sns.catplot( data=pd.melt(Monthly_ElectricityPrices_data), x=\"variable\", y=\"value\",  kind=\"box\")\n",
    "plt.xlabel('', fontsize='large')\n",
    "plt.ylabel('Monthly Electricity Prices [Eur/MWh]', fontsize='large')\n",
    "plt.tight_layout()\n",
    "plt.xticks(rotation=20, size = 15,  ha='right') \n",
    "axs1.savefig(path_to_plots + '/' + 'Monthly_Electicity_prices_boxes'+ name  + '.png', bbox_inches='tight', dpi=300)"
   ]
  },
  {
   "cell_type": "code",
   "execution_count": null,
   "id": "premium-transcription",
   "metadata": {
    "ExecuteTime": {
     "end_time": "2024-03-18T11:55:13.463257700Z",
     "start_time": "2024-03-18T11:55:13.141787200Z"
    }
   },
   "outputs": [],
   "source": [
    "months = list(range(1,13))*40\n",
    "mlted_monthly_prices = Monthly_ElectricityPrices_data[CRM_scenarios].copy()\n",
    "mlted_monthly_prices['group'] = months\n",
    "monthly_melted_electricity_prices = mlted_monthly_prices.melt(id_vars='group', var_name='Variable', value_name='Value')\n",
    "axs1 = sns.catplot( data=monthly_melted_electricity_prices, x=\"group\", y=\"Value\",  kind=\"box\")\n",
    "plt.xlabel('Months', fontsize='large')\n",
    "plt.ylabel('Monthly average electricity prices [Eur/MWh] ', fontsize='large')\n",
    "axs1.savefig(path_to_plots + '/' + 'Monthly_Electricity_prices.png', bbox_inches='tight', dpi=300)"
   ]
  },
  {
   "cell_type": "code",
   "execution_count": null,
   "id": "0919540a",
   "metadata": {},
   "outputs": [],
   "source": [
    "# test = Last_year_capacity_data[\"EOM_HH\"]  - Last_year_capacity_data[\"EOM_LH\"]"
   ]
  },
  {
   "cell_type": "code",
   "execution_count": null,
   "id": "isolated-premiere",
   "metadata": {
    "ExecuteTime": {
     "end_time": "2024-03-18T11:55:14.963836900Z",
     "start_time": "2024-03-18T11:55:14.768945200Z"
    }
   },
   "outputs": [],
   "source": [
    "cpacities = Last_year_capacity_data.T\n",
    "cpacities = cpacities/1000\n",
    "cpacities_nozeroes = cpacities[cpacities>0]\n",
    "cpacities_nozeroes.dropna(how='all', axis =1, inplace=True)\n",
    "cpacities_nozeroes.rename(columns=technology_names, inplace=True)\n",
    "colors = [technology_colors[tech] for tech in cpacities_nozeroes.columns.values]\n",
    "axs9 = cpacities_nozeroes.plot(kind='bar', stacked=True, color=colors, figsize = (3,4))\n",
    "sns.set_style(\"whitegrid\")\n",
    "axs9.set_xticklabels(cpacities_nozeroes.index.values, rotation = 30,  rotation_mode=\"anchor\", ha=\"right\")\n",
    "plt.ylabel('Installed Capacity (GW)', fontsize='large')\n",
    "plt.legend(fontsize='large', loc='upper left', bbox_to_anchor=(1, 0.9))\n",
    "fig9 = axs9.get_figure()\n",
    "fig9.savefig(path_to_plots + '/' + 'Last year capacity'+ name  + '.png', bbox_inches='tight', dpi=300)"
   ]
  },
  {
   "cell_type": "code",
   "execution_count": null,
   "id": "82be170d",
   "metadata": {},
   "outputs": [],
   "source": [
    "cpacities_nozeroes"
   ]
  },
  {
   "cell_type": "code",
   "execution_count": null,
   "id": "c6a8283f",
   "metadata": {
    "scrolled": true
   },
   "outputs": [],
   "source": [
    "cpacities_nozeroes.fillna(0, inplace=True)\n",
    "result = cpacities_nozeroes.sub(cpacities_nozeroes.iloc[0])\n",
    "axs10 = result.plot(kind='bar', stacked=True, color=colors) # figsize = (3,4)\n",
    "axs10.set_xticklabels(cpacities_nozeroes.index.values, rotation = 30,  rotation_mode=\"anchor\", ha=\"right\")\n",
    "plt.ylabel('Installed Capacity- EOM (GW)', fontsize='large')\n",
    "plt.legend(fontsize='large', loc='upper left', bbox_to_anchor=(1, 0.9))\n",
    "fig10 = axs10.get_figure()\n",
    "fig10.savefig(path_to_plots + '/' + 'Last year capacity difference'+ name  + '.png', bbox_inches='tight', dpi=300)"
   ]
  },
  {
   "cell_type": "code",
   "execution_count": null,
   "id": "c8a1a75c",
   "metadata": {},
   "outputs": [],
   "source": [
    "last_years_capacity = capacities_per_tech.loc[2080:2089].mean(axis = 0)\n",
    "a = last_years_capacity.to_frame()\n",
    "b = a.reset_index( level = [0 , 1] )\n",
    "c= b.pivot(index='scenario_name', columns='technology')\n",
    "result2 = c[0].sub(c.loc[\"EOM\"])\n",
    "result2.drop(\"EOM\", inplace = True)\n",
    "colors = [technology_colors[tech] for tech in result2[0].columns.values]\n"
   ]
  },
  {
   "cell_type": "code",
   "execution_count": null,
   "id": "f54e3f04",
   "metadata": {},
   "outputs": [],
   "source": [
    "result2[0].reindex(['CS', 'CS_RO', 'CS_noMinPrice', 'CS_noMemory'])"
   ]
  },
  {
   "cell_type": "code",
   "execution_count": null,
   "id": "f5ee9f33",
   "metadata": {},
   "outputs": [],
   "source": [
    "axs11 = result2[0].plot(kind='bar', stacked=True, color=colors, figsize = (3,4))\n",
    "axs11.set_xticklabels(result2.index.values, rotation = 30,  rotation_mode=\"anchor\", ha=\"right\")\n",
    "#plt.ylabel('avg. installed Capacity - EOM \\n last simulation years \\n  [GW] ', fontsize='large')\n",
    "plt.ylabel('avg. installed Capacity [GW] \\n difference to EOM  ', fontsize='large')\n",
    "plt.xlabel('', fontsize='large')\n",
    "plt.legend(fontsize='large', loc='upper left', bbox_to_anchor=(1, 0.9))\n",
    "fig11 = axs11.get_figure()\n",
    "fig11.savefig(path_to_plots + '/' + 'Last years capacity difference'+ name  + '.png', bbox_inches='tight', dpi=300)"
   ]
  },
  {
   "cell_type": "code",
   "execution_count": null,
   "id": "7d3431cc",
   "metadata": {},
   "outputs": [],
   "source": [
    "fig, axes = plt.subplots(nrows=2, ncols=1, figsize=(5,8))\n",
    "capacities_per_tech = capacities_per_tech.fillna(0)\n",
    "dispatchable_capacity = pd.DataFrame()\n",
    "for scenario in selected_scenarios:\n",
    "    dispatchable_capacity[scenario] = capacities_per_tech[scenario][\"hydrogen CCGT\"] + capacities_per_tech[scenario][\"hydrogen OCGT\"] \\\n",
    "                            + capacities_per_tech[scenario][\"Nuclear\"] + capacities_per_tech[scenario][\"Biofuel\"]\n",
    "dispatchable_capacity.index = dispatchable_capacity.index - 2050\n",
    "\n",
    "axs1 =dispatchable_capacity.plot(ax = axes[0])\n",
    "axes[0].set_ylabel('Installed capacity \\n dispatchable technologies \\n [GW]' ,fontsize='large')\n",
    "# plt.legend(fontsize='medium',  bbox_to_anchor=(1,1))\n",
    "# fig3 = axs1.get_figure()\n",
    "# fig3.savefig(path_to_plots + '/' + 'OCGT plants.png', bbox_inches='tight', dpi=300)\n",
    "\n",
    "installedcapacities = pd.melt(capacities_per_tech.reset_index(),id_vars=[( 'index')])\n",
    "installedcapacities[\"index\"] = installedcapacities[\"index\"] -2050\n",
    "colors = [technology_colors[key] for key in installedcapacities[\"technology\"].unique()]\n",
    "a = sns.lineplot(x=\"index\", y=\"value\",  hue = \"technology\", style=\"scenario_name\",\n",
    "             data=installedcapacities, \n",
    "             palette=colors, ax = axes[1]\n",
    "           )\n",
    "plt.xlabel('Simulation years' ,fontsize='large')\n",
    "plt.ylabel('Installed capacity [GW]' ,fontsize='large')\n",
    "plt.legend(fontsize='medium',  bbox_to_anchor=(1,1.4))\n",
    "\n",
    "plt.savefig(path_to_plots + '/' + 'installed_capacity.png', bbox_inches='tight', dpi=300)"
   ]
  },
  {
   "cell_type": "code",
   "execution_count": null,
   "id": "b80fa1da",
   "metadata": {},
   "outputs": [],
   "source": [
    "# InstalledCapacity_data.drop([ 2090,2091,2092, 2092], inplace=True)\n",
    "axs2 = sns.lineplot(data=InstalledCapacity_data, palette=\"tab10\", linewidth=2.5)\n",
    "plt.grid()\n",
    "sns.set_style(\"whitegrid\")\n",
    "plt.grid()\n",
    "plt.xlabel('Years', fontsize='large')\n",
    "plt.ylabel('Installed Capacity MW', fontsize='large')\n",
    "plt.legend(fontsize='large',  bbox_to_anchor=(1, 1.1))\n",
    "#axs2.set_title('Market-based Cost recovery')\n",
    "fig2 = axs2.get_figure()\n",
    "fig2.savefig(path_to_plots + '/' + 'InstalledCapacity.png', bbox_inches='tight', dpi=300)\n"
   ]
  },
  {
   "cell_type": "code",
   "execution_count": null,
   "id": "worthy-board",
   "metadata": {
    "ExecuteTime": {
     "start_time": "2024-03-18T11:54:19.005939700Z"
    }
   },
   "outputs": [],
   "source": [
    "row_totals = cpacities_nozeroes.sum(axis=1)\n",
    "share_capacities = pd.DataFrame()\n",
    "# Create new columns with percentages for each column\n",
    "for column in cpacities_nozeroes.columns:\n",
    "    share_capacities[column] = (cpacities_nozeroes[column] / row_totals) * 100\n",
    "share_capacities"
   ]
  },
  {
   "cell_type": "code",
   "execution_count": null,
   "id": "b968d463",
   "metadata": {},
   "outputs": [],
   "source": [
    "median_annual_productionnozeros = median_annual_production[median_annual_production>0]\n",
    "median_annual_productionnozeros.dropna(how='all', axis =0, inplace=True)\n",
    "colors = [technology_colors[tech] for tech in median_annual_productionnozeros.index.values]\n",
    "axs10 = median_annual_productionnozeros.T.plot(kind='bar', stacked=True, color=colors, figsize = (3,4))\n",
    "sns.set_style(\"whitegrid\")\n",
    "# axs10.set_xticklabels(cpacities_nozeroes.index.values, rotation = 30,  rotation_mode=\"anchor\", ha=\"right\")\n",
    "plt.ylabel('Generation in last year (TWh)', fontsize='large')\n",
    "plt.legend(fontsize='large', loc='upper left', bbox_to_anchor=(1, 0.9))\n",
    "fig10 = axs10.get_figure()\n",
    "fig10.savefig(path_to_plots + '/' + 'Generation in last year(TWh) .png', bbox_inches='tight', dpi=300)"
   ]
  },
  {
   "cell_type": "code",
   "execution_count": null,
   "id": "scenic-pride",
   "metadata": {
    "ExecuteTime": {
     "start_time": "2024-03-18T11:54:19.009940700Z"
    }
   },
   "outputs": [],
   "source": [
    "axs7 = sns.lineplot(data=SupplyRatio_data, palette=\"tab10\", linewidth=2.5)\n",
    "plt.grid()\n",
    "sns.set_style(\"whitegrid\")\n",
    "plt.grid()\n",
    "plt.xlabel('Years', fontsize='large')\n",
    "plt.ylabel('Supply Ratio (%)', fontsize='large')\n",
    "#plt.legend(fontsize='large',  bbox_to_anchor=(1, 1.1))\n",
    "#axs7.set_title('Supply Ratio')\n",
    "fig7 = axs7.get_figure()\n",
    "fig7.savefig(path_to_plots + '/' + 'Supply Ratio.png', bbox_inches='tight', dpi=300)\n"
   ]
  },
  {
   "cell_type": "code",
   "execution_count": null,
   "id": "adolescent-germany",
   "metadata": {
    "ExecuteTime": {
     "start_time": "2024-03-18T11:54:19.011940700Z"
    }
   },
   "outputs": [],
   "source": [
    "percentage_RES = ShareRES_data\n",
    "axs8 = sns.lineplot(data=percentage_RES, palette=\"tab10\", linewidth=2.5)\n",
    "plt.grid()\n",
    "sns.set_style(\"whitegrid\")\n",
    "plt.grid()\n",
    "plt.xlabel('Years', fontsize='large')\n",
    "plt.ylabel('Share RES (%)', fontsize='large')\n",
    "plt.legend(fontsize='large',   bbox_to_anchor=(1, 1.1))\n",
    "#axs8.set_title('Share RES')\n",
    "fig8 = axs8.get_figure()\n",
    "fig8.savefig(path_to_plots + '/' + 'Share RES.png', bbox_inches='tight', dpi=300)"
   ]
  },
  {
   "cell_type": "code",
   "execution_count": null,
   "id": "ideal-trigger",
   "metadata": {
    "ExecuteTime": {
     "start_time": "2024-03-18T11:54:19.013939200Z"
    }
   },
   "outputs": [],
   "source": [
    "fig, axes = plt.subplots(nrows=1, ncols=2, figsize=(8, 5))\n",
    "H2Production_data_twh = (H2Production_data/1000000)# 74% electrolyzers efficiency\n",
    "IndustrialHeat_data_twh = (IndustrialHeat_data/1000000)\n",
    "axs1 = sns.boxplot( ax= axes[0], data=pd.melt(H2Production_data_twh), x=\"variable\", y=\"value\", legend=False)\n",
    "axes[0].set_title('Electrolyzers Load [TWh]', fontsize='large')\n",
    "axes[0].set_ylabel('', fontsize='large')\n",
    "axes[0].set_ylim(20, 150)\n",
    "plt.xticks(rotation=20, size = 15, ha='right') \n",
    "axs2 = sns.boxplot( ax= axes[1], data=pd.melt(IndustrialHeat_data_twh), x=\"variable\", y=\"value\")\n",
    "axes[1].set_title('Industrial heat load [TWh]', fontsize='large')\n",
    "axes[1].set_ylabel('', fontsize='large')\n",
    "# axes[1].set_ylim(20, 150)\n",
    "# plt.tight_layout()\n",
    "# plt.legend(fontsize='large',   bbox_to_anchor=(0, 0.0), loc='center left')\n",
    "plt.xticks(rotation=20, size = 15, ha='right') \n",
    "fig.savefig(path_to_plots + '/' + 'Electrolyzer_boxes.png', bbox_inches='tight', dpi=300)"
   ]
  },
  {
   "cell_type": "code",
   "execution_count": null,
   "id": "virgin-central",
   "metadata": {
    "ExecuteTime": {
     "start_time": "2024-03-18T11:54:19.015941400Z"
    }
   },
   "outputs": [],
   "source": [
    "Energy_consumed_in_electrolysis = 1/ 0.74\n",
    "#Hydrogen produced (kg) = Energy consumed in electrolysis (kWh) / LHV of hydrogen kWh/kg\n",
    "kg_hydrogen_per_kwh= Energy_consumed_in_electrolysis/ 33.6  \n",
    "ton_hydrogen_per_mwh = kg_hydrogen_per_kwh\n",
    "H2Production_tons = H2Production_data*ton_hydrogen_per_mwh\n",
    "axs1 = sns.catplot( data=pd.melt(H2Production_tons), x=\"variable\", y=\"value\",  kind=\"box\")\n",
    "plt.xlabel('', fontsize='large')\n",
    "plt.ylabel('Hydrogen produced [tons]', fontsize='large')\n",
    "plt.tight_layout()\n",
    "plt.xticks(rotation=20, size = 15)   \n",
    "axs1.savefig(path_to_plots + '/' + 'Hydrogen production_boxes.png', bbox_inches='tight', dpi=300)"
   ]
  },
  {
   "cell_type": "code",
   "execution_count": null,
   "id": "official-budapest",
   "metadata": {
    "ExecuteTime": {
     "start_time": "2024-03-18T11:54:19.016941500Z"
    }
   },
   "outputs": [],
   "source": [
    "# sns.set_theme(style=\"whitegrid\")\n",
    "# sns.set(font_scale=1.2)\n",
    "# sheet_name = \"groupedDecarbonizedNL\"\n",
    "# df = pd.read_excel(\"C:\\\\toolbox-amiris-emlab\\\\data\\\\Power_plants.xlsx\",\n",
    "#                    sheet_name=sheet_name)\n",
    "\n",
    "# colors = [technology_colors[tech] for tech in df[\"Technology\"].unique()]\n",
    "\n",
    "# fig1 = sns.relplot(x=\"Age\", y=\"Efficiency\", hue=\"Technology\", size=\"Capacity\",\n",
    "#                    sizes=(40, 400), alpha=.5, palette=colors,\n",
    "#                    height=6, data=df)\n",
    "# plt.xlabel(\"Age\", fontsize=\"large\")\n",
    "# plt.ylabel(\"Efficiency\", fontsize=\"large\")\n",
    "# fig1.savefig(path_to_plots + '/' + 'Initial_power_plants' +sheet_name + '.png', bbox_inches='tight', dpi=300)\n"
   ]
  },
  {
   "cell_type": "code",
   "execution_count": null,
   "id": "eebaee5c",
   "metadata": {},
   "outputs": [],
   "source": [
    "AverageNPVpertechnology = pd.read_excel(path_to_results, sheet_name='AverageNPVpertechnology',  header=[0,1], index_col=0)\n",
    "# AverageProfits_filtered = AverageProfitswLoans.loc[:, (slice(None), selected_scenarios)]\n",
    "AverageProfits_filtered = AverageProfitswLoans[selected_scenarios]\n",
    "#newlist = [s.split('.')[0] if '.' in s else s for s in AverageProfits_filtered.columns.levels[0]]\n",
    "colors = [technology_colors[key] for key in AverageProfits_filtered.columns.levels[1].unique()]\n",
    "\n",
    "AverageProfits_all =  pd.melt( AverageProfits_filtered.reset_index(), id_vars=[('index')])\n",
    "AverageProfits_all.replace(technology_names, inplace=True)\n",
    "# AverageProfits_all.columns = ['year', 'technology', 'scenario_name', 'value'] \n",
    "fig, ax = plt.subplots()\n",
    "sns.lineplot(x=\"index\", y=\"value\",  hue = \"technology\", style=\"scenario_name\",\n",
    "             data=AverageProfits_all,\n",
    "             palette=colors\n",
    "             ).set(xlabel='Simulation years', ylabel='Total profits with loans [€/MW]')\n",
    "plt.legend(fontsize='large',   bbox_to_anchor=(1, 1.1))\n",
    "ax.get_yaxis().set_major_formatter(\n",
    "    mpl.ticker.FuncFormatter(lambda x, p: format(int(x), ',')))\n",
    "plt.show()\n",
    "plt.savefig(path_to_plots + '/' + 'operational_profits.png', bbox_inches='tight', dpi=300)"
   ]
  },
  {
   "cell_type": "code",
   "execution_count": null,
   "id": "prescribed-january",
   "metadata": {
    "ExecuteTime": {
     "start_time": "2024-03-18T11:54:19.017941400Z"
    }
   },
   "outputs": [],
   "source": [
    "gasplants  = AverageProfitswLoans.xs('hydrogen OCGT', axis=1, level=1)\n",
    "gasplants_all = pd.melt(gasplants.reset_index(), id_vars=[( 'index')])\n",
    "# gasplants_all.columns = ['year', 'technology', 'scenario_name', 'value']\n",
    "fig, ax = plt.subplots()\n",
    "sns.lineplot(x=\"index\", y=\"value\",  hue=\"scenario_name\", # style = \"technology\"\n",
    "             data=gasplants_all, \n",
    "           ).set(xlabel='Simulation years', ylabel=' Total profits with loans [€/MW]')\n",
    "plt.legend(fontsize='large',   bbox_to_anchor=(1, 1.1))\n",
    "ax.get_yaxis().set_major_formatter(\n",
    "    mpl.ticker.FuncFormatter(lambda x, p: format(int(x), ',')))\n",
    "plt.savefig(path_to_plots + '/' + 'gas plants operational profit.png', bbox_inches='tight', dpi=300)\n"
   ]
  },
  {
   "cell_type": "code",
   "execution_count": null,
   "id": "0f5aca99",
   "metadata": {},
   "outputs": [],
   "source": [
    "\"\"\"\n",
    "yearly NPV of all plants calculated for all operational power plants\n",
    "\n",
    "\"\"\"\n",
    "colors = [technology_colors[key] for key in AverageNPVpertechnology.columns.levels[1].unique()]\n",
    "AverageNPVpertechnology_all = pd.melt(AverageNPVpertechnology.reset_index(),id_vars=[( 'years')])\n",
    "\n",
    "AverageNPVpertechnology_all.columns = ['year',  'scenario_name', 'technology', 'NPV']\n",
    "sns.lineplot(x=\"year\", y=\"NPV\",  hue = \"technology\", style=\"scenario_name\",\n",
    "             data=AverageNPVpertechnology_all, \n",
    "             palette=colors\n",
    "           ).set(xlabel='simulation years', ylabel='Average NPV (r = 0%) [Eur]')\n",
    "plt.legend(fontsize='large',   bbox_to_anchor=(1, 1.1))\n",
    "\n",
    "plt.savefig(path_to_plots + '/' + 'NPVs_0_dscount_rate.png', bbox_inches='tight', dpi=300)"
   ]
  },
  {
   "cell_type": "code",
   "execution_count": null,
   "id": "ff538593",
   "metadata": {},
   "outputs": [],
   "source": [
    "all_techs =[\"hydrogen OCGT\",\"hydrogen CCGT\",\"Lithium ion battery\" ,  \"Lithium ion battery 4\",\"Wind Offshore\", \"Wind Onshore\",\"Solar PV large\" ] \n",
    "dispatchable = AverageNPVpertechnology_all[AverageNPVpertechnology_all['technology'].isin(all_techs)]\n",
    "dispatchable.NPV = dispatchable.NPV/1000000\n",
    "axs1 = sns.catplot( data=dispatchable, hue=\"scenario_name\", y=\"NPV\", x=\"technology\", kind=\"box\" )\n",
    "axs1._legend.set_bbox_to_anchor((0.5, 0.8)) \n",
    "[plt.setp(ax.get_xticklabels(), rotation=20, ha=\"right\")for ax in axs1.axes.flat]\n",
    "plt.xlabel('', fontsize='large')\n",
    "plt.ylabel('Average NPV [mln. Eur]  \\n per installed MW', fontsize='large') #i=0\n",
    "#plt.legend(fontsize='small',   bbox_to_anchor=(0, 1.1))\n",
    "plt.tight_layout()\n",
    "axs1.savefig(path_to_plots + '/' + 'plants_all_' + name+'.png', bbox_inches='tight')"
   ]
  },
  {
   "cell_type": "code",
   "execution_count": null,
   "id": "b9081152",
   "metadata": {
    "ExecuteTime": {
     "start_time": "2024-03-18T11:54:19.020942500Z"
    }
   },
   "outputs": [],
   "source": [
    "options =[\"hydrogen OCGT\",\"Lithium ion battery\" ,  \"Lithium ion battery 4\"] #\"WTG_offshore\", \"WTG_onshore\",\"PV_utility_systems\" ] \n",
    "dispatchable = AverageNPVpertechnology_all[AverageNPVpertechnology_all['technology'].isin(options)]\n",
    "axs1 = sns.catplot( data=dispatchable, col=\"technology\", y=\"NPV\", x=\"scenario_name\", kind=\"box\")\n",
    "[plt.setp(ax.get_xticklabels(), rotation=20, ha=\"right\")for ax in axs1.axes.flat]\n",
    "plt.xlabel('', fontsize='large')\n",
    "plt.ylabel('Average NPV', fontsize='large')\n",
    "plt.tight_layout()\n",
    "axs1.savefig(path_to_plots + '/' + 'Dispatchable_plants_all.png', bbox_inches='tight')"
   ]
  },
  {
   "cell_type": "code",
   "execution_count": null,
   "id": "careful-korean",
   "metadata": {
    "ExecuteTime": {
     "start_time": "2024-03-18T11:54:19.021943200Z"
    }
   },
   "outputs": [],
   "source": [
    "sns.lineplot(x=\"year\", y=\"NPV\",  hue = \"technology\",# style=\"scenario_name\",\n",
    "            data=AverageNPVpertechnology_all,    palette=colors).set(xlabel='years', ylabel='NPV [Eur]')\n",
    "plt.legend(fontsize='large',   bbox_to_anchor=(1, 1.1))\n",
    "plt.savefig(path_to_plots + '/' + 'NPVs_0_dscount_rate_all.png', bbox_inches='tight', dpi=300)"
   ]
  },
  {
   "cell_type": "code",
   "execution_count": null,
   "id": "split-waterproof",
   "metadata": {
    "ExecuteTime": {
     "start_time": "2024-03-18T11:54:19.022943200Z"
    }
   },
   "outputs": [],
   "source": [
    "# FLH_data = pd.read_excel(path_to_results, sheet_name='FLH', index_col=0)\n",
    "# Years_data = pd.read_excel(path_to_results, sheet_name='YEARS', index_col=0)"
   ]
  },
  {
   "cell_type": "code",
   "execution_count": null,
   "id": "laden-communication",
   "metadata": {
    "ExecuteTime": {
     "start_time": "2024-03-18T11:54:19.023943100Z"
    }
   },
   "outputs": [],
   "source": [
    "min_val = InstalledCapacity_data.min()\n",
    "max_val = InstalledCapacity_data.max()\n",
    "normalized_capacity = (InstalledCapacity_data - min_val) / (max_val - min_val)\n",
    "normalized_capacity.head()"
   ]
  },
  {
   "cell_type": "code",
   "execution_count": null,
   "id": "increasing-officer",
   "metadata": {
    "ExecuteTime": {
     "start_time": "2024-03-18T11:54:19.024944700Z"
    }
   },
   "outputs": [],
   "source": [
    "normalized_capacity.plot(linestyle='dashed')\n",
    "plt.legend(fontsize='large', loc='upper left', bbox_to_anchor=(1, 1.1))"
   ]
  },
  {
   "cell_type": "code",
   "execution_count": null,
   "id": "theoretical-monaco",
   "metadata": {
    "ExecuteTime": {
     "start_time": "2024-03-18T11:54:19.030941200Z"
    }
   },
   "outputs": [],
   "source": [
    "# for i, col1 in enumerate(normalized_FLH.columns):\n",
    "#     if i ==0: \n",
    "#         pass\n",
    "#     else:\n",
    "#         filteredrows =  (normalized_FLH[col1] >= 0.8) & (normalized_FLH[col1] <= 1)\n",
    "#         plt.scatter(normalized_FLH[col1][filteredrows],\n",
    "#                     normalized_capacity[col1][filteredrows],\n",
    "#                     c=normalized_ElectricityPrices[col1][filteredrows], cmap=bwr_reversed,  alpha=0.5) \n",
    "# plt.xlabel('normalized Full Load hours')\n",
    "# plt.ylabel(\"normalized Installed Capacity\")\n",
    "\n",
    "# plt.legend()\n",
    "# plt.savefig(path_to_plots + '/' + 'yearly_capacity_FLH.png', bbox_inches='tight', dpi=300)"
   ]
  },
  {
   "cell_type": "code",
   "execution_count": null,
   "id": "vulnerable-mining",
   "metadata": {
    "ExecuteTime": {
     "start_time": "2024-03-18T11:54:19.031941100Z"
    }
   },
   "outputs": [],
   "source": [
    "#ElectricityPrices_data_minus2050  = ElectricityPrices_data.drop(2050)"
   ]
  },
  {
   "cell_type": "code",
   "execution_count": null,
   "id": "transsexual-guess",
   "metadata": {
    "ExecuteTime": {
     "start_time": "2024-03-18T11:54:19.032941100Z"
    }
   },
   "outputs": [],
   "source": [
    "# for i, col1 in enumerate(normalized_FLH.columns):\n",
    "#     if i ==0: \n",
    "#         pass\n",
    "#     else:\n",
    "#         plt.scatter(full_load_hours[col1], InstalledCapacity_data[col1]/1000, \n",
    "#                     c=ElectricityPrices_data_minus2050[col1], cmap=bwr_reversed,  alpha=0.5) \n",
    "# plt.xlabel(' average full Load hours (wind + solar)')\n",
    "# plt.ylabel(\"Installed Capacity GW\")        \n",
    "# plt.colorbar( orientation='vertical',\n",
    "#              label=\"Yearly Electricity prices Eur/MWh\")\n",
    "\n",
    "# plt.savefig(path_to_plots + '/' + 'yearly_capacity_vs_FLH.png', bbox_inches='tight', dpi=300)        "
   ]
  },
  {
   "cell_type": "code",
   "execution_count": null,
   "id": "derived-martial",
   "metadata": {
    "ExecuteTime": {
     "start_time": "2024-03-18T11:54:19.033941300Z"
    }
   },
   "outputs": [],
   "source": [
    "# H2Production_data_twh_clean = H2Production_data_twh.drop(2050)"
   ]
  },
  {
   "cell_type": "code",
   "execution_count": null,
   "id": "novel-spending",
   "metadata": {
    "ExecuteTime": {
     "start_time": "2024-03-18T11:54:19.034941700Z"
    }
   },
   "outputs": [],
   "source": [
    "# for i, col1 in enumerate(normalized_FLH.columns):\n",
    "#     if i ==0: \n",
    "#         pass\n",
    "#     else:\n",
    "#         plt.scatter(normalized_FLH[col1], normalized_capacity[col1], \n",
    "#                     c=H2Production_data_twh_clean[col1], cmap=bwr_reversed,  alpha=0.5) \n",
    "# plt.colorbar( orientation='vertical',\n",
    "#              label=\"hydrogen production\")        \n",
    "# plt.xlabel('normalized Full Load hours')\n",
    "# plt.ylabel(\"normalized Installed Capacity\")   "
   ]
  },
  {
   "cell_type": "code",
   "execution_count": null,
   "id": "considered-water",
   "metadata": {
    "ExecuteTime": {
     "start_time": "2024-03-18T11:54:19.035941500Z"
    }
   },
   "outputs": [],
   "source": [
    "# Years_data[\"year\"] = Years_data.index.values + 2050\n",
    "# Years_data.set_index('year', inplace = True)\n",
    "# Years_data.drop(2050, inplace = True)"
   ]
  },
  {
   "cell_type": "code",
   "execution_count": null,
   "id": "unique-heading",
   "metadata": {
    "ExecuteTime": {
     "start_time": "2024-03-18T11:54:19.035941500Z"
    }
   },
   "outputs": [],
   "source": [
    "# high_electricity_years = Years_data[ElectricityPrices_data>50]\n",
    "# high_electricity_years_all = pd.melt(high_electricity_years )\n",
    "# high_electricity_years_all.drop(\"variable\", axis = 1, inplace = True)"
   ]
  },
  {
   "cell_type": "code",
   "execution_count": null,
   "id": "administrative-public",
   "metadata": {
    "ExecuteTime": {
     "start_time": "2024-03-18T11:54:19.037941100Z"
    }
   },
   "outputs": [],
   "source": [
    "# high_electricity_years_all.value_counts()\n",
    "# count_per_row = high_electricity_years.apply(lambda row: row.value_counts(), axis=1)\n",
    "# print(count_per_row)"
   ]
  },
  {
   "cell_type": "code",
   "execution_count": null,
   "id": "macro-approval",
   "metadata": {
    "ExecuteTime": {
     "start_time": "2024-03-18T11:54:19.039941200Z"
    }
   },
   "outputs": [],
   "source": [
    "melted_electricity_prices = ElectricityPrices_data[selected_scenarios].copy()\n",
    "melted_electricity_prices.reset_index(inplace = True)\n",
    "melted_electricity_prices =melted_electricity_prices.melt(id_vars='index', var_name='Variable', value_name='Value')\n",
    "melted_electricity_prices.rename(columns={'index': 'year'}, inplace = True)"
   ]
  },
  {
   "cell_type": "code",
   "execution_count": null,
   "id": "attractive-groove",
   "metadata": {
    "ExecuteTime": {
     "start_time": "2024-03-18T11:54:19.040941800Z"
    }
   },
   "outputs": [],
   "source": [
    "melted_LOLE = LOL_data[selected_scenarios].copy()\n",
    "melted_LOLE.reset_index(inplace=True)\n",
    "melted_LOLE = melted_LOLE.melt(id_vars='year', var_name='Variable', value_name='Value')\n",
    "\n",
    "melted_cost_recovery = CostRecovery_data[selected_scenarios].copy()\n",
    "melted_cost_recovery.reset_index(inplace=True)\n",
    "melted_cost_recovery = melted_cost_recovery.melt(id_vars='index', var_name='Variable', value_name='Value') \n",
    "\n",
    "ENS= ENS_data.copy()\n",
    "ENS_GWh = ENS/1000\n",
    "melted_ENS = ENS_GWh[selected_scenarios].copy()\n",
    "melted_ENS.reset_index(inplace=True)\n",
    "melted_ENS = melted_ENS.melt(id_vars='index', var_name='Variable', value_name='Value')\n",
    "\n",
    "melted_H2Production_data_twh = H2Production_data_twh[selected_scenarios].copy()\n",
    "melted_H2Production_data_twh.reset_index(inplace = True)\n",
    "melted_H2Production_data_twh.head()\n",
    "melted_H2Production_data_twh =melted_H2Production_data_twh.melt(id_vars='index', var_name='Variable', value_name='Value')"
   ]
  },
  {
   "cell_type": "code",
   "execution_count": null,
   "id": "satisfied-portrait",
   "metadata": {
    "ExecuteTime": {
     "start_time": "2024-03-18T11:54:19.041943600Z"
    }
   },
   "outputs": [],
   "source": [
    "\n",
    "# fig, axes= plt.subplots(nrows=5, ncols=1, figsize=(5, 6))\n",
    "# axes[0].set_ylabel('LOLE \\n [hours]', fontsize='medium')\n",
    "# LOL_data[\"fix_profiles\"].plot( ax=axes[0], color = \"green\")\n",
    "# LOL_data[\"stochastic_increase_demand\"].plot( ax=axes[0], color = \"red\", linestyle='dashed')\n",
    "# sns.lineplot(x=\"year\", y=\"Value\",ax=axes[0],  data=melted_LOLE[melted_LOLE[\"Variable\"].isin(selected_scenarios)],\n",
    "#             errorbar=('ci', 100))\n",
    "# axes[0].legend([\"baseline\",\"increasing demand\", \"mean stochastic profiles\", \"stochastic profiles\"], fontsize='medium',  bbox_to_anchor=(1 , 1))\n",
    "# axes[0].set_xticklabels([])\n",
    "# axes[0].set_xlabel([])\n",
    "\n",
    "# axes[1].set_ylabel('EENS \\n [GWh]', fontsize='medium')\n",
    "# ENS_GWh[\"fix_profiles\"].plot( ax=axes[1], color = \"green\")\n",
    "# ENS_GWh[\"stochastic_increase_demand\"].plot( ax=axes[1], color = \"red\", linestyle='dashed')\n",
    "# sns.lineplot(x=\"year\", y=\"Value\",ax=axes[1],  data=melted_ENS[melted_ENS[\"Variable\"].isin(selected_scenarios)],\n",
    "#             errorbar=('ci', 100))\n",
    "# axes[1].legend().remove()\n",
    "# axes[1].set_xticklabels([])\n",
    "# axes[1].set_xlabel([])\n",
    "\n",
    "# axes[2].set_ylabel('WAvg \\n electricity \\n prices \\n [Eur/MWh]', fontsize='medium')\n",
    "# ElectricityPrices_data[\"fix_profiles\"].plot( ax=axes[2], color = \"green\")\n",
    "# ElectricityPrices_data[\"stochastic_increase_demand\"].plot( ax=axes[2], color = \"red\", linestyle='dashed')\n",
    "# sns.lineplot(x=\"year\", y=\"Value\", ax=axes[2], data=melted_electricity_prices[melted_electricity_prices[\"Variable\"].isin(selected_scenarios)],\n",
    "#             errorbar=('ci', 100))\n",
    "# axes[2].legend().remove()\n",
    "# axes[2].set_xticklabels([])\n",
    "# axes[2].set_xlabel([])\n",
    "\n",
    "# axes[3].set_ylabel('H2 \\n production \\n[TWh]', fontsize='medium')\n",
    "# sns.lineplot(x=\"year\", y=\"Value\", ax=axes[3], data=melted_H2Production_data_twh, errorbar=('ci', 100))\n",
    "# axes[3].set_xticklabels([])\n",
    "# axes[3].set_xlabel([])\n",
    "# H2Production_data_twh[\"fix_profiles\"].plot( ax=axes[3], color = \"green\")\n",
    "# H2Production_data_twh[\"stochastic_increase_demand\"].plot( ax=axes[3], color = \"red\", linestyle='dashed')\n",
    "\n",
    "# axes[4].set_ylabel('Cost \\nrecovery\\n %', fontsize='medium')\n",
    "# CostRecovery_data[\"fix_profiles\"].plot( ax=axes[4], color = \"green\")\n",
    "# CostRecovery_data[\"stochastic_increase_demand\"].plot( ax=axes[4], color = \"red\", linestyle='dashed')\n",
    "# sns.lineplot(x=\"year\", y=\"Value\", ax=axes[4], \n",
    "#              data=melted_cost_recovery[melted_cost_recovery[\"Variable\"].isin(selected_scenarios)],\n",
    "#             errorbar=('ci', 100))\n",
    "# axes[4].set_xlabel('Simulation years', fontsize='medium') \n",
    "# axes[4].legend().remove()\n",
    "# plt.subplots_adjust(hspace=0.2) \n",
    "# plt.savefig(path_to_plots + '/' + 'LOLE_prices_recovery.png', bbox_inches='tight', dpi=300)     "
   ]
  },
  {
   "cell_type": "code",
   "execution_count": null,
   "id": "identified-college",
   "metadata": {
    "ExecuteTime": {
     "start_time": "2024-03-18T11:54:19.043310200Z"
    }
   },
   "outputs": [],
   "source": [
    "# monthly_prices=  Monthly_ElectricityPrices_data[selected_scenarios].copy()\n",
    "# monthly_prices.reset_index(inplace = True)\n",
    "# monthly_prices.head()\n",
    "# monthly_prices =monthly_prices.melt(id_vars='years', var_name='Variable', value_name='Value')"
   ]
  },
  {
   "cell_type": "code",
   "execution_count": null,
   "id": "impressive-belief",
   "metadata": {
    "ExecuteTime": {
     "end_time": "2024-03-18T11:54:19.109976600Z",
     "start_time": "2024-03-18T11:54:19.043941700Z"
    }
   },
   "outputs": [],
   "source": [
    "fig, axes= plt.subplots(nrows=1, ncols=4, figsize=(13, 8))\n",
    "sns.boxplot( ax=axes[0], data=pd.melt(Monthly_ElectricityPrices_data),  x=\"variable\", y=\"value\")\n",
    "axes[0].set_title('Monthly Electricity Prices \\n Eur/MWh')\n",
    "#axes[0].set_xticks(rotation=90, size = 15)\n",
    "plt.xticks(rotation=90, size = 15)   \n",
    "\n",
    "sns.boxplot( data=pd.melt(ElectricityPrices_data), ax=axes[1], x=\"variable\", y=\"value\")\n",
    "axes[1].set_title('WAVG yearly Electricity Prices \\n [Eur/MWh] ', fontsize='large')\n",
    "plt.xticks(rotation=90, size = 15)   \n",
    "  \n",
    "sns.boxplot( data=pd.melt(ENS_data), ax=axes[2],  x=\"variable\", y=\"value\")\n",
    "axes[2].set_title('ENS [GWh]', fontsize='large')\n",
    "plt.xticks(rotation=90, size = 15)   \n",
    "\n",
    "sns.boxplot( data=pd.melt(H2Production_data_twh),  ax=axes[3], x=\"variable\", y=\"value\")\n",
    "axes[3].set_title('Hydrogen produced [tons]', fontsize='large')\n",
    "\n",
    "\n",
    "axes[0].set_ylabel('')\n",
    "axes[1].set_ylabel('')\n",
    "axes[2].set_ylabel('')\n",
    "axes[3].set_ylabel('')\n",
    "axes[0].set_xlabel('')\n",
    "axes[1].set_xlabel('')\n",
    "axes[2].set_xlabel('')\n",
    "axes[3].set_xlabel('')\n",
    "  \n",
    "plt.tight_layout()\n",
    "axs1.savefig(path_to_plots + '/' + 'All.png', bbox_inches='tight', dpi=300)\n"
   ]
  },
  {
   "cell_type": "code",
   "execution_count": null,
   "id": "absent-morgan",
   "metadata": {
    "ExecuteTime": {
     "start_time": "2024-03-18T11:54:19.046456100Z"
    }
   },
   "outputs": [],
   "source": [
    "# iterations_NPV =  AverageNPVpertechnology_all[AverageNPVpertechnology_all[\"scenario_name\"].isin(selected_scenarios)]\n",
    "# iterations_NPV_ = iterations_NPV.groupby([\"year\"])[\"value\"].describe()\n",
    "# fix_profiles_NPV =  AverageNPVpertechnology_all[AverageNPVpertechnology_all[\"scenario_name\"]==\"fix_profiles\"]\n",
    "# fix_profiles_NPV_ = fix_profiles_NPV.groupby([\"year\"])[\"value\"].describe()\n",
    "# stochasticNPV =  AverageNPVpertechnology_all[AverageNPVpertechnology_all[\"scenario_name\"]==\"stochastic_increase_demand\"]\n",
    "# stochasticNPV_ = stochasticNPV.groupby([\"index\"])[\"value\"].describe()\n",
    "# fix_profiles_profits =  AverageProfits_all[AverageProfits_all[\"scenario_name\"]==\"fix_profiles\"]\n",
    "# fix_profiles_profits_ = fix_profiles_profits.groupby([\"index\"])[\"value\"].describe()\n",
    "# stochastic_profits =  AverageProfits_all[AverageProfits_all[\"scenario_name\"]==\"stochastic_increase_demand\"]\n",
    "# stochastic_profits_ = stochastic_profits.groupby([\"index\"])[\"value\"].describe()\n",
    "# iterations_profits =  AverageProfits_all[AverageProfits_all[\"scenario_name\"].isin(selected_scenarios)]\n",
    "# iterations_profits_ = iterations_profits.groupby([\"year\"])[\"value\"].describe()\n",
    "# ser1 = pd.concat([fix_profiles_NPV_[[\"mean\", \"std\"]], stochasticNPV_[[\"mean\", \"std\"]], iterations_NPV_[[\"mean\", \"std\"]]], axis = 1)\n",
    "# ser2 = pd.concat([fix_profiles_profits_[[\"mean\", \"std\"]], stochastic_profits_[[\"mean\", \"std\"]], iterations_profits_[[\"mean\", \"std\"]]], axis = 1)\n",
    "# file = excelnpv =  os.path.join(path_to_plots,  \"NPVs.xlsx\")\n",
    "# with pd.ExcelWriter(file) as writer:\n",
    "#     ser1.to_excel(writer, sheet_name=\"npv\", index=False)\n",
    "#     ser2.to_excel(writer, sheet_name=\"profits\", index=False)"
   ]
  },
  {
   "cell_type": "code",
   "execution_count": null,
   "id": "referenced-account",
   "metadata": {
    "ExecuteTime": {
     "start_time": "2024-03-18T11:54:19.052962100Z"
    }
   },
   "outputs": [],
   "source": [
    "column_name_mapping = {\n",
    "    'iteration1': 'stochastic profiles',\n",
    "    'iteration2': 'stochastic profiles',\n",
    "    'iteration3': 'stochastic profiles',\n",
    "    'iteration4': 'stochastic profiles',\n",
    "    'iteration5': 'stochastic profiles',    \n",
    "    'iteration6': 'stochastic profiles',\n",
    "    'iteration7': 'stochastic profiles',\n",
    "    'iteration8': 'stochastic profiles',\n",
    "    'iteration9': 'stochastic profiles',\n",
    "    'iteration10': 'stochastic profiles',\n",
    "    'stochastic_increase_demand': 'increasing demand',\n",
    "    'fix_profiles': 'baseline',\n",
    "}"
   ]
  },
  {
   "cell_type": "code",
   "execution_count": null,
   "id": "endangered-behalf",
   "metadata": {
    "ExecuteTime": {
     "start_time": "2024-03-18T11:54:19.054962800Z"
    }
   },
   "outputs": [],
   "source": [
    "# Use the rename method to change column names\n",
    "NPVNewPlants_data = NPVNewPlants_data.loc[[\"Solar PV large\", \"Wind Offshore\",\"Wind Onshore\", \"hydrogen OCGT\",  \"Lithium ion battery 4\"]]\n",
    "colors = []\n",
    "for t in NPVNewPlants_data.index: \n",
    "    colors.append(technology_colors[t])\n",
    "sns.set_palette(sns.color_palette(colors))\n",
    "\n",
    "NPVNewPlants_data.rename(columns=column_name_mapping, inplace=True)\n",
    "meltedNPV =  pd.melt(NPVNewPlants_data.reset_index(), id_vars='index')\n",
    "meltedNPV.rename(columns={'variable': 'CRM'}, inplace=True)\n",
    "# sns.boxplot(x=\"index\", y=\"value\",  hue=\"variable\",\n",
    "#             data=meltedNPV)\n",
    "# sns.stripplot(x=\"index\", y=\"value\",  hue=\"variable\",\n",
    "#             data=meltedNPV, dodge=True , legend = False).set(xlabel='', ylabel='')\n",
    "sns.barplot(meltedNPV, x=\"CRM\", y=\"value\", hue=\"index\")\n",
    "plt.ylabel('NPV new plants [Eur]', fontsize='medium') \n",
    "plt.legend(fontsize='large',   bbox_to_anchor=(1, 1.1))\n",
    "\n",
    "plt.xticks(rotation=45, size = 15, ha=\"right\")\n",
    "plt.savefig(path_to_plots + '/' + 'NPV'+ name  + '.png', bbox_inches='tight', dpi=300) "
   ]
  },
  {
   "cell_type": "code",
   "execution_count": null,
   "id": "pointed-flooring",
   "metadata": {
    "ExecuteTime": {
     "start_time": "2024-03-18T11:54:19.056962100Z"
    }
   },
   "outputs": [],
   "source": [
    "IRRNewPlants_raw = IRRNewPlants_data.loc[[\"Solar PV large\", \"Wind Offshore\",\"Wind Onshore\", \"hydrogen OCGT\", \"Lithium ion battery 4\"]]\n",
    "IRRNewPlants = IRRNewPlants_raw*100\n",
    "IRRNewPlants.rename(columns=column_name_mapping, inplace=True)\n",
    "\n",
    "#IRRNewPlants.rename(index=technology_names, inplace=True)\n",
    "meltedIRR =  pd.melt(IRRNewPlants.reset_index(), id_vars='index')\n",
    "sns.barplot(meltedIRR, x=\"variable\", y=\"value\", hue=\"index\")\n",
    "plt.xticks(rotation=45, size = 15,  ha=\"right\")\n",
    "# fig, ax = plt.subplots()\n",
    "# ax = sns.boxplot(x=\"index\", y=\"value\",  hue=\"variable\",\n",
    "#             data=meltedIRR).set(xlabel='', ylabel='IRR  %')\n",
    "# sns.stripplot(x=\"index\", y=\"value\",  hue=\"variable\",\n",
    "#             data=meltedIRR, dodge=True , legend = False).set(xlabel='', ylabel='')\n",
    "plt.xlabel('',)\n",
    "plt.legend( title=\"\", loc='upper left', fontsize='large' ,bbox_to_anchor=(1, 1.1))\n",
    "plt.ylabel('IRR new plants [%]', fontsize='medium') \n",
    "plt.savefig(path_to_plots + '/' + 'IRRNewPlants'+ name  + '.png', bbox_inches='tight', dpi=300)\n"
   ]
  },
  {
   "cell_type": "code",
   "execution_count": null,
   "id": "e1e77709",
   "metadata": {},
   "outputs": [],
   "source": [
    "colors = [technology_colors[tech] for tech in lifetimeExtension.index.values]"
   ]
  },
  {
   "cell_type": "code",
   "execution_count": null,
   "id": "37458c9a",
   "metadata": {
    "ExecuteTime": {
     "start_time": "2024-03-18T11:54:19.058961400Z"
    }
   },
   "outputs": [],
   "source": [
    "meltedlifetimeExtension =  pd.melt(lifetimeExtension.reset_index(), id_vars='Technology')\n",
    "meltedlifetimeExtension.rename(columns={\"variable\":\"CRM\", \"value\": \"years\"}, inplace=True)\n",
    "sns.set_palette(sns.color_palette(colors))\n",
    "sns.catplot(data=meltedlifetimeExtension, x=\"CRM\" ,y = \"years\", hue=\"Technology\")\n",
    "plt.xticks(rotation=45, ha=\"right\") \n",
    "plt.ylabel('avg. Lifetime extension [y]', fontsize='medium') \n",
    "plt.savefig(path_to_plots + '/' + 'lifetimeExtension'+ name  + '.png', bbox_inches='tight', dpi=300)"
   ]
  },
  {
   "cell_type": "code",
   "execution_count": null,
   "id": "3457be64",
   "metadata": {
    "ExecuteTime": {
     "start_time": "2024-03-18T11:54:19.059961800Z"
    }
   },
   "outputs": [],
   "source": [
    "yearlyIRRs = pd.read_excel(path_to_results, sheet_name='yearlyIRRs',  header=[0,1], index_col=0)\n",
    "totalyearlyIRRs = yearlyIRRs.mean().to_frame().reset_index().reindex()\n",
    "colors2 =[]\n",
    "for t in totalyearlyIRRs.technology: \n",
    "    colors2.append(technology_colors[t])\n",
    "sns.set_palette(sns.color_palette(colors2))\n",
    "axes = sns.barplot(totalyearlyIRRs,y =0, x=\"scenario_name\", hue=\"technology\")\n",
    "sns.move_legend(axes, \"upper left\", bbox_to_anchor=(1, 1))\n",
    "plt.xlabel('')\n",
    "plt.xticks(rotation=45, ha=\"right\") \n",
    "plt.ylabel('yearly average IRR %', fontsize='medium') \n",
    "plt.savefig(path_to_plots + '/' + 'yearlyIRRs'+ name  + '.png', bbox_inches='tight', dpi=300)"
   ]
  },
  {
   "cell_type": "code",
   "execution_count": null,
   "id": "01f40d68",
   "metadata": {},
   "outputs": [],
   "source": [
    "yearlyIRRsmelted =  pd.melt(yearlyIRRs.reset_index(),id_vars=[( 'years')])"
   ]
  },
  {
   "cell_type": "code",
   "execution_count": null,
   "id": "3dfbdcfc",
   "metadata": {},
   "outputs": [],
   "source": [
    "all_techs =[\"hydrogen OCGT\",\"hydrogen CCGT\",\"Lithium ion battery\" ,  \"Lithium ion battery 4\",\"Wind Offshore\", \"Wind Onshore\",\"Solar PV large\" ] \n",
    "yearlyIRR_filtered = yearlyIRRsmelted[yearlyIRRsmelted['technology'].isin(all_techs)]\n",
    "axs1 = sns.catplot( data=yearlyIRR_filtered, hue=\"scenario_name\", y=\"value\", x=\"technology\", kind=\"box\" )\n",
    "axs1._legend.set_bbox_to_anchor((0.5, 0.8)) \n",
    "[plt.setp(ax.get_xticklabels(), rotation=20, ha=\"right\")for ax in axs1.axes.flat]\n",
    "plt.xlabel('', fontsize='large')\n",
    "plt.ylabel('Average IRR', fontsize='large') #i=0\n",
    "#plt.legend(fontsize='small',   bbox_to_anchor=(0, 1.1))\n",
    "plt.tight_layout()\n",
    "axs1.savefig(path_to_plots + '/' + 'yearl_IRR_boxes' + name+'.png', bbox_inches='tight')"
   ]
  },
  {
   "cell_type": "code",
   "execution_count": null,
   "id": "7959980c",
   "metadata": {
    "ExecuteTime": {
     "start_time": "2024-03-18T11:54:19.059961800Z"
    }
   },
   "outputs": [],
   "source": [
    "load_mapping = {\n",
    "    '1': 'Load shedded',\n",
    "    '2': 'DSR',\n",
    "\n",
    "}\n",
    "voluntaryENS = pd.read_excel(path_to_results, sheet_name='voluntaryENS',  header=[0,1], index_col=0)\n",
    "voluntaryENS.rename(columns=load_mapping, inplace=True)\n",
    "voluntaryENS = voluntaryENS/1000\n",
    "axs1 = sns.catplot( data=pd.melt(voluntaryENS),  y=\"value\", x=\"load_type\",hue=\"scenario_name\", kind=\"box\")\n",
    "# [plt.setp(ax.get_xticklabels(), rotation=20, ha=\"right\")for ax in axs1.axes.flat]\n",
    "axs1.legend.set_title(None)\n",
    "plt.xlabel('', fontsize='large')\n",
    "plt.ylabel('ENS [GWh]', fontsize='large')\n",
    "#plt.tight_layout()\n",
    "plt.savefig(path_to_plots + '/' + 'unsubscribedENS'+ name  + '.png', bbox_inches='tight', dpi=300)"
   ]
  },
  {
   "cell_type": "code",
   "execution_count": null,
   "id": "a2250dd9",
   "metadata": {},
   "outputs": [],
   "source": [
    "if \"SR\" in selected_scenarios:\n",
    "    SRhours = pd.read_excel(path_to_results, sheet_name='SRhours', index_col=0)\n",
    "    axs1 = sns.catplot( data=pd.melt(SRhours), x=\"variable\", y=\"value\",  kind=\"box\")\n",
    "    plt.ylabel('SR activation hours [H]', fontsize='large')\n",
    "    plt.xlabel('SR activation hours [H]', fontsize='large')\n",
    "    axs1.savefig(path_to_plots + '/' + 'SR activation hours'+ name  + '.png', bbox_inches='tight', dpi=300)\n",
    "    SRhours.plot()\n",
    "#    sns.set_palette(sns.color_palette(default_colors))"
   ]
  },
  {
   "cell_type": "code",
   "execution_count": null,
   "id": "3794705b",
   "metadata": {},
   "outputs": [],
   "source": [
    "fig = plt.figure()\n",
    "sns.set_palette(sns.color_palette(default_colors))\n",
    "fig, axes= plt.subplots(nrows=1, ncols=2, figsize=(10, 5))\n",
    "g = sns.boxplot( data=pd.melt(LOL_data), hue=\"variable\", y=\"value\",  ax=axes[0], legend=False)\n",
    "plt.xlabel('', fontsize='large')\n",
    "axes[0].set_ylabel('LOL involuntary [h]', fontsize='large')\n",
    "\n",
    "# plt.xticks(rotation=30, size = 15,  ha='right') \n",
    "# plt.savefig(path_to_plots + '/' + 'LOLE_boxes'+ name  + '.png', bbox_inches='tight', dpi=300)\n",
    "\n",
    "voluntaryENS = pd.read_excel(path_to_results, sheet_name='voluntaryENS',  header=[0,1], index_col=0)\n",
    "voluntaryENS = voluntaryENS/1000\n",
    "voluntaryENS.rename(columns=load_mapping, inplace=True)\n",
    "if name == \"SR\":\n",
    "    DSR_at4000 = voluntaryENS.loc[:, ('SR_noDSR', 'DSR')] \n",
    "    voluntaryENS.loc[:, ('SR_noDSR', 'Load shedded')] = DSR_at4000\n",
    "    voluntaryENS.loc[:, ('SR_noDSR', 'DSR')] = 0 # the DSR was set at a price of 4000, so this is actually passed to LS \n",
    "\n",
    "sns.boxplot(ax=axes[1] ,data=pd.melt(voluntaryENS),  y=\"value\", x=\"load_type\",hue=\"scenario_name\" )\n",
    "\n",
    "#[plt.setp(ax.get_xticklabels(), rotation=20, ha=\"center\", fontsize='large')for ax in axs1.axes.flat]\n",
    "plt.xlabel('', fontsize='large')\n",
    "plt.ylabel('ENS [GWh]', fontsize='large')\n",
    "plt.tight_layout()\n",
    "plt.savefig(path_to_plots + '/' + 'voluntaryENS_LOLE'+ name  + '.png', bbox_inches='tight', dpi=300)"
   ]
  },
  {
   "cell_type": "code",
   "execution_count": null,
   "id": "f5e337fc",
   "metadata": {},
   "outputs": [],
   "source": [
    "fig = plt.figure(figsize=(3, 5))\n",
    "# sns.set_palette(sns.color_palette(default_colors))\n",
    "# fig, axes= plt.subplots(nrows=1, ncols=1, figsize=(10, 5))\n",
    "sns.boxplot( data=pd.melt(LOL_data), hue=\"variable\", y=\"value\",legend=False)\n",
    "# plt.legend(fontsize='medium',   bbox_to_anchor=(1, 1.1))\n",
    "plt.xlabel('', fontsize='large')\n",
    "plt.ylabel('LOL involuntary [h]', fontsize='large')\n",
    "fig.savefig(path_to_plots + '/' + 'LoLE'+ name  + '.png', bbox_inches='tight', dpi=300)"
   ]
  },
  {
   "cell_type": "code",
   "execution_count": null,
   "id": "78626f4e",
   "metadata": {},
   "outputs": [],
   "source": [
    "fig = plt.figure(figsize=(4, 5))\n",
    "# sns.set_palette(sns.color_palette(default_colors))\n",
    "# fig, axes= plt.subplots(nrows=1, ncols=1, figsize=(10, 5))\n",
    "g = sns.boxplot( data=pd.melt(voluntaryENS), y=\"value\", x=\"load_type\",hue=\"scenario_name\" )\n",
    "plt.legend(title = None, fontsize='medium',   bbox_to_anchor=(1, 1))\n",
    "g.legend_.set_title(None)\n",
    "plt.xlabel('', fontsize='large')\n",
    "plt.ylabel('ENS [GWh]', fontsize='large')\n",
    "fig.savefig(path_to_plots + '/' + 'voluntaryENS'+ name  + '.png', bbox_inches='tight', dpi=300)"
   ]
  },
  {
   "cell_type": "code",
   "execution_count": null,
   "id": "8deda3b0",
   "metadata": {},
   "outputs": [],
   "source": [
    "curtailed_Energy = pd.read_excel(path_to_results, sheet_name='VREScurtailed',  index_col=0)"
   ]
  },
  {
   "cell_type": "code",
   "execution_count": null,
   "id": "644b6610",
   "metadata": {},
   "outputs": [],
   "source": [
    "curtailed_Energy.plot()"
   ]
  },
  {
   "cell_type": "code",
   "execution_count": null,
   "id": "df5574ba",
   "metadata": {},
   "outputs": [],
   "source": [
    "final_year_capacities = cpacities_nozeroes.T\n",
    "data =final_year_capacities.values\n",
    "columns = list(range(0, len(final_year_capacities.columns))) #final_year_capacities.columns\n",
    "newcolumns = final_year_capacities.columns.insert(0, \"new\")\n",
    "rows = final_year_capacities.index\n",
    "\n",
    "n_rows = len(data)\n",
    "bar_width = 0.3\n",
    "index = np.arange(len(columns)) + bar_width\n",
    "\n",
    "# Initialize the vertical-offset for the stacked bar chart.\n",
    "offset = np.zeros(len(columns))\n",
    "\n",
    "# Plot bars and create text labels for the table\n",
    "cell_text = []\n",
    "fig, axs = plt.subplots()\n",
    "# for row in range(n_rows):\n",
    "#     plt.bar(index, data[row], bar_width,  color=colors[row])\n",
    "# plt.show()    \n",
    "\n",
    "# text with total\n",
    "total_row = final_year_capacities.sum(axis=0)\n",
    "total_df = pd.DataFrame(total_row).T\n",
    "total_df.index = ['Total']\n",
    "withtotal = pd.concat([final_year_capacities, total_df])\n",
    "\n",
    "for row in range(n_rows+ 1):\n",
    "\n",
    "    cell_text.append(['%1.1f' % (x ) for x in withtotal.values[row]])\n",
    "    \n",
    "rows = withtotal.index\n",
    "print(rows)\n",
    "colors_whit = colors\n",
    "colors_whit.append(\"white\")\n",
    "# Add a table at the bottom of the axes\n",
    "the_table = plt.table(cellText=cell_text,\n",
    "                      rowLabels=rows,\n",
    "                      rowColours=colors_whit,\n",
    "                      colLabels=columns,\n",
    "                      cellLoc ='center',\n",
    "                      loc='bottom')\n",
    "\n",
    "# Adjust layout to make room for the table:\n",
    "plt.subplots_adjust(left=0.2, bottom=0.2)\n",
    "plt.title('Final Capacities')\n",
    "plt.ylabel(\"Last year capacity\")\n",
    "\n",
    "ax = plt.gca()\n",
    "ax.xaxis.tick_top()\n",
    "ax.set_xticklabels(newcolumns, rotation = 30,  rotation_mode=\"anchor\", ha=\"left\")\n",
    "# plt.show()\n",
    "# plt.savefig(path_to_plots + '/' + 'Last year capacity with numbers.png')\n",
    "fig10 = plt.gcf()\n",
    "fig10.savefig(path_to_plots + '/' + 'Last year capacity with numbers.png', bbox_inches='tight', dpi=300)"
   ]
  },
  {
   "cell_type": "code",
   "execution_count": null,
   "id": "794f2838",
   "metadata": {},
   "outputs": [],
   "source": [
    "# full_load_hours = pd.DataFrame()\n",
    "# full_load_hours= Years_data.applymap(FLH_data['average'].get)\n",
    "# full_load_hours[\"year\"] = full_load_hours.index.values + 2050\n",
    "# full_load_hours.set_index('year', inplace = True)\n",
    "# full_load_hours.drop(2050, inplace = True)\n",
    "# min_val = full_load_hours.min()\n",
    "# max_val = full_load_hours.max()\n",
    "\n",
    "# normalized_FLH = (full_load_hours - min_val) / (max_val - min_val)\n",
    "# normalized_ElectricityPrices = ElectricityPrices_data.copy()\n",
    "# normalized_ElectricityPrices.drop(2050, inplace = True)\n",
    "# min_val = normalized_ElectricityPrices.min()\n",
    "# max_val = normalized_ElectricityPrices.max()\n",
    "# normalized_ElectricityPrices = (normalized_ElectricityPrices - min_val) / (max_val - min_val)\n",
    "\n",
    "# bwr_reversed = plt.cm.get_cmap('bwr')\n",
    "# num_columns = len(normalized_FLH.columns)\n",
    "# fig, axes = plt.subplots(nrows=2, ncols=6, figsize=(13, 8))\n",
    "\n",
    "# for i, col1 in enumerate(normalized_FLH.columns):\n",
    "#     print(col1)\n",
    "#     if i == 0:\n",
    "#         ax = axes[0,0]    \n",
    "#     elif  i % 2 == 0:\n",
    "#         ax =axes[0,round(i/2)]        \n",
    "#     else:\n",
    "#         ax = axes[1,math.floor(i/2)]    \n",
    "#     ax.scatter(normalized_FLH[col1], normalized_capacity[col1], c=normalized_ElectricityPrices[col1], cmap='viridis') \n",
    "#     ax.set_title(col1)\n",
    "#     ax.set_xlabel('normalized_FLH')\n",
    "#     ax.set_ylabel(\"normalized_capacity\")\n",
    "# # plt.xlabel('normalized_FLH')\n",
    "# # plt.ylabel(\"normalized_capacity\")\n",
    "\n",
    "# plt.tight_layout()\n",
    "# plt.show()"
   ]
  },
  {
   "cell_type": "code",
   "execution_count": null,
   "id": "83d63485",
   "metadata": {},
   "outputs": [],
   "source": []
  }
 ],
 "metadata": {
  "kernelspec": {
   "display_name": "Python 3 (ipykernel)",
   "language": "python",
   "name": "python3"
  },
  "language_info": {
   "codemirror_mode": {
    "name": "ipython",
    "version": 3
   },
   "file_extension": ".py",
   "mimetype": "text/x-python",
   "name": "python",
   "nbconvert_exporter": "python",
   "pygments_lexer": "ipython3",
   "version": "3.11.5"
  }
 },
 "nbformat": 4,
 "nbformat_minor": 5
}
